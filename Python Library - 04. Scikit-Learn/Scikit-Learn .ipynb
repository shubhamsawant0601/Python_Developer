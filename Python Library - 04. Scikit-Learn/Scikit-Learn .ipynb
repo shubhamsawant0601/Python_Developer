{
 "cells": [
  {
   "cell_type": "markdown",
   "id": "fc984c80",
   "metadata": {},
   "source": [
    "### Steps in a Machine Learning Project\n",
    "A Machine Learning Project involves the following steps:\n",
    "\n",
    "#### Defining the Problem:\n",
    "Define a problem statement, which addresses a business problem.\n",
    "#### Obtaining the Source Data:\n",
    "The raw data required to build a model can be presented in a single or multiple sources such as relational databases, and social networking sites.\n",
    "#### Understanding Data Through Visualization:\n",
    "Look into data and understand important features such as its mean, and spread.\n",
    "#### Preparing Data for Machine Learning Algorithms:\n",
    "Mostly, the captured raw data cannot be used to train using a Machine learning algorithm. The raw datasets have to be manipulated or transformed through one or more pre-processing steps.\n",
    "#### Choosing an algorithm:\n",
    "Based on features of data set, pick a suitable algorithm.\n",
    "#### Building the Model:\n",
    "Train the algorithm with considered training data set and verify its performance through a metric.\n",
    "#### Fine-tuning the Model:\n",
    "Identify values of vital parameters, associated with the chosen model for better performance.\n",
    "#### Use the best model:\n",
    "Use the model with better performance for addressing the defined problem."
   ]
  },
  {
   "cell_type": "markdown",
   "id": "1616ce74",
   "metadata": {},
   "source": [
    "### Scikit-Learn Utilities\n",
    "scikit-learn library has many utilities that can be used to perform the following tasks involved in Machine Learning.\n",
    "\n",
    "1. Preprocessing\n",
    "2. Model Selection\n",
    "3. Classification\n",
    "4. Regression\n",
    "5. Clustering\n",
    "6. Dimensionality Reduction\n",
    "\n",
    "### Steps with scikit-learn\n",
    "Mostly, one would perform the following steps while working on a Machine learning problem with scikit-learn:\n",
    "\n",
    "1. Cleaning raw data set.\n",
    "2. Further transforming with many scikit-learn pre-processing utilities.\n",
    "3. Splitting data into train and test sets with train_test_split utility.\n",
    "4. Creating a suitable model with default parameters.\n",
    "5. Training the Model using fit function.\n",
    "6. Evaluating the Model and fine-tuning it."
   ]
  },
  {
   "cell_type": "code",
   "execution_count": 1,
   "id": "777b0d59",
   "metadata": {},
   "outputs": [
    {
     "name": "stdout",
     "output_type": "stream",
     "text": [
      ".. _iris_dataset:\n",
      "\n",
      "Iris plants dataset\n",
      "--------------------\n",
      "\n",
      "**Data Set Characteristics:**\n",
      "\n",
      "    :Number of Instances: 150 (50 in each of three classes)\n",
      "    :Number of Attributes: 4 numeric, predictive attributes and the class\n",
      "    :Attribute Information:\n",
      "        - sepal length in cm\n",
      "        - sepal width in cm\n",
      "        - petal length in cm\n",
      "        - petal width in cm\n",
      "        - class:\n",
      "                - Iris-Setosa\n",
      "                - Iris-Versicolour\n",
      "                - Iris-Virginica\n",
      "                \n",
      "    :Summary Statistics:\n",
      "\n",
      "    ============== ==== ==== ======= ===== ====================\n",
      "                    Min  Max   Mean    SD   Class Correlation\n",
      "    ============== ==== ==== ======= ===== ====================\n",
      "    sepal length:   4.3  7.9   5.84   0.83    0.7826\n",
      "    sepal width:    2.0  4.4   3.05   0.43   -0.4194\n",
      "    petal length:   1.0  6.9   3.76   1.76    0.9490  (high!)\n",
      "    petal width:    0.1  2.5   1.20   0.76    0.9565  (high!)\n",
      "    ============== ==== ==== ======= ===== ====================\n",
      "\n",
      "    :Missing Attribute Values: None\n",
      "    :Class Distribution: 33.3% for each of 3 classes.\n",
      "    :Creator: R.A. Fisher\n",
      "    :Donor: Michael Marshall (MARSHALL%PLU@io.arc.nasa.gov)\n",
      "    :Date: July, 1988\n",
      "\n",
      "The famous Iris database, first used by Sir R.A. Fisher. The dataset is taken\n",
      "from Fisher's paper. Note that it's the same as in R, but not as in the UCI\n",
      "Machine Learning Repository, which has two wrong data points.\n",
      "\n",
      "This is perhaps the best known database to be found in the\n",
      "pattern recognition literature.  Fisher's paper is a classic in the field and\n",
      "is referenced frequently to this day.  (See Duda & Hart, for example.)  The\n",
      "data set contains 3 classes of 50 instances each, where each class refers to a\n",
      "type of iris plant.  One class is linearly separable from the other 2; the\n",
      "latter are NOT linearly separable from each other.\n",
      "\n",
      ".. topic:: References\n",
      "\n",
      "   - Fisher, R.A. \"The use of multiple measurements in taxonomic problems\"\n",
      "     Annual Eugenics, 7, Part II, 179-188 (1936); also in \"Contributions to\n",
      "     Mathematical Statistics\" (John Wiley, NY, 1950).\n",
      "   - Duda, R.O., & Hart, P.E. (1973) Pattern Classification and Scene Analysis.\n",
      "     (Q327.D83) John Wiley & Sons.  ISBN 0-471-22361-1.  See page 218.\n",
      "   - Dasarathy, B.V. (1980) \"Nosing Around the Neighborhood: A New System\n",
      "     Structure and Classification Rule for Recognition in Partially Exposed\n",
      "     Environments\".  IEEE Transactions on Pattern Analysis and Machine\n",
      "     Intelligence, Vol. PAMI-2, No. 1, 67-71.\n",
      "   - Gates, G.W. (1972) \"The Reduced Nearest Neighbor Rule\".  IEEE Transactions\n",
      "     on Information Theory, May 1972, 431-433.\n",
      "   - See also: 1988 MLC Proceedings, 54-64.  Cheeseman et al\"s AUTOCLASS II\n",
      "     conceptual clustering system finds 3 classes in the data.\n",
      "   - Many, many more ...\n"
     ]
    },
    {
     "data": {
      "text/html": [
       "<div>\n",
       "<style scoped>\n",
       "    .dataframe tbody tr th:only-of-type {\n",
       "        vertical-align: middle;\n",
       "    }\n",
       "\n",
       "    .dataframe tbody tr th {\n",
       "        vertical-align: top;\n",
       "    }\n",
       "\n",
       "    .dataframe thead th {\n",
       "        text-align: right;\n",
       "    }\n",
       "</style>\n",
       "<table border=\"1\" class=\"dataframe\">\n",
       "  <thead>\n",
       "    <tr style=\"text-align: right;\">\n",
       "      <th></th>\n",
       "      <th>sepal length (cm)</th>\n",
       "      <th>sepal width (cm)</th>\n",
       "      <th>petal length (cm)</th>\n",
       "      <th>petal width (cm)</th>\n",
       "    </tr>\n",
       "  </thead>\n",
       "  <tbody>\n",
       "    <tr>\n",
       "      <th>0</th>\n",
       "      <td>5.1</td>\n",
       "      <td>3.5</td>\n",
       "      <td>1.4</td>\n",
       "      <td>0.2</td>\n",
       "    </tr>\n",
       "    <tr>\n",
       "      <th>1</th>\n",
       "      <td>4.9</td>\n",
       "      <td>3.0</td>\n",
       "      <td>1.4</td>\n",
       "      <td>0.2</td>\n",
       "    </tr>\n",
       "    <tr>\n",
       "      <th>2</th>\n",
       "      <td>4.7</td>\n",
       "      <td>3.2</td>\n",
       "      <td>1.3</td>\n",
       "      <td>0.2</td>\n",
       "    </tr>\n",
       "    <tr>\n",
       "      <th>3</th>\n",
       "      <td>4.6</td>\n",
       "      <td>3.1</td>\n",
       "      <td>1.5</td>\n",
       "      <td>0.2</td>\n",
       "    </tr>\n",
       "    <tr>\n",
       "      <th>4</th>\n",
       "      <td>5.0</td>\n",
       "      <td>3.6</td>\n",
       "      <td>1.4</td>\n",
       "      <td>0.2</td>\n",
       "    </tr>\n",
       "    <tr>\n",
       "      <th>...</th>\n",
       "      <td>...</td>\n",
       "      <td>...</td>\n",
       "      <td>...</td>\n",
       "      <td>...</td>\n",
       "    </tr>\n",
       "    <tr>\n",
       "      <th>145</th>\n",
       "      <td>6.7</td>\n",
       "      <td>3.0</td>\n",
       "      <td>5.2</td>\n",
       "      <td>2.3</td>\n",
       "    </tr>\n",
       "    <tr>\n",
       "      <th>146</th>\n",
       "      <td>6.3</td>\n",
       "      <td>2.5</td>\n",
       "      <td>5.0</td>\n",
       "      <td>1.9</td>\n",
       "    </tr>\n",
       "    <tr>\n",
       "      <th>147</th>\n",
       "      <td>6.5</td>\n",
       "      <td>3.0</td>\n",
       "      <td>5.2</td>\n",
       "      <td>2.0</td>\n",
       "    </tr>\n",
       "    <tr>\n",
       "      <th>148</th>\n",
       "      <td>6.2</td>\n",
       "      <td>3.4</td>\n",
       "      <td>5.4</td>\n",
       "      <td>2.3</td>\n",
       "    </tr>\n",
       "    <tr>\n",
       "      <th>149</th>\n",
       "      <td>5.9</td>\n",
       "      <td>3.0</td>\n",
       "      <td>5.1</td>\n",
       "      <td>1.8</td>\n",
       "    </tr>\n",
       "  </tbody>\n",
       "</table>\n",
       "<p>150 rows × 4 columns</p>\n",
       "</div>"
      ],
      "text/plain": [
       "     sepal length (cm)  sepal width (cm)  petal length (cm)  petal width (cm)\n",
       "0                  5.1               3.5                1.4               0.2\n",
       "1                  4.9               3.0                1.4               0.2\n",
       "2                  4.7               3.2                1.3               0.2\n",
       "3                  4.6               3.1                1.5               0.2\n",
       "4                  5.0               3.6                1.4               0.2\n",
       "..                 ...               ...                ...               ...\n",
       "145                6.7               3.0                5.2               2.3\n",
       "146                6.3               2.5                5.0               1.9\n",
       "147                6.5               3.0                5.2               2.0\n",
       "148                6.2               3.4                5.4               2.3\n",
       "149                5.9               3.0                5.1               1.8\n",
       "\n",
       "[150 rows x 4 columns]"
      ]
     },
     "execution_count": 1,
     "metadata": {},
     "output_type": "execute_result"
    }
   ],
   "source": [
    "from sklearn.datasets import load_iris\n",
    "\n",
    "dataset = load_iris()\n",
    "# DESCR - printing description of data\n",
    "print(dataset.DESCR)\n",
    "\n",
    "# Using parameters \"return_X_y\" for returning (data, target) and \"as_frame\" to return as dataframe\n",
    "data, target = load_iris(return_X_y = True, as_frame=True)\n",
    "data"
   ]
  },
  {
   "cell_type": "code",
   "execution_count": 2,
   "id": "9bcdcfa1",
   "metadata": {},
   "outputs": [
    {
     "data": {
      "text/plain": [
       "array([[5.1, 3.5, 1.4, 0.2],\n",
       "       [4.9, 3. , 1.4, 0.2],\n",
       "       [4.7, 3.2, 1.3, 0.2],\n",
       "       [4.6, 3.1, 1.5, 0.2],\n",
       "       [5. , 3.6, 1.4, 0.2],\n",
       "       [5.4, 3.9, 1.7, 0.4],\n",
       "       [4.6, 3.4, 1.4, 0.3],\n",
       "       [5. , 3.4, 1.5, 0.2],\n",
       "       [4.4, 2.9, 1.4, 0.2],\n",
       "       [4.9, 3.1, 1.5, 0.1],\n",
       "       [5.4, 3.7, 1.5, 0.2],\n",
       "       [4.8, 3.4, 1.6, 0.2],\n",
       "       [4.8, 3. , 1.4, 0.1],\n",
       "       [4.3, 3. , 1.1, 0.1],\n",
       "       [5.8, 4. , 1.2, 0.2],\n",
       "       [5.7, 4.4, 1.5, 0.4],\n",
       "       [5.4, 3.9, 1.3, 0.4],\n",
       "       [5.1, 3.5, 1.4, 0.3],\n",
       "       [5.7, 3.8, 1.7, 0.3],\n",
       "       [5.1, 3.8, 1.5, 0.3],\n",
       "       [5.4, 3.4, 1.7, 0.2],\n",
       "       [5.1, 3.7, 1.5, 0.4],\n",
       "       [4.6, 3.6, 1. , 0.2],\n",
       "       [5.1, 3.3, 1.7, 0.5],\n",
       "       [4.8, 3.4, 1.9, 0.2],\n",
       "       [5. , 3. , 1.6, 0.2],\n",
       "       [5. , 3.4, 1.6, 0.4],\n",
       "       [5.2, 3.5, 1.5, 0.2],\n",
       "       [5.2, 3.4, 1.4, 0.2],\n",
       "       [4.7, 3.2, 1.6, 0.2],\n",
       "       [4.8, 3.1, 1.6, 0.2],\n",
       "       [5.4, 3.4, 1.5, 0.4],\n",
       "       [5.2, 4.1, 1.5, 0.1],\n",
       "       [5.5, 4.2, 1.4, 0.2],\n",
       "       [4.9, 3.1, 1.5, 0.2],\n",
       "       [5. , 3.2, 1.2, 0.2],\n",
       "       [5.5, 3.5, 1.3, 0.2],\n",
       "       [4.9, 3.6, 1.4, 0.1],\n",
       "       [4.4, 3. , 1.3, 0.2],\n",
       "       [5.1, 3.4, 1.5, 0.2],\n",
       "       [5. , 3.5, 1.3, 0.3],\n",
       "       [4.5, 2.3, 1.3, 0.3],\n",
       "       [4.4, 3.2, 1.3, 0.2],\n",
       "       [5. , 3.5, 1.6, 0.6],\n",
       "       [5.1, 3.8, 1.9, 0.4],\n",
       "       [4.8, 3. , 1.4, 0.3],\n",
       "       [5.1, 3.8, 1.6, 0.2],\n",
       "       [4.6, 3.2, 1.4, 0.2],\n",
       "       [5.3, 3.7, 1.5, 0.2],\n",
       "       [5. , 3.3, 1.4, 0.2],\n",
       "       [7. , 3.2, 4.7, 1.4],\n",
       "       [6.4, 3.2, 4.5, 1.5],\n",
       "       [6.9, 3.1, 4.9, 1.5],\n",
       "       [5.5, 2.3, 4. , 1.3],\n",
       "       [6.5, 2.8, 4.6, 1.5],\n",
       "       [5.7, 2.8, 4.5, 1.3],\n",
       "       [6.3, 3.3, 4.7, 1.6],\n",
       "       [4.9, 2.4, 3.3, 1. ],\n",
       "       [6.6, 2.9, 4.6, 1.3],\n",
       "       [5.2, 2.7, 3.9, 1.4],\n",
       "       [5. , 2. , 3.5, 1. ],\n",
       "       [5.9, 3. , 4.2, 1.5],\n",
       "       [6. , 2.2, 4. , 1. ],\n",
       "       [6.1, 2.9, 4.7, 1.4],\n",
       "       [5.6, 2.9, 3.6, 1.3],\n",
       "       [6.7, 3.1, 4.4, 1.4],\n",
       "       [5.6, 3. , 4.5, 1.5],\n",
       "       [5.8, 2.7, 4.1, 1. ],\n",
       "       [6.2, 2.2, 4.5, 1.5],\n",
       "       [5.6, 2.5, 3.9, 1.1],\n",
       "       [5.9, 3.2, 4.8, 1.8],\n",
       "       [6.1, 2.8, 4. , 1.3],\n",
       "       [6.3, 2.5, 4.9, 1.5],\n",
       "       [6.1, 2.8, 4.7, 1.2],\n",
       "       [6.4, 2.9, 4.3, 1.3],\n",
       "       [6.6, 3. , 4.4, 1.4],\n",
       "       [6.8, 2.8, 4.8, 1.4],\n",
       "       [6.7, 3. , 5. , 1.7],\n",
       "       [6. , 2.9, 4.5, 1.5],\n",
       "       [5.7, 2.6, 3.5, 1. ],\n",
       "       [5.5, 2.4, 3.8, 1.1],\n",
       "       [5.5, 2.4, 3.7, 1. ],\n",
       "       [5.8, 2.7, 3.9, 1.2],\n",
       "       [6. , 2.7, 5.1, 1.6],\n",
       "       [5.4, 3. , 4.5, 1.5],\n",
       "       [6. , 3.4, 4.5, 1.6],\n",
       "       [6.7, 3.1, 4.7, 1.5],\n",
       "       [6.3, 2.3, 4.4, 1.3],\n",
       "       [5.6, 3. , 4.1, 1.3],\n",
       "       [5.5, 2.5, 4. , 1.3],\n",
       "       [5.5, 2.6, 4.4, 1.2],\n",
       "       [6.1, 3. , 4.6, 1.4],\n",
       "       [5.8, 2.6, 4. , 1.2],\n",
       "       [5. , 2.3, 3.3, 1. ],\n",
       "       [5.6, 2.7, 4.2, 1.3],\n",
       "       [5.7, 3. , 4.2, 1.2],\n",
       "       [5.7, 2.9, 4.2, 1.3],\n",
       "       [6.2, 2.9, 4.3, 1.3],\n",
       "       [5.1, 2.5, 3. , 1.1],\n",
       "       [5.7, 2.8, 4.1, 1.3],\n",
       "       [6.3, 3.3, 6. , 2.5],\n",
       "       [5.8, 2.7, 5.1, 1.9],\n",
       "       [7.1, 3. , 5.9, 2.1],\n",
       "       [6.3, 2.9, 5.6, 1.8],\n",
       "       [6.5, 3. , 5.8, 2.2],\n",
       "       [7.6, 3. , 6.6, 2.1],\n",
       "       [4.9, 2.5, 4.5, 1.7],\n",
       "       [7.3, 2.9, 6.3, 1.8],\n",
       "       [6.7, 2.5, 5.8, 1.8],\n",
       "       [7.2, 3.6, 6.1, 2.5],\n",
       "       [6.5, 3.2, 5.1, 2. ],\n",
       "       [6.4, 2.7, 5.3, 1.9],\n",
       "       [6.8, 3. , 5.5, 2.1],\n",
       "       [5.7, 2.5, 5. , 2. ],\n",
       "       [5.8, 2.8, 5.1, 2.4],\n",
       "       [6.4, 3.2, 5.3, 2.3],\n",
       "       [6.5, 3. , 5.5, 1.8],\n",
       "       [7.7, 3.8, 6.7, 2.2],\n",
       "       [7.7, 2.6, 6.9, 2.3],\n",
       "       [6. , 2.2, 5. , 1.5],\n",
       "       [6.9, 3.2, 5.7, 2.3],\n",
       "       [5.6, 2.8, 4.9, 2. ],\n",
       "       [7.7, 2.8, 6.7, 2. ],\n",
       "       [6.3, 2.7, 4.9, 1.8],\n",
       "       [6.7, 3.3, 5.7, 2.1],\n",
       "       [7.2, 3.2, 6. , 1.8],\n",
       "       [6.2, 2.8, 4.8, 1.8],\n",
       "       [6.1, 3. , 4.9, 1.8],\n",
       "       [6.4, 2.8, 5.6, 2.1],\n",
       "       [7.2, 3. , 5.8, 1.6],\n",
       "       [7.4, 2.8, 6.1, 1.9],\n",
       "       [7.9, 3.8, 6.4, 2. ],\n",
       "       [6.4, 2.8, 5.6, 2.2],\n",
       "       [6.3, 2.8, 5.1, 1.5],\n",
       "       [6.1, 2.6, 5.6, 1.4],\n",
       "       [7.7, 3. , 6.1, 2.3],\n",
       "       [6.3, 3.4, 5.6, 2.4],\n",
       "       [6.4, 3.1, 5.5, 1.8],\n",
       "       [6. , 3. , 4.8, 1.8],\n",
       "       [6.9, 3.1, 5.4, 2.1],\n",
       "       [6.7, 3.1, 5.6, 2.4],\n",
       "       [6.9, 3.1, 5.1, 2.3],\n",
       "       [5.8, 2.7, 5.1, 1.9],\n",
       "       [6.8, 3.2, 5.9, 2.3],\n",
       "       [6.7, 3.3, 5.7, 2.5],\n",
       "       [6.7, 3. , 5.2, 2.3],\n",
       "       [6.3, 2.5, 5. , 1.9],\n",
       "       [6.5, 3. , 5.2, 2. ],\n",
       "       [6.2, 3.4, 5.4, 2.3],\n",
       "       [5.9, 3. , 5.1, 1.8]])"
      ]
     },
     "execution_count": 2,
     "metadata": {},
     "output_type": "execute_result"
    }
   ],
   "source": [
    "#returns feature data\n",
    "dataset.data"
   ]
  },
  {
   "cell_type": "code",
   "execution_count": 3,
   "id": "4f045ea1",
   "metadata": {},
   "outputs": [
    {
     "data": {
      "text/plain": [
       "array([0, 0, 0, 0, 0, 0, 0, 0, 0, 0, 0, 0, 0, 0, 0, 0, 0, 0, 0, 0, 0, 0,\n",
       "       0, 0, 0, 0, 0, 0, 0, 0, 0, 0, 0, 0, 0, 0, 0, 0, 0, 0, 0, 0, 0, 0,\n",
       "       0, 0, 0, 0, 0, 0, 1, 1, 1, 1, 1, 1, 1, 1, 1, 1, 1, 1, 1, 1, 1, 1,\n",
       "       1, 1, 1, 1, 1, 1, 1, 1, 1, 1, 1, 1, 1, 1, 1, 1, 1, 1, 1, 1, 1, 1,\n",
       "       1, 1, 1, 1, 1, 1, 1, 1, 1, 1, 1, 1, 2, 2, 2, 2, 2, 2, 2, 2, 2, 2,\n",
       "       2, 2, 2, 2, 2, 2, 2, 2, 2, 2, 2, 2, 2, 2, 2, 2, 2, 2, 2, 2, 2, 2,\n",
       "       2, 2, 2, 2, 2, 2, 2, 2, 2, 2, 2, 2, 2, 2, 2, 2, 2, 2])"
      ]
     },
     "execution_count": 3,
     "metadata": {},
     "output_type": "execute_result"
    }
   ],
   "source": [
    "# returns target column\n",
    "dataset.target"
   ]
  },
  {
   "cell_type": "code",
   "execution_count": 4,
   "id": "e04f0078",
   "metadata": {},
   "outputs": [
    {
     "data": {
      "text/plain": [
       "['sepal length (cm)',\n",
       " 'sepal width (cm)',\n",
       " 'petal length (cm)',\n",
       " 'petal width (cm)']"
      ]
     },
     "execution_count": 4,
     "metadata": {},
     "output_type": "execute_result"
    }
   ],
   "source": [
    "# returns feature names i.e. columns of feature data\n",
    "dataset.feature_names"
   ]
  },
  {
   "cell_type": "code",
   "execution_count": 5,
   "id": "dbdf213e",
   "metadata": {},
   "outputs": [
    {
     "data": {
      "text/plain": [
       "array(['setosa', 'versicolor', 'virginica'], dtype='<U10')"
      ]
     },
     "execution_count": 5,
     "metadata": {},
     "output_type": "execute_result"
    }
   ],
   "source": [
    "# returns target names\n",
    "dataset.target_names"
   ]
  },
  {
   "cell_type": "code",
   "execution_count": 6,
   "id": "b0bcecef",
   "metadata": {},
   "outputs": [],
   "source": [
    "# path to dataset\n",
    "dataset.frame"
   ]
  },
  {
   "cell_type": "code",
   "execution_count": 7,
   "id": "394a2e50",
   "metadata": {},
   "outputs": [
    {
     "data": {
      "text/plain": [
       "'C:\\\\Users\\\\Shubham\\\\anaconda3\\\\lib\\\\site-packages\\\\sklearn\\\\datasets\\\\data\\\\iris.csv'"
      ]
     },
     "execution_count": 7,
     "metadata": {},
     "output_type": "execute_result"
    }
   ],
   "source": [
    "#filename location\n",
    "dataset.filename"
   ]
  },
  {
   "cell_type": "markdown",
   "id": "aadad30a",
   "metadata": {},
   "source": [
    "### Preprocessing - Introduction\n",
    "**Preprocessing** is a step, in which raw data is modified or transformed into a format, suitable for further downstream processing.\n",
    "\n",
    "**scikit-learn** provides many preprocessing utilities such as,\n",
    "\n",
    "1. Standardization mean removal\n",
    "2. Scaling\n",
    "3. Normalization\n",
    "4. Binarization\n",
    "5. One Hot Encoding\n",
    "6. Label Encoding\n",
    "7. Imputation"
   ]
  },
  {
   "cell_type": "markdown",
   "id": "4346220b",
   "metadata": {},
   "source": [
    "## Standardization\n",
    "**Standardization or Mean Removal** is the process of transforming each feature vector into a normal distribution with mean 0 and variance 1.\n",
    "\n",
    "- This can be achieved using StandardScaler.\n",
    "- An example with its output is shown in the next two cards, which requires the following imports.\n",
    "\n",
    "methods - \n",
    "1. StandardScalar()\n",
    "2. fit(\"data\")\n",
    "3. transform(\"data\")\n",
    "4. fit_transform(\"data\")\n",
    "\n",
    "fit method does nothing but is useful when used in a pipeline and we can use fit_transform() directly."
   ]
  },
  {
   "cell_type": "code",
   "execution_count": 25,
   "id": "df97b35e",
   "metadata": {},
   "outputs": [
    {
     "name": "stdout",
     "output_type": "stream",
     "text": [
      "Mean of each feature after Standardization :\n",
      "\n",
      "\n",
      "[-3.16286735e-15 -6.53060890e-15 -7.07889127e-16 -8.79983452e-16\n",
      "  6.13217737e-15 -1.12036918e-15 -4.42138027e-16  9.73249991e-16\n",
      " -1.97167024e-15 -1.45363120e-15 -9.07641468e-16 -8.85349205e-16\n",
      "  1.77367396e-15 -8.29155139e-16 -7.54180940e-16 -3.92187747e-16\n",
      "  7.91789988e-16 -2.73946068e-16 -3.10823423e-16 -3.36676596e-16\n",
      " -2.33322442e-15  1.76367415e-15 -1.19802625e-15  5.04966114e-16\n",
      " -5.21317026e-15 -2.17478837e-15  6.85645643e-16 -1.41265636e-16\n",
      " -2.28956670e-15  2.57517109e-15]\n",
      "\n",
      "Std. of each feature after Standardization :\n",
      "\n",
      "\n",
      "[1. 1. 1. 1. 1. 1. 1. 1. 1. 1. 1. 1. 1. 1. 1. 1. 1. 1. 1. 1. 1. 1. 1. 1.\n",
      " 1. 1. 1. 1. 1. 1.]\n"
     ]
    }
   ],
   "source": [
    "from sklearn.datasets import load_breast_cancer\n",
    "import sklearn.preprocessing as preprocessing\n",
    "\n",
    "breast_cancer= load_breast_cancer()\n",
    "standardizer = preprocessing.StandardScaler()\n",
    "breast_cancer_standardized = standardizer.fit_transform(breast_cancer.data)\n",
    "\n",
    "print('Mean of each feature after Standardization :\\n\\n')\n",
    "print(breast_cancer_standardized.mean(axis=0))\n",
    "print('\\nStd. of each feature after Standardization :\\n\\n')\n",
    "print(breast_cancer_standardized.std(axis=0))"
   ]
  },
  {
   "cell_type": "markdown",
   "id": "d051edee",
   "metadata": {},
   "source": [
    "## Scaling\n",
    "Scaling transforms existing data values to lie between a minimum and maximum value.\n",
    "1. MinMaxScaler transforms data to range 0 and 1.\n",
    "2. MaxAbsScaler transforms data to range -1 and 1.\n",
    "- Transforming **breast_cancer** dataset through Scaling is shown in next three cards."
   ]
  },
  {
   "cell_type": "code",
   "execution_count": 9,
   "id": "45ef0ad6",
   "metadata": {},
   "outputs": [],
   "source": [
    "min_max_scaler = preprocessing.MinMaxScaler().fit(breast_cancer.data)\n",
    "\n",
    "breast_cancer_minmaxscaled = min_max_scaler.transform(breast_cancer.data)"
   ]
  },
  {
   "cell_type": "markdown",
   "id": "2621e92b",
   "metadata": {},
   "source": [
    "By default, transformation occurs to a range of 0 and 1. It can also be customized with feature_range argument as shown in next example."
   ]
  },
  {
   "cell_type": "code",
   "execution_count": 10,
   "id": "a010c215",
   "metadata": {},
   "outputs": [],
   "source": [
    "min_max_scaler = preprocessing.MinMaxScaler(feature_range=(0, 10)).fit(breast_cancer.data)\n",
    "\n",
    "breast_cancer_minmaxscaled10 = min_max_scaler.transform(breast_cancer.data)"
   ]
  },
  {
   "cell_type": "markdown",
   "id": "a3462bbb",
   "metadata": {},
   "source": [
    "#### Using MaxAbsScaler\n",
    "Using MaxAbsScaler, the maximum absolute value of each feature is scaled to unit size, i.e., 1. It is intended for data that is previously centered at sparse or zero data.\n",
    "\n",
    "By default, MaxAbsScaler transforms data to the range -1 and 1."
   ]
  },
  {
   "cell_type": "code",
   "execution_count": 11,
   "id": "b6dca845",
   "metadata": {},
   "outputs": [
    {
     "data": {
      "text/plain": [
       "array([[0.63998577, 0.26425662, 0.65145889, ..., 0.91202749, 0.69313046,\n",
       "        0.57301205],\n",
       "       [0.73176805, 0.45239308, 0.70503979, ..., 0.63917526, 0.41428141,\n",
       "        0.42901205],\n",
       "       [0.70046247, 0.54098778, 0.68965517, ..., 0.83505155, 0.54429045,\n",
       "        0.42207229],\n",
       "       ...,\n",
       "       [0.59053718, 0.71486762, 0.57453581, ..., 0.48728522, 0.33413679,\n",
       "        0.37686747],\n",
       "       [0.73283529, 0.74669043, 0.74323607, ..., 0.91065292, 0.6156975 ,\n",
       "        0.59759036],\n",
       "       [0.27605834, 0.62474542, 0.25421751, ..., 0.        , 0.43250979,\n",
       "        0.33922892]])"
      ]
     },
     "execution_count": 11,
     "metadata": {},
     "output_type": "execute_result"
    }
   ],
   "source": [
    "max_abs_scaler = preprocessing.MaxAbsScaler().fit(breast_cancer.data)\n",
    "\n",
    "breast_cancer_maxabsscaled = max_abs_scaler.transform(breast_cancer.data)\n",
    "breast_cancer_maxabsscaled"
   ]
  },
  {
   "cell_type": "markdown",
   "id": "35fcf3e9",
   "metadata": {},
   "source": [
    "## Normalization\n",
    "Normalization scales each sample to have a unit norm.\n",
    "Normalization can be achieved with 'l1', 'l2', and 'max' norms.\n",
    "- 'l1' norm makes the sum of absolute values of each row as 1, and 'l2' norm makes the sum of squares of each row as 1.\n",
    "- 'l1' norm is insensitive to outliers.\n",
    "By default l2 norm is considered. Hence, removing outliers is recommended before applying l2 norm.\n",
    "\n"
   ]
  },
  {
   "cell_type": "code",
   "execution_count": 12,
   "id": "60991abf",
   "metadata": {},
   "outputs": [
    {
     "data": {
      "text/plain": [
       "array([[5.04461573e-03, 2.91067878e-03, 3.44346198e-02, ...,\n",
       "        7.44214015e-05, 1.29017660e-04, 3.33410122e-05],\n",
       "       [5.49864230e-03, 4.75016401e-03, 3.55259874e-02, ...,\n",
       "        4.97203436e-05, 7.35112606e-05, 2.37962634e-05],\n",
       "       [5.81273050e-03, 6.27326171e-03, 3.83776011e-02, ...,\n",
       "        7.17365928e-05, 1.06660210e-04, 2.58546946e-05],\n",
       "       ...,\n",
       "       [7.00344278e-03, 1.18467875e-02, 4.56911357e-02, ...,\n",
       "        5.98245895e-05, 9.35761210e-05, 3.29921220e-05],\n",
       "       [5.68390968e-03, 8.09267334e-03, 3.86561042e-02, ...,\n",
       "        7.31182555e-05, 1.12767664e-04, 3.42138252e-05],\n",
       "       [1.18802525e-02, 3.75697675e-02, 7.33636209e-02, ...,\n",
       "        0.00000000e+00, 4.39538722e-04, 1.07764300e-04]])"
      ]
     },
     "execution_count": 12,
     "metadata": {},
     "output_type": "execute_result"
    }
   ],
   "source": [
    "normalizer = preprocessing.Normalizer(norm='l1').fit(breast_cancer.data)\n",
    "\n",
    "breast_cancer_normalized = normalizer.transform(breast_cancer.data)\n",
    "breast_cancer_normalized"
   ]
  },
  {
   "cell_type": "markdown",
   "id": "efc4f745",
   "metadata": {},
   "source": [
    "## Binarization\n",
    "Binarization is the process of transforming data points to 0 or 1 based on a given threshold.\n",
    "\n",
    "- Any value above the threshold is transformed to 1, and any value below the threshold is transformed to 0.\n",
    "- By default, a threshold of 0 is used."
   ]
  },
  {
   "cell_type": "code",
   "execution_count": 13,
   "id": "48bc492f",
   "metadata": {},
   "outputs": [
    {
     "name": "stdout",
     "output_type": "stream",
     "text": [
      "[[1. 1. 1. 1. 0.]\n",
      " [1. 1. 1. 1. 0.]\n",
      " [1. 1. 1. 1. 0.]\n",
      " [1. 1. 1. 1. 0.]\n",
      " [1. 1. 1. 1. 0.]]\n"
     ]
    }
   ],
   "source": [
    "binarizer = preprocessing.Binarizer(threshold=3.0).fit(breast_cancer.data)\n",
    "breast_cancer_binarized = binarizer.transform(breast_cancer.data)\n",
    "print(breast_cancer_binarized[:5,:5])"
   ]
  },
  {
   "cell_type": "markdown",
   "id": "f2ecf399",
   "metadata": {},
   "source": [
    "## OneHotEncoder\n",
    "OneHotEncoder converts categorical integer values into one-hot vectors. In an one-hot vector, every category is transformed into a binary attribute having only 0 and 1 values.\n",
    "\n",
    "An example creating two binary attributes for the categorical integers 1 and 2, is shown in the next slide."
   ]
  },
  {
   "cell_type": "code",
   "execution_count": 15,
   "id": "1531517b",
   "metadata": {},
   "outputs": [
    {
     "name": "stdout",
     "output_type": "stream",
     "text": [
      "[[0. 0. 1.]\n",
      " [0. 1. 0.]\n",
      " [1. 0. 0.]]\n"
     ]
    },
    {
     "data": {
      "text/html": [
       "<div>\n",
       "<style scoped>\n",
       "    .dataframe tbody tr th:only-of-type {\n",
       "        vertical-align: middle;\n",
       "    }\n",
       "\n",
       "    .dataframe tbody tr th {\n",
       "        vertical-align: top;\n",
       "    }\n",
       "\n",
       "    .dataframe thead th {\n",
       "        text-align: right;\n",
       "    }\n",
       "</style>\n",
       "<table border=\"1\" class=\"dataframe\">\n",
       "  <thead>\n",
       "    <tr style=\"text-align: right;\">\n",
       "      <th></th>\n",
       "      <th>Color</th>\n",
       "    </tr>\n",
       "  </thead>\n",
       "  <tbody>\n",
       "    <tr>\n",
       "      <th>0</th>\n",
       "      <td>red</td>\n",
       "    </tr>\n",
       "    <tr>\n",
       "      <th>1</th>\n",
       "      <td>green</td>\n",
       "    </tr>\n",
       "    <tr>\n",
       "      <th>2</th>\n",
       "      <td>blue</td>\n",
       "    </tr>\n",
       "  </tbody>\n",
       "</table>\n",
       "</div>"
      ],
      "text/plain": [
       "   Color\n",
       "0    red\n",
       "1  green\n",
       "2   blue"
      ]
     },
     "execution_count": 15,
     "metadata": {},
     "output_type": "execute_result"
    }
   ],
   "source": [
    "# example of a one hot encoding\n",
    "import pandas as pd\n",
    "from numpy import asarray\n",
    "from sklearn.preprocessing import OneHotEncoder\n",
    "\n",
    "# define data\n",
    "data = pd.DataFrame({\"Color\":[\"red\", \"green\", \"blue\"]})\n",
    "\n",
    "# define one hot encoding\n",
    "encoder = OneHotEncoder(sparse=False)\n",
    "\n",
    "# transform data\n",
    "onehot = encoder.fit_transform(data)\n",
    "\n",
    "print(onehot)\n",
    "data.head()"
   ]
  },
  {
   "cell_type": "markdown",
   "id": "30eff244",
   "metadata": {},
   "source": [
    "### Onehot Encoding with get_dummies()"
   ]
  },
  {
   "cell_type": "code",
   "execution_count": 16,
   "id": "543eb5f2",
   "metadata": {},
   "outputs": [
    {
     "data": {
      "text/html": [
       "<div>\n",
       "<style scoped>\n",
       "    .dataframe tbody tr th:only-of-type {\n",
       "        vertical-align: middle;\n",
       "    }\n",
       "\n",
       "    .dataframe tbody tr th {\n",
       "        vertical-align: top;\n",
       "    }\n",
       "\n",
       "    .dataframe thead th {\n",
       "        text-align: right;\n",
       "    }\n",
       "</style>\n",
       "<table border=\"1\" class=\"dataframe\">\n",
       "  <thead>\n",
       "    <tr style=\"text-align: right;\">\n",
       "      <th></th>\n",
       "      <th>Bridge_Types</th>\n",
       "      <th>Type_is_Arch</th>\n",
       "      <th>Type_is_Beam</th>\n",
       "      <th>Type_is_Cable</th>\n",
       "      <th>Type_is_Cantilever</th>\n",
       "      <th>Type_is_Suspension</th>\n",
       "      <th>Type_is_Tied Arch</th>\n",
       "      <th>Type_is_Truss</th>\n",
       "    </tr>\n",
       "  </thead>\n",
       "  <tbody>\n",
       "    <tr>\n",
       "      <th>0</th>\n",
       "      <td>Arch</td>\n",
       "      <td>1</td>\n",
       "      <td>0</td>\n",
       "      <td>0</td>\n",
       "      <td>0</td>\n",
       "      <td>0</td>\n",
       "      <td>0</td>\n",
       "      <td>0</td>\n",
       "    </tr>\n",
       "    <tr>\n",
       "      <th>1</th>\n",
       "      <td>Beam</td>\n",
       "      <td>0</td>\n",
       "      <td>1</td>\n",
       "      <td>0</td>\n",
       "      <td>0</td>\n",
       "      <td>0</td>\n",
       "      <td>0</td>\n",
       "      <td>0</td>\n",
       "    </tr>\n",
       "    <tr>\n",
       "      <th>2</th>\n",
       "      <td>Truss</td>\n",
       "      <td>0</td>\n",
       "      <td>0</td>\n",
       "      <td>0</td>\n",
       "      <td>0</td>\n",
       "      <td>0</td>\n",
       "      <td>0</td>\n",
       "      <td>1</td>\n",
       "    </tr>\n",
       "    <tr>\n",
       "      <th>3</th>\n",
       "      <td>Cantilever</td>\n",
       "      <td>0</td>\n",
       "      <td>0</td>\n",
       "      <td>0</td>\n",
       "      <td>1</td>\n",
       "      <td>0</td>\n",
       "      <td>0</td>\n",
       "      <td>0</td>\n",
       "    </tr>\n",
       "    <tr>\n",
       "      <th>4</th>\n",
       "      <td>Tied Arch</td>\n",
       "      <td>0</td>\n",
       "      <td>0</td>\n",
       "      <td>0</td>\n",
       "      <td>0</td>\n",
       "      <td>0</td>\n",
       "      <td>1</td>\n",
       "      <td>0</td>\n",
       "    </tr>\n",
       "    <tr>\n",
       "      <th>5</th>\n",
       "      <td>Suspension</td>\n",
       "      <td>0</td>\n",
       "      <td>0</td>\n",
       "      <td>0</td>\n",
       "      <td>0</td>\n",
       "      <td>1</td>\n",
       "      <td>0</td>\n",
       "      <td>0</td>\n",
       "    </tr>\n",
       "    <tr>\n",
       "      <th>6</th>\n",
       "      <td>Cable</td>\n",
       "      <td>0</td>\n",
       "      <td>0</td>\n",
       "      <td>1</td>\n",
       "      <td>0</td>\n",
       "      <td>0</td>\n",
       "      <td>0</td>\n",
       "      <td>0</td>\n",
       "    </tr>\n",
       "  </tbody>\n",
       "</table>\n",
       "</div>"
      ],
      "text/plain": [
       "  Bridge_Types  Type_is_Arch  Type_is_Beam  Type_is_Cable  Type_is_Cantilever  \\\n",
       "0         Arch             1             0              0                   0   \n",
       "1         Beam             0             1              0                   0   \n",
       "2        Truss             0             0              0                   0   \n",
       "3   Cantilever             0             0              0                   1   \n",
       "4    Tied Arch             0             0              0                   0   \n",
       "5   Suspension             0             0              0                   0   \n",
       "6        Cable             0             0              1                   0   \n",
       "\n",
       "   Type_is_Suspension  Type_is_Tied Arch  Type_is_Truss  \n",
       "0                   0                  0              0  \n",
       "1                   0                  0              0  \n",
       "2                   0                  0              1  \n",
       "3                   0                  0              0  \n",
       "4                   0                  1              0  \n",
       "5                   1                  0              0  \n",
       "6                   0                  0              0  "
      ]
     },
     "execution_count": 16,
     "metadata": {},
     "output_type": "execute_result"
    }
   ],
   "source": [
    "import pandas as pd\n",
    "import numpy as np\n",
    "# creating initial dataframe\n",
    "bridge_types = ('Arch','Beam','Truss','Cantilever','Tied Arch','Suspension','Cable')\n",
    "bridge_df = pd.DataFrame(bridge_types, columns=['Bridge_Types'])\n",
    "# generate binary values using get_dummies\n",
    "dum_df = pd.get_dummies(bridge_df, columns=[\"Bridge_Types\"], prefix=[\"Type_is\"] )\n",
    "# merge with main df bridge_df on key values\n",
    "bridge_df = bridge_df.join(dum_df)\n",
    "bridge_df"
   ]
  },
  {
   "cell_type": "markdown",
   "id": "672686fb",
   "metadata": {},
   "source": [
    "## Label Encoding\n",
    "Label Encoding is a step in which, in which categorical features are represented as categorical integers. An example of transforming categorical values [\"benign\",\"malignant\"]into[0, 1]` is shown below."
   ]
  },
  {
   "cell_type": "code",
   "execution_count": 17,
   "id": "57979c61",
   "metadata": {},
   "outputs": [],
   "source": [
    "labels = ['malignant', 'benign', 'malignant', 'benign']\n",
    "\n",
    "labelencoder = preprocessing.LabelEncoder()\n",
    "\n",
    "labelencoder = labelencoder.fit(labels)\n",
    "\n",
    "bc_labelencoded = labelencoder.transform(breast_cancer.target_names)"
   ]
  },
  {
   "cell_type": "markdown",
   "id": "ed510489",
   "metadata": {},
   "source": [
    "## Imputation\n",
    "Imputation replaces missing values with either median, mean, or the most common value of the column or row in which the missing values exist.\n",
    "\n",
    "Below example replaces missing values, represented by np.nan, with the mean of respective column (axis 0)."
   ]
  },
  {
   "cell_type": "code",
   "execution_count": 31,
   "id": "18f797fe",
   "metadata": {},
   "outputs": [
    {
     "ename": "AttributeError",
     "evalue": "module 'sklearn.preprocessing' has no attribute 'Imputer'",
     "output_type": "error",
     "traceback": [
      "\u001b[1;31m---------------------------------------------------------------------------\u001b[0m",
      "\u001b[1;31mAttributeError\u001b[0m                            Traceback (most recent call last)",
      "\u001b[1;32m~\\AppData\\Local\\Temp/ipykernel_15248/1500394249.py\u001b[0m in \u001b[0;36m<module>\u001b[1;34m\u001b[0m\n\u001b[1;32m----> 1\u001b[1;33m \u001b[0mimputer\u001b[0m \u001b[1;33m=\u001b[0m \u001b[0mpreprocessing\u001b[0m\u001b[1;33m.\u001b[0m\u001b[0mImputer\u001b[0m\u001b[1;33m(\u001b[0m\u001b[0mmissing_values\u001b[0m\u001b[1;33m=\u001b[0m\u001b[1;34m'NaN'\u001b[0m\u001b[1;33m,\u001b[0m \u001b[0mstrategy\u001b[0m\u001b[1;33m=\u001b[0m\u001b[1;34m'mean'\u001b[0m\u001b[1;33m)\u001b[0m\u001b[1;33m\u001b[0m\u001b[1;33m\u001b[0m\u001b[0m\n\u001b[0m\u001b[0;32m      2\u001b[0m \u001b[1;33m\u001b[0m\u001b[0m\n\u001b[0;32m      3\u001b[0m \u001b[0mimputer\u001b[0m \u001b[1;33m=\u001b[0m \u001b[0mimputer\u001b[0m\u001b[1;33m.\u001b[0m\u001b[0mfit\u001b[0m\u001b[1;33m(\u001b[0m\u001b[0mbreast_cancer\u001b[0m\u001b[1;33m.\u001b[0m\u001b[0mdata\u001b[0m\u001b[1;33m)\u001b[0m\u001b[1;33m\u001b[0m\u001b[1;33m\u001b[0m\u001b[0m\n\u001b[0;32m      4\u001b[0m \u001b[0mbreast_cancer_imputed\u001b[0m \u001b[1;33m=\u001b[0m \u001b[0mimputer\u001b[0m\u001b[1;33m.\u001b[0m\u001b[0mtransform\u001b[0m\u001b[1;33m(\u001b[0m\u001b[0mbreast_cancer\u001b[0m\u001b[1;33m.\u001b[0m\u001b[0mdata\u001b[0m\u001b[1;33m)\u001b[0m\u001b[1;33m\u001b[0m\u001b[1;33m\u001b[0m\u001b[0m\n",
      "\u001b[1;31mAttributeError\u001b[0m: module 'sklearn.preprocessing' has no attribute 'Imputer'"
     ]
    }
   ],
   "source": [
    "imputer = preprocessing.Imputer(missing_values='NaN', strategy='mean')\n",
    "\n",
    "imputer = imputer.fit(breast_cancer.data)\n",
    "breast_cancer_imputed = imputer.transform(breast_cancer.data)"
   ]
  },
  {
   "cell_type": "code",
   "execution_count": null,
   "id": "d6c6588d",
   "metadata": {},
   "outputs": [],
   "source": [
    "import sklearn.preprocessing as preprocessing\n",
    "\n",
    "x = [[7.8], [1.3], [4.5], [0.9]]\n",
    "print(preprocessing.Binarizer().fit(x).transform(x))"
   ]
  },
  {
   "cell_type": "markdown",
   "id": "5629929e",
   "metadata": {},
   "source": [
    "# ML - Models"
   ]
  },
  {
   "cell_type": "markdown",
   "id": "719af8a0",
   "metadata": {},
   "source": [
    "## KNN\n",
    "### 1. Nearest Neighbors Regression\n",
    "scikit-learn implements the following two regressors:\n",
    "\n",
    "1. **KNeighborsRegressor** predicts based on the k nearest neighbors of each query point.\n",
    "2. **RadiusNeighborsRegressor** predicts based on the neighbors present in a fixed radius r of the query point.\n",
    "\n",
    "### 2. Nearest Neighbors Classification\n",
    "Nearest neighbors method is used to determine a predefined number of data points that are closer to a sample point and predict its label.\n",
    "\n",
    "sklearn.neighbors provides utilities for unsupervised and supervised neighbors-based learning methods.\n",
    "\n",
    "In cases where the data is not uniformly sampled, radius-based neighbors classification in RadiusNeighborsClassifier can be a better choice. The user specifies a fixed radius , such that points in sparser neighborhoods use fewer nearest neighbors for the classification. For high-dimensional parameter spaces, this method becomes less effective due to the so-called “curse of dimensionality”.\n",
    "#### scikit-learn implements two different nearest neighbors classifiers:\n",
    "\n",
    "1. **KNeighborsClassifier** - classifies based on k nearest neighbors of every query point, where k is an integer value specified by the user.\n",
    "\n",
    "2. **RadiusNeighborsClassifier** - classifies based on the number of neighbors present in a fixed radius r of every training point.\n",
    "\n",
    "\n",
    "#### KDTree and BallTree Classes\n",
    "Alternatively, one can use the KDTree or BallTree classes directly to find nearest neighbors. This is the functionality wrapped by the NearestNeighbors class used above.\n"
   ]
  },
  {
   "cell_type": "markdown",
   "id": "5d3d9804",
   "metadata": {},
   "source": [
    "#### Important parameters - \n",
    "First value in list is default value.\n",
    "1. n_neighbors = To set the number of neighbors\n",
    "2. weights = [uniform, distance] Under some circumstances, it is better to weight the neighbors such that nearer neighbors contribute more to the fit. This can be accomplished through the weights keyword\n",
    "3. algorithm = ['auto', 'ball_tree', 'kd_tree', 'brute']"
   ]
  },
  {
   "cell_type": "code",
   "execution_count": 19,
   "id": "ec0d517a",
   "metadata": {},
   "outputs": [
    {
     "name": "stdout",
     "output_type": "stream",
     "text": [
      "Accuracy of Train Data : 0.9460093896713615\n",
      "Accuracy of Test Data : 0.9300699300699301\n"
     ]
    }
   ],
   "source": [
    "import sklearn.datasets as datasets\n",
    "\n",
    "from sklearn.model_selection import train_test_split\n",
    "\n",
    "# neighbors is the module used \n",
    "from sklearn.neighbors import KNeighborsClassifier\n",
    "\n",
    "cancer = datasets.load_breast_cancer()  # Loading the data set\n",
    "\n",
    "X_train, X_test, Y_train, Y_test = train_test_split(cancer.data, cancer.target,\n",
    "           stratify=cancer.target, random_state=42)\n",
    "\n",
    "knn_classifier = KNeighborsClassifier()   \n",
    "\n",
    "knn_classifier = knn_classifier.fit(X_train, Y_train) \n",
    "\n",
    "print('Accuracy of Train Data :', knn_classifier.score(X_train,Y_train))\n",
    "print('Accuracy of Test Data :', knn_classifier.score(X_test,Y_test))"
   ]
  },
  {
   "cell_type": "markdown",
   "id": "e9c775d2",
   "metadata": {},
   "source": [
    "## Decision Tree\n",
    "1. DecisionTreeRegressor\n",
    "2. DecisionTreeClassifier\n",
    "\n",
    "#### Advantages of Decision Trees\n",
    "1. Decision Trees are easy to understand.\n",
    "2. They often do not require any preprocessing.\n",
    "3. Decision Trees can learn from both numerical and categorical data.\n",
    "\n",
    "#### Disadvantages of Decision Trees\n",
    "1. Decision trees sometimes become complex, which do not generalize well and leads to overfitting. Overfitting can be addressed by placing the least number of samples needed at a leaf node or placing the highest depth of the tree.\n",
    "\n",
    "2. A small variation in data can result in a completely different tree. This problem can be addressed by using decision trees within an ensemble."
   ]
  },
  {
   "cell_type": "markdown",
   "id": "72cd9cd9",
   "metadata": {},
   "source": [
    "### Important Parameters\n",
    "1. max_depth = int, Number of levels"
   ]
  },
  {
   "cell_type": "code",
   "execution_count": 20,
   "id": "7f74f735",
   "metadata": {},
   "outputs": [
    {
     "name": "stdout",
     "output_type": "stream",
     "text": [
      "Accuracy of Train Data : 1.0\n",
      "Accuracy of Test Data : 0.9230769230769231\n"
     ]
    }
   ],
   "source": [
    "from sklearn.tree import DecisionTreeClassifier\n",
    "\n",
    "dt_classifier = DecisionTreeClassifier()   \n",
    "\n",
    "dt_classifier = dt_classifier.fit(X_train, Y_train) \n",
    "\n",
    "print('Accuracy of Train Data :', dt_classifier.score(X_train,Y_train))\n",
    "\n",
    "print('Accuracy of Test Data :', dt_classifier.score(X_test,Y_test))"
   ]
  },
  {
   "cell_type": "markdown",
   "id": "1a7a7d8b",
   "metadata": {},
   "source": [
    "## Ensemble Methods\n",
    "Ensemble methods combine predictions of other learning algorithms, to improve the generalization.\n",
    "\n",
    "**Ensemble methods are two types:**\n",
    "\n",
    "1. Averaging Methods: They build several base estimators independently and finally average their predictions.\n",
    "E.g.: Bagging Methods, Forests of randomised trees\n",
    "2. Boosting Methods: They build base estimators sequentially and try to reduce the bias of the combined estimator.\n",
    "E.g.: Adaboost, Gradient Tree Boosting\n",
    "\n",
    "### 1. Bagging Methods\n",
    "`Bagging Methods` draw random subsets of the original dataset, build an estimator and aggregate individual results to form a final one.\n",
    "\n",
    "`BaggingClassifier` and `BaggingRegressor` are the utilities from sklearn.ensemble to deal with Bagging.\n",
    "\n",
    "#### Randomized Trees\n",
    "sklearn.ensemble offers two types of algorithms based on randomized trees: Random Forest and Extra randomness algorithms.\n",
    "\n",
    "- RandomForestClassifier and RandomForestRegressor classes are used to deal with random forests.\n",
    "- In random forests, each estimator is built from a sample drawn with replacement from the training set.\n",
    "\n",
    "ExtraTreesClassifier and ExtraTreesRegressor classes are used to deal with extremely randomized forests.\n",
    "\n",
    "In extremely randomized forests, more randomness is introduced, which further reduces the variance of the model.\n",
    "\n",
    "### 2. Boosting Methods\n",
    "Boosting Methods combine several weak models to create a improvised ensemble.\n",
    "\n",
    "- sklearn.ensemble also provides the following boosting algorithms:\n",
    "  - AdaBoostClassifier\n",
    "  - GradientBoostingClassifier"
   ]
  },
  {
   "cell_type": "markdown",
   "id": "0da68e9e",
   "metadata": {},
   "source": [
    "### Important Parameters\n",
    "1. n_estimators = int, number of estimators "
   ]
  },
  {
   "cell_type": "code",
   "execution_count": 21,
   "id": "4257358c",
   "metadata": {},
   "outputs": [
    {
     "name": "stdout",
     "output_type": "stream",
     "text": [
      "Accuracy of Train Data : 1.0\n",
      "Accuracy of Test Data : 0.958041958041958\n"
     ]
    }
   ],
   "source": [
    "from sklearn.ensemble import RandomForestClassifier\n",
    "\n",
    "rf_classifier = RandomForestClassifier()\n",
    "\n",
    "rf_classifier = rf_classifier.fit(X_train, Y_train) \n",
    "\n",
    "print('Accuracy of Train Data :', rf_classifier.score(X_train,Y_train))\n",
    "\n",
    "print('Accuracy of Test Data :', rf_classifier.score(X_test,Y_test))"
   ]
  },
  {
   "cell_type": "markdown",
   "id": "4b719386",
   "metadata": {},
   "source": [
    "## SVM\n",
    "Support Vector Machines (SVMs) separates data points based on decision planes, which separates objects belonging to different classes in a higher dimensional space.\n",
    "\n",
    "SVM algorithm uses the best suitable kernel, which is capable of separating data points into two or more classes.\n",
    "\n",
    "Commonly used kernels are:\n",
    "\n",
    "1. linear\n",
    "2. polynomial\n",
    "3. rbf\n",
    "4. sigmoid\n",
    "\n",
    "### 1. Support Vector Classification\n",
    "scikit-learn provides the following three utilities for performing Support Vector Classification.\n",
    "\n",
    "- SVC,\n",
    "- NuSVC: Same as SVC but uses a parameter to control the number of support vectors.\n",
    "- LinearSVC: Similar to SVC with parameter kernel taking linear value.\n",
    "\n",
    "### 2. Support Vector Regression\n",
    "scikit-learn provides the following three utilities for performing Support Vector Regression.\n",
    "\n",
    "- SVR\n",
    "- NuSVR\n",
    "- LinearSVR\n",
    "\n",
    "#### Advantages of SVMs\n",
    "1. SVM can distinguish the classes in a higher dimensional space.\n",
    "2. SVM algorithms are memory efficient.\n",
    "3. SVMs are versatile, and a different kernel can be used by a decision function.\n",
    "\n",
    "#### Disadvantages of SVMs\n",
    "1. SVMs do not perform well on high dimensional data with many samples.\n",
    "2. SVMs work better only with Preprocessed data.\n",
    "3. They are harder to visualize.\n",
    "\n",
    "- Which of the following parameter of SVC method is used for fine-tuning the model? => 'C'\n",
    "\n",
    "- What happens when very small value is used for parameter C in support vector machines? => 'imporves the performance'\n",
    "\n",
    "- Which approach is used by SVC and NuSVC for multi-class classification? => 'one vs one'"
   ]
  },
  {
   "cell_type": "code",
   "execution_count": 35,
   "id": "7343064c",
   "metadata": {},
   "outputs": [
    {
     "name": "stdout",
     "output_type": "stream",
     "text": [
      "[[1.669e+01 2.020e+01 1.071e+02 ... 8.737e-02 4.677e-01 7.623e-02]\n",
      " [1.348e+01 2.082e+01 8.840e+01 ... 2.258e-01 2.807e-01 1.071e-01]\n",
      " [1.495e+01 1.757e+01 9.685e+01 ... 1.667e-01 3.414e-01 7.147e-02]\n",
      " ...\n",
      " [1.420e+01 2.053e+01 9.241e+01 ... 1.339e-01 2.534e-01 7.858e-02]\n",
      " [1.390e+01 1.924e+01 8.873e+01 ... 8.150e-02 2.356e-01 7.603e-02]\n",
      " [1.571e+01 1.393e+01 1.020e+02 ... 1.374e-01 2.723e-01 7.071e-02]]\n",
      "Accuracy of Train Data : 0.9178403755868545\n",
      "Accuracy of Test Data : 0.9230769230769231\n"
     ]
    }
   ],
   "source": [
    "from sklearn.svm import SVC\n",
    "svm_classifier = SVC()\n",
    "svm_classifier = svm_classifier.fit(X_train, Y_train) \n",
    "\n",
    "# Getting the support vectors\n",
    "print(svm_classifier.support_vectors_)\n",
    "\n",
    "print('Accuracy of Train Data :', svm_classifier.score(X_train,Y_train))\n",
    "print('Accuracy of Test Data :', svm_classifier.score(X_test,Y_test))"
   ]
  },
  {
   "cell_type": "markdown",
   "id": "f5fcbf21",
   "metadata": {},
   "source": [
    "#### Improving Accuracy Using Scaled Data\n",
    "In the following example, scaled input data is used to improve the accuracy of SVM classifier."
   ]
  },
  {
   "cell_type": "code",
   "execution_count": 27,
   "id": "015cf89c",
   "metadata": {},
   "outputs": [
    {
     "name": "stdout",
     "output_type": "stream",
     "text": [
      "Accuracy of Train Data : 0.9178403755868545\n",
      "Accuracy of Test Data : 0.9230769230769231\n",
      "Classification report : \n",
      "               precision    recall  f1-score   support\n",
      "\n",
      "           0       0.96      0.83      0.89        53\n",
      "           1       0.91      0.98      0.94        90\n",
      "\n",
      "    accuracy                           0.92       143\n",
      "   macro avg       0.93      0.90      0.92       143\n",
      "weighted avg       0.93      0.92      0.92       143\n",
      "\n"
     ]
    }
   ],
   "source": [
    "import sklearn.preprocessing as preprocessing\n",
    "from sklearn import metrics\n",
    "\n",
    "standardizer = preprocessing.StandardScaler()\n",
    "standardizer = standardizer.fit(cancer.data)\n",
    "cancer_standardized = standardizer.transform(cancer.data)\n",
    "\n",
    "svm_classifier = SVC()\n",
    "\n",
    "svm_classifier = svm_classifier.fit(X_train, Y_train) \n",
    "print('Accuracy of Train Data :', svm_classifier.score(X_train,Y_train))\n",
    "print('Accuracy of Test Data :', svm_classifier.score(X_test,Y_test))\n",
    "\n",
    "# making the predictions\n",
    "Y_pred = svm_classifier.predict(X_test)\n",
    "\n",
    "# Viewing the classification report\n",
    "print('Classification report : \\n',metrics.classification_report(Y_test, Y_pred))"
   ]
  },
  {
   "cell_type": "markdown",
   "id": "2dea4e4c",
   "metadata": {},
   "source": [
    "## Clustering\n",
    "- Clustering is one of the unsupervised learning technique.\n",
    "\n",
    "- The technique is typically used to group data points into clusters based on a specific algorithm.\n",
    "\n",
    "#### Major clustering algorithms that can be implemented using scikit-learn are:\n",
    "1. K-means Clustering\n",
    "2. Agglomerative clustering\n",
    "3. DBSCAN clustering\n",
    "4. Mean-shift clustering\n",
    "5. Affinity propagation\n",
    "6. Spectral clustering\n",
    "\n",
    "### 1. K-Means Clustering\n",
    "In K-means Clustering entire data set is grouped into k clusters.\n",
    "\n",
    "**Steps involved are:**\n",
    "1. k centroids are chosen randomly.\n",
    "2. The distance of each data point from k centroids is calculated. A data point is assigned to the nearest cluster.\n",
    "3. Centroids of k clusters are recomputed.\n",
    "4. The above steps are iterated till the number of data points a cluster reach convergence.\n",
    "KMeans from sklearn.cluster can be used for K-means clustering.\n",
    "\n",
    "### 2. Agglomerative Hierarchical Clustering\n",
    "Agglomerative Hierarchical Clustering is a bottom-up approach.\n",
    "\n",
    "**Steps involved are:**\n",
    "1. Each data point is treated as a single cluster at the beginning.\n",
    "2. The distance between each cluster is computed, and the two nearest clusters are merged together.\n",
    "3. The above step is iterated till a single cluster is formed.\n",
    "4. AgglomerativeClustering from sklearn.cluster can be used for achieving this.\n",
    "5. Merging of two clusters can be any of the following linkage type: ward, complete or average.\n",
    "\n",
    "### 3. Mean Shift Clustering\n",
    "Mean Shift Clustering aims at discovering dense areas.\n",
    "\n",
    "**Steps Involved:**\n",
    "\n",
    "1. Identify blob areas with randomly guessed centroids.\n",
    "2. Calculate the centroid of each blob area and shift to a new one, if there is a difference.\n",
    "3. Repeat the above step till the centroids converge.\n",
    "`make_blobs` from `sklearn.cluster` can be used to initialize the blob areas. MeanShift from `sklearn.cluster` can be used to perform Mean Shift clustering.\n",
    "\n",
    "### 4. Affinity Propagation\n",
    "Affinity Propagation generates clusters by passing messages between pairs of data points, until convergence.\n",
    "\n",
    "- AffinityPropagation class from sklearn.cluster can be used.\n",
    "- The above class can be controlled with two major parameters:\n",
    "   - preference: It controls the number of exemplars to be chosen by the algorithm.\n",
    "   - damping: It controls numerical oscillations while updating messages.\n",
    "   \n",
    "### 5. Spectral Clustering\n",
    "Spectral Clustering is ideal to cluster data that is connected, and may not be in a compact space.\n",
    "\n",
    "In general, the following steps are followed:\n",
    "\n",
    "1. Build an affinity matrix of data points.\n",
    "2. Embed data points in a lower dimensional space.\n",
    "3. Use a clustering method like k-means to partition the points on lower dimensional space.\n",
    "spectral_clustering from sklearn.cluster can be used for achieving this."
   ]
  },
  {
   "cell_type": "code",
   "execution_count": 28,
   "id": "18d81a30",
   "metadata": {},
   "outputs": [
    {
     "data": {
      "text/plain": [
       "array([1, 0, 1, 1, 1, 0, 1, 0, 0, 1, 1, 1, 0, 0, 1, 1, 0, 1, 1, 1, 0, 1,\n",
       "       1, 1, 1, 1, 1, 1, 1, 1, 1, 1, 1, 1, 1, 1, 1, 1, 0, 1, 0, 1, 0, 1,\n",
       "       1, 1, 1, 1, 0, 1, 1, 1, 1, 0, 1, 1, 1, 0, 0, 0, 1, 0, 1, 0, 1, 1,\n",
       "       0, 1, 1, 1, 1, 1, 1, 1, 1, 0, 1, 0, 0, 1, 1, 1, 1, 1, 0, 1, 0, 1,\n",
       "       1, 1, 1, 0, 1, 1, 1, 0, 0, 1, 1, 1, 1, 0, 0, 1, 1, 1, 1, 1, 0, 1,\n",
       "       0, 1, 1, 1, 1, 0, 1, 1, 1, 1, 1, 1, 0, 1, 1, 1, 1, 0, 1, 1, 1, 1,\n",
       "       1, 1, 0, 1, 1, 1, 1, 1, 1, 1, 1])"
      ]
     },
     "execution_count": 28,
     "metadata": {},
     "output_type": "execute_result"
    }
   ],
   "source": [
    "from sklearn.cluster import KMeans\n",
    "kmeans_cluster = KMeans(n_clusters=2)\n",
    "kmeans_cluster = kmeans_cluster.fit(X_train) \n",
    "kmeans_cluster.predict(X_test)"
   ]
  },
  {
   "cell_type": "markdown",
   "id": "8ba03850",
   "metadata": {},
   "source": [
    "### Evaluating a Clustering algorithm\n",
    "A clustering algorithm is majorly evaluated using the following scores:\n",
    "\n",
    "1. Homogeneity: Evaluates if each cluster contains only members of a single class.\n",
    "2. Completeness: All members of a given class are assigned to the same cluster.\n",
    "3. V-measure: Harmonic mean of Homogeneity and Completeness.\n",
    "4. Adjusted Rand index: Measures similarity of two assignments."
   ]
  },
  {
   "cell_type": "code",
   "execution_count": 29,
   "id": "540e40d9",
   "metadata": {},
   "outputs": [
    {
     "name": "stdout",
     "output_type": "stream",
     "text": [
      "0.5732364668342355\n",
      "0.4838627966070309\n",
      "0.5247715319687337\n",
      "0.5498399411196141\n"
     ]
    }
   ],
   "source": [
    "from sklearn import metrics\n",
    "\n",
    "print(metrics.homogeneity_score(kmeans_cluster.predict(X_test), Y_test))\n",
    "\n",
    "print(metrics.completeness_score(kmeans_cluster.predict(X_test), Y_test))\n",
    "\n",
    "print(metrics.v_measure_score(kmeans_cluster.predict(X_test), Y_test))\n",
    "\n",
    "print(metrics.adjusted_rand_score(kmeans_cluster.predict(X_test), Y_test))"
   ]
  },
  {
   "cell_type": "code",
   "execution_count": null,
   "id": "e5662941",
   "metadata": {},
   "outputs": [],
   "source": []
  },
  {
   "cell_type": "code",
   "execution_count": null,
   "id": "c24bbe94",
   "metadata": {},
   "outputs": [],
   "source": []
  },
  {
   "cell_type": "code",
   "execution_count": null,
   "id": "5a6cc5d4",
   "metadata": {},
   "outputs": [],
   "source": []
  },
  {
   "cell_type": "code",
   "execution_count": null,
   "id": "cc2a878e",
   "metadata": {},
   "outputs": [],
   "source": []
  },
  {
   "cell_type": "code",
   "execution_count": null,
   "id": "e91d51fa",
   "metadata": {},
   "outputs": [],
   "source": []
  },
  {
   "cell_type": "code",
   "execution_count": null,
   "id": "d1980747",
   "metadata": {},
   "outputs": [],
   "source": []
  },
  {
   "cell_type": "code",
   "execution_count": null,
   "id": "4822cd2e",
   "metadata": {},
   "outputs": [],
   "source": []
  },
  {
   "cell_type": "code",
   "execution_count": null,
   "id": "1efa7e0a",
   "metadata": {},
   "outputs": [],
   "source": []
  },
  {
   "cell_type": "code",
   "execution_count": null,
   "id": "e95e92ff",
   "metadata": {},
   "outputs": [],
   "source": []
  },
  {
   "cell_type": "code",
   "execution_count": null,
   "id": "3efe0e84",
   "metadata": {},
   "outputs": [],
   "source": []
  },
  {
   "cell_type": "code",
   "execution_count": null,
   "id": "bf430a6f",
   "metadata": {},
   "outputs": [],
   "source": []
  },
  {
   "cell_type": "code",
   "execution_count": null,
   "id": "4fed8da8",
   "metadata": {},
   "outputs": [],
   "source": []
  },
  {
   "cell_type": "code",
   "execution_count": 30,
   "id": "a1b1e0a4",
   "metadata": {},
   "outputs": [
    {
     "name": "stdout",
     "output_type": "stream",
     "text": [
      "[1 0 3 1 2 0]\n"
     ]
    }
   ],
   "source": [
    "import sklearn.preprocessing as preprocessing\n",
    "\n",
    "regions = ['HYD', 'CHN', 'MUM', 'HYD', 'KOL', 'CHN']\n",
    "print(preprocessing.LabelEncoder().fit(regions).transform(regions))"
   ]
  },
  {
   "cell_type": "code",
   "execution_count": 54,
   "id": "8b60a6cb",
   "metadata": {},
   "outputs": [
    {
     "name": "stdout",
     "output_type": "stream",
     "text": [
      "[0.75140029 0.40517418 0.45478362 0.14107142]\n",
      "[[1. 0. 0.]\n",
      " [0. 1. 0.]\n",
      " [0. 0. 1.]]\n",
      "[6.262 2.872 4.906 1.676]\n"
     ]
    }
   ],
   "source": [
    "#Write your code here\n",
    "\n",
    "import numpy \n",
    "from sklearn.preprocessing import OneHotEncoder\n",
    "from sklearn.datasets import load_iris\n",
    "import sklearn.preprocessing as preprocessing\n",
    "from sklearn.impute import SimpleImputer\n",
    "\n",
    "\n",
    "iris = load_iris()\n",
    "normalizer = preprocessing.Normalizer(norm='l2').fit(iris.data)\n",
    "iris_normalized = normalizer.transform(iris.data)\n",
    "print(iris_normalized.mean(axis=0))\n",
    "\n",
    "\n",
    "\n",
    "encoder = preprocessing.OneHotEncoder(sparse=False)\n",
    "iris_target_one_hot = encoder.fit_transform(iris.target.reshape(-1, 1))\n",
    "print(numpy.array(iris_target_one_hot)[[0, 50, 100]])\n",
    "\n",
    "\n",
    "\n",
    "iris.data[:50,:] = numpy.nan\n",
    "imputer = SimpleImputer(missing_values=numpy.nan, strategy='mean')\n",
    "iris_imputed = imputer.fit_transform(iris.data)\n",
    "print(iris_imputed.mean(axis=0))"
   ]
  },
  {
   "attachments": {
    "image.png": {
     "image/png": "[encoded data removed]"
    }
   },
   "cell_type": "markdown",
   "id": "b72b0695",
   "metadata": {},
   "source": [
    "![image.png](attachment:image.png)"
   ]
  },
  {
   "cell_type": "code",
   "execution_count": 79,
   "id": "140a21ad",
   "metadata": {},
   "outputs": [
    {
     "name": "stdout",
     "output_type": "stream",
     "text": [
      "(112, 4)\n",
      "(38, 4)\n",
      "0.9821428571428571\n",
      "0.9473684210526315\n",
      "9\n"
     ]
    }
   ],
   "source": [
    "import sklearn.datasets as datasets\n",
    "from sklearn.model_selection import train_test_split\n",
    "from sklearn.neighbors import KNeighborsClassifier\n",
    "\n",
    "iris = datasets.load_iris()\n",
    "\n",
    "X_train, X_test, Y_train, Y_test = train_test_split(\n",
    "           iris.data, iris.target,\n",
    "           stratify = iris.target,  random_state=30)\n",
    "print(X_train.shape)\n",
    "print(X_test.shape)\n",
    "\n",
    "knn_classifier = KNeighborsClassifier()   \n",
    "knn_clf = knn_classifier.fit(X_train, Y_train) \n",
    "\n",
    "print(knn_clf.score(X_train,Y_train))\n",
    "print(knn_clf.score(X_test,Y_test))\n",
    "\n",
    "li = []\n",
    "neighbors, max_acc = 0, 0\n",
    "for i in range(3, 11):\n",
    "    knn_classifier = KNeighborsClassifier(n_neighbors = i)   \n",
    "    knn_clf = knn_classifier.fit(X_train, Y_train) \n",
    "    acc = knn_clf.score(X_train,Y_train)\n",
    "    li.append(acc)\n",
    "    \n",
    "    if acc>max_acc:\n",
    "        neighbors = i\n",
    "        max_acc = acc\n",
    "    \n",
    "\n",
    "print(neighbors)"
   ]
  },
  {
   "attachments": {
    "image.png": {
     "image/png": "[encoded data removed]"
    }
   },
   "cell_type": "markdown",
   "id": "eb8235fa",
   "metadata": {},
   "source": [
    "![image.png](attachment:image.png)"
   ]
  },
  {
   "cell_type": "code",
   "execution_count": 76,
   "id": "e963a09f",
   "metadata": {},
   "outputs": [
    {
     "name": "stdout",
     "output_type": "stream",
     "text": [
      "(379, 13)\n",
      "(127, 13)\n",
      "1.0\n",
      "0.6915222887792919\n",
      "[18.2, 12.8]\n",
      "5\n"
     ]
    }
   ],
   "source": [
    "import sklearn.datasets as datasets\n",
    "from sklearn.model_selection import train_test_split\n",
    "from sklearn.tree import DecisionTreeRegressor\n",
    "\n",
    "boston = datasets.load_boston()\n",
    "X_train, X_test, Y_train, Y_test = train_test_split(boston.data, boston.target, random_state=30)\n",
    "\n",
    "print(X_train.shape)\n",
    "print(X_test.shape)\n",
    "\n",
    "\n",
    "dt_reg = DecisionTreeRegressor()   \n",
    "dt_reg = dt_reg.fit(X_train, Y_train) \n",
    "print(dt_reg.score(X_train,Y_train))\n",
    "print(dt_reg.score(X_test,Y_test))\n",
    "\n",
    "a = dt_reg.predict([X_test[0]])\n",
    "b = dt_reg.predict([X_test[1]])\n",
    "print([float(a),float(b)])\n",
    "\n",
    "\n",
    "li = []\n",
    "max_acc = 0\n",
    "max_depth_ = 0\n",
    "for i in range(2, 6):\n",
    "    dt_reg = DecisionTreeRegressor(max_depth = i)   \n",
    "    dt_reg = dt_reg.fit(X_train, Y_train) \n",
    "    acc = dt_reg.score(X_train,Y_train)\n",
    "    li.append(acc)\n",
    "    \n",
    "    if acc>max_acc:\n",
    "        max_depth_ = i\n",
    "        max_acc = acc\n",
    "        \n",
    "print(max_depth_)"
   ]
  },
  {
   "cell_type": "code",
   "execution_count": null,
   "id": "0df6937d",
   "metadata": {},
   "outputs": [],
   "source": []
  }
 ],
 "metadata": {
  "kernelspec": {
   "display_name": "Python 3 (ipykernel)",
   "language": "python",
   "name": "python3"
  },
  "language_info": {
   "codemirror_mode": {
    "name": "ipython",
    "version": 3
   },
   "file_extension": ".py",
   "mimetype": "text/x-python",
   "name": "python",
   "nbconvert_exporter": "python",
   "pygments_lexer": "ipython3",
   "version": "3.9.7"
  }
 },
 "nbformat": 4,
 "nbformat_minor": 5
}
