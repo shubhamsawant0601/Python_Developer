{
 "cells": [
  {
   "cell_type": "markdown",
   "id": "fdb6269a",
   "metadata": {},
   "source": [
    "#### Python Features\n",
    "1. Open Source and Simple to use\n",
    "2. Very powerful and Ubiquitous\n",
    "3. Supports broad standard library\n",
    "4. Supports interactive testing and debugging\n",
    "5. Established interface with all major DB's\n",
    "6. Runs on variety of hardware platforms\n",
    "\n",
    "#### Technical Features of Python\n",
    "1. Object-oriented (supports both functional and structured programming)\n",
    "2. Dynamically and strongly typed\n",
    "3. Whitespace delimited (Indentation)\n",
    "4. Scripting language which supports large applications.\n",
    "5. High-level dynamic data types and supports dynamic type checking\n",
    "6. Automatic garbage collection\n",
    "7. Interpreted makes compiler interact with developer.\n",
    "8. Easy integration with C, C++, COM, ActiveX, CORBA and Java.\n",
    "\n",
    "#### Python Implementations\n",
    "1. CPython - C integrations\n",
    "2. Jython  - Java integrations\n",
    "3. Iron Python - .Net integrations\n",
    "\n",
    "#### Python-2  v/s  Python-3\n",
    "- Less Docs supported in python-2\n",
    "- Less package supported  in python-2\n",
    "- print \" \" is statement in python 2 vs print() is function of python 3\n",
    "- xrange() vs range()\n",
    "- 3/2=1 in python-2 and 3/2=1.5 in python-3\n",
    "\n",
    "- **List Comprehension Loop Variables:** Common name for the variables that is iterated over in a list comprehension as a global variable get interchanged. This is fixed in Python 3.\n",
    "\n",
    "- **Unicode Strings:** By default Python 3 stores strings as Unicode unlike Python 2.\n",
    "\n",
    "- **Raising Exceptions:** Python 3 requires different syntax for raising exceptions.\n",
    "   - Python2:raise IOError, “some error message”\n",
    "   - Python3: raise IOError(“some error message”)\n",
    "\n",
    "\n",
    "\n",
    "\n",
    "\n",
    "### REPL - Python\n",
    "Read - \n",
    "\n",
    "Evaluate - \n",
    "\n",
    "Print - \n",
    "\n",
    "Loop - \n",
    "\n",
    "\n",
    "\n",
    "\n",
    "\n",
    "\n",
    "\n",
    "\n",
    "\n",
    "\n",
    "\n",
    "\n",
    "\n",
    "\n",
    "\n",
    "\n",
    "\n",
    "\n",
    "\n",
    "\n",
    "\n",
    "\n",
    "\n",
    "\n",
    "\n",
    "\n",
    "\n"
   ]
  },
  {
   "cell_type": "code",
   "execution_count": 4,
   "id": "978fef4a",
   "metadata": {},
   "outputs": [
    {
     "data": {
      "text/plain": [
       "60"
      ]
     },
     "execution_count": 4,
     "metadata": {},
     "output_type": "execute_result"
    }
   ],
   "source": []
  },
  {
   "cell_type": "markdown",
   "id": "4ecffed0",
   "metadata": {},
   "source": [
    "### dir() Functions\n",
    "\n",
    "1. List out all the attributes of the parameter passed.\n",
    "2. List out all the available attributes for a module/list/dictionary."
   ]
  },
  {
   "cell_type": "code",
   "execution_count": 6,
   "id": "fbce7302",
   "metadata": {},
   "outputs": [
    {
     "name": "stdout",
     "output_type": "stream",
     "text": [
      "['__doc__', '__loader__', '__name__', '__package__', '__spec__', 'acos', 'acosh', 'asin', 'asinh', 'atan', 'atan2', 'atanh', 'ceil', 'comb', 'copysign', 'cos', 'cosh', 'degrees', 'dist', 'e', 'erf', 'erfc', 'exp', 'expm1', 'fabs', 'factorial', 'floor', 'fmod', 'frexp', 'fsum', 'gamma', 'gcd', 'hypot', 'inf', 'isclose', 'isfinite', 'isinf', 'isnan', 'isqrt', 'lcm', 'ldexp', 'lgamma', 'log', 'log10', 'log1p', 'log2', 'modf', 'nan', 'nextafter', 'perm', 'pi', 'pow', 'prod', 'radians', 'remainder', 'sin', 'sinh', 'sqrt', 'tan', 'tanh', 'tau', 'trunc', 'ulp']\n"
     ]
    }
   ],
   "source": [
    "import math \n",
    "print(dir(math))"
   ]
  },
  {
   "cell_type": "code",
   "execution_count": 7,
   "id": "371a654c",
   "metadata": {},
   "outputs": [
    {
     "name": "stdout",
     "output_type": "stream",
     "text": [
      "['BPF', 'LOG4', 'NV_MAGICCONST', 'RECIP_BPF', 'Random', 'SG_MAGICCONST', 'SystemRandom', 'TWOPI', '_ONE', '_Sequence', '_Set', '__all__', '__builtins__', '__cached__', '__doc__', '__file__', '__loader__', '__name__', '__package__', '__spec__', '_accumulate', '_acos', '_bisect', '_ceil', '_cos', '_e', '_exp', '_floor', '_index', '_inst', '_isfinite', '_log', '_os', '_pi', '_random', '_repeat', '_sha512', '_sin', '_sqrt', '_test', '_test_generator', '_urandom', '_warn', 'betavariate', 'choice', 'choices', 'expovariate', 'gammavariate', 'gauss', 'getrandbits', 'getstate', 'lognormvariate', 'normalvariate', 'paretovariate', 'randbytes', 'randint', 'random', 'randrange', 'sample', 'seed', 'setstate', 'shuffle', 'triangular', 'uniform', 'vonmisesvariate', 'weibullvariate']\n"
     ]
    }
   ],
   "source": [
    "import random\n",
    "print(dir(random))"
   ]
  },
  {
   "cell_type": "markdown",
   "id": "59dd77a3",
   "metadata": {},
   "source": [
    "### help() Functions"
   ]
  },
  {
   "cell_type": "code",
   "execution_count": 10,
   "id": "aa58f1ce",
   "metadata": {},
   "outputs": [
    {
     "name": "stdout",
     "output_type": "stream",
     "text": [
      "Help on method choices in module random:\n",
      "\n",
      "choices(population, weights=None, *, cum_weights=None, k=1) method of random.Random instance\n",
      "    Return a k sized list of population elements chosen with replacement.\n",
      "    \n",
      "    If the relative weights or cumulative weights are not specified,\n",
      "    the selections are made with equal probability.\n",
      "\n"
     ]
    }
   ],
   "source": [
    "help(random.choices)"
   ]
  },
  {
   "cell_type": "code",
   "execution_count": 11,
   "id": "a47b632d",
   "metadata": {},
   "outputs": [
    {
     "name": "stdout",
     "output_type": "stream",
     "text": [
      "Help on built-in function pow in module math:\n",
      "\n",
      "pow(x, y, /)\n",
      "    Return x**y (x to the power of y).\n",
      "\n"
     ]
    }
   ],
   "source": [
    "help(math.pow)"
   ]
  },
  {
   "cell_type": "markdown",
   "id": "07e3cf1a",
   "metadata": {},
   "source": [
    "# 2. Data Type "
   ]
  },
  {
   "cell_type": "markdown",
   "id": "cbf3cabb",
   "metadata": {},
   "source": [
    "1. int\n",
    "2. float\n",
    "3. str\n",
    "4. bool"
   ]
  },
  {
   "cell_type": "code",
   "execution_count": null,
   "id": "b4246917",
   "metadata": {},
   "outputs": [],
   "source": []
  },
  {
   "cell_type": "code",
   "execution_count": null,
   "id": "aee1dea3",
   "metadata": {},
   "outputs": [],
   "source": []
  },
  {
   "cell_type": "code",
   "execution_count": null,
   "id": "d89093ab",
   "metadata": {},
   "outputs": [],
   "source": []
  },
  {
   "cell_type": "code",
   "execution_count": null,
   "id": "3da44e14",
   "metadata": {},
   "outputs": [],
   "source": []
  },
  {
   "cell_type": "code",
   "execution_count": null,
   "id": "e76f8ee4",
   "metadata": {},
   "outputs": [],
   "source": []
  },
  {
   "cell_type": "code",
   "execution_count": null,
   "id": "3bc08863",
   "metadata": {},
   "outputs": [],
   "source": []
  },
  {
   "cell_type": "code",
   "execution_count": null,
   "id": "0ed3a848",
   "metadata": {},
   "outputs": [],
   "source": []
  },
  {
   "cell_type": "code",
   "execution_count": null,
   "id": "6c284ae2",
   "metadata": {},
   "outputs": [],
   "source": []
  },
  {
   "cell_type": "markdown",
   "id": "0bb2eeb0",
   "metadata": {},
   "source": [
    "# Tab and Newline"
   ]
  },
  {
   "cell_type": "code",
   "execution_count": 1,
   "id": "51f44813",
   "metadata": {},
   "outputs": [
    {
     "name": "stdout",
     "output_type": "stream",
     "text": [
      "Bahubali\n",
      "is a\n",
      "Legend\n",
      "Bahubali\tis a\tLegend\n",
      "Python\tRaw\n",
      "String\tConcept\n",
      "Python\\tRaw\\nString\\tConcept\n"
     ]
    }
   ],
   "source": [
    "def Escape(s1, s2, s3):\n",
    "    s = \"Python\\tRaw\\nString\\tConcept\"\n",
    "    print(f\"{s1}\\n{s2}\\n{s3}\")\n",
    "    print(f\"{s1}\\t{s2}\\t{s3}\")\n",
    "    print(s)\n",
    "    print(r'Python\\tRaw\\nString\\tConcept')\n",
    "    \n",
    "Escape(\"Bahubali\", \"is a\", \"Legend\")"
   ]
  },
  {
   "cell_type": "code",
   "execution_count": null,
   "id": "13d93ebd",
   "metadata": {},
   "outputs": [],
   "source": []
  },
  {
   "cell_type": "markdown",
   "id": "00d459d4",
   "metadata": {},
   "source": [
    "# Byte Array"
   ]
  },
  {
   "cell_type": "code",
   "execution_count": null,
   "id": "109ca8d9",
   "metadata": {},
   "outputs": [],
   "source": []
  },
  {
   "cell_type": "markdown",
   "id": "4ba2dc27",
   "metadata": {},
   "source": [
    "# List Comprehension"
   ]
  },
  {
   "cell_type": "code",
   "execution_count": null,
   "id": "e59a93ce",
   "metadata": {},
   "outputs": [],
   "source": []
  },
  {
   "cell_type": "markdown",
   "id": "90957ec7",
   "metadata": {},
   "source": [
    "# Collection & Mapping types in Python"
   ]
  },
  {
   "cell_type": "code",
   "execution_count": null,
   "id": "83b5c755",
   "metadata": {},
   "outputs": [],
   "source": []
  },
  {
   "cell_type": "markdown",
   "id": "7a3e4794",
   "metadata": {},
   "source": [
    "1. No interpreter\n",
    "2. set - symmetric difference\n",
    "3. wildcard import\n",
    "4. min max on string\n",
    "5. Frozen Set\n",
    "6. Tuple methods\n",
    "7. "
   ]
  },
  {
   "cell_type": "markdown",
   "id": "11bd73a9",
   "metadata": {},
   "source": [
    "1. panel data structure\n",
    "2. "
   ]
  }
 ],
 "metadata": {
  "kernelspec": {
   "display_name": "Python 3 (ipykernel)",
   "language": "python",
   "name": "python3"
  },
  "language_info": {
   "codemirror_mode": {
    "name": "ipython",
    "version": 3
   },
   "file_extension": ".py",
   "mimetype": "text/x-python",
   "name": "python",
   "nbconvert_exporter": "python",
   "pygments_lexer": "ipython3",
   "version": "3.10.0"
  }
 },
 "nbformat": 4,
 "nbformat_minor": 5
}
