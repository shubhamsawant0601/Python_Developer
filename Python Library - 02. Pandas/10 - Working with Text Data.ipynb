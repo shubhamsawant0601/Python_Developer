{
 "cells": [
  {
   "cell_type": "code",
   "execution_count": 2,
   "id": "26423332",
   "metadata": {},
   "outputs": [
    {
     "data": {
      "text/html": [
       "<div>\n",
       "<style scoped>\n",
       "    .dataframe tbody tr th:only-of-type {\n",
       "        vertical-align: middle;\n",
       "    }\n",
       "\n",
       "    .dataframe tbody tr th {\n",
       "        vertical-align: top;\n",
       "    }\n",
       "\n",
       "    .dataframe thead th {\n",
       "        text-align: right;\n",
       "    }\n",
       "</style>\n",
       "<table border=\"1\" class=\"dataframe\">\n",
       "  <thead>\n",
       "    <tr style=\"text-align: right;\">\n",
       "      <th></th>\n",
       "      <th>index</th>\n",
       "      <th>company</th>\n",
       "      <th>body-style</th>\n",
       "      <th>wheel-base</th>\n",
       "      <th>length</th>\n",
       "      <th>engine-type</th>\n",
       "      <th>num-of-cylinders</th>\n",
       "      <th>horsepower</th>\n",
       "      <th>average-mileage</th>\n",
       "      <th>price</th>\n",
       "    </tr>\n",
       "  </thead>\n",
       "  <tbody>\n",
       "    <tr>\n",
       "      <th>0</th>\n",
       "      <td>0</td>\n",
       "      <td>alfa-romero</td>\n",
       "      <td>convertible</td>\n",
       "      <td>88.6</td>\n",
       "      <td>168.8</td>\n",
       "      <td>dohc</td>\n",
       "      <td>four</td>\n",
       "      <td>111</td>\n",
       "      <td>21</td>\n",
       "      <td>13495.0</td>\n",
       "    </tr>\n",
       "    <tr>\n",
       "      <th>1</th>\n",
       "      <td>1</td>\n",
       "      <td>alfa-romero</td>\n",
       "      <td>convertible</td>\n",
       "      <td>88.6</td>\n",
       "      <td>168.8</td>\n",
       "      <td>dohc</td>\n",
       "      <td>four</td>\n",
       "      <td>111</td>\n",
       "      <td>21</td>\n",
       "      <td>16500.0</td>\n",
       "    </tr>\n",
       "    <tr>\n",
       "      <th>2</th>\n",
       "      <td>2</td>\n",
       "      <td>alfa-romero</td>\n",
       "      <td>hatchback</td>\n",
       "      <td>94.5</td>\n",
       "      <td>171.2</td>\n",
       "      <td>ohcv</td>\n",
       "      <td>six</td>\n",
       "      <td>154</td>\n",
       "      <td>19</td>\n",
       "      <td>16500.0</td>\n",
       "    </tr>\n",
       "    <tr>\n",
       "      <th>3</th>\n",
       "      <td>3</td>\n",
       "      <td>audi</td>\n",
       "      <td>sedan</td>\n",
       "      <td>99.8</td>\n",
       "      <td>176.6</td>\n",
       "      <td>ohc</td>\n",
       "      <td>four</td>\n",
       "      <td>102</td>\n",
       "      <td>24</td>\n",
       "      <td>13950.0</td>\n",
       "    </tr>\n",
       "    <tr>\n",
       "      <th>4</th>\n",
       "      <td>4</td>\n",
       "      <td>audi</td>\n",
       "      <td>sedan</td>\n",
       "      <td>99.4</td>\n",
       "      <td>176.6</td>\n",
       "      <td>ohc</td>\n",
       "      <td>five</td>\n",
       "      <td>115</td>\n",
       "      <td>18</td>\n",
       "      <td>17450.0</td>\n",
       "    </tr>\n",
       "  </tbody>\n",
       "</table>\n",
       "</div>"
      ],
      "text/plain": [
       "   index      company   body-style  wheel-base  length engine-type  \\\n",
       "0      0  alfa-romero  convertible        88.6   168.8        dohc   \n",
       "1      1  alfa-romero  convertible        88.6   168.8        dohc   \n",
       "2      2  alfa-romero    hatchback        94.5   171.2        ohcv   \n",
       "3      3         audi        sedan        99.8   176.6         ohc   \n",
       "4      4         audi        sedan        99.4   176.6         ohc   \n",
       "\n",
       "  num-of-cylinders  horsepower  average-mileage    price  \n",
       "0             four         111               21  13495.0  \n",
       "1             four         111               21  16500.0  \n",
       "2              six         154               19  16500.0  \n",
       "3             four         102               24  13950.0  \n",
       "4             five         115               18  17450.0  "
      ]
     },
     "execution_count": 2,
     "metadata": {},
     "output_type": "execute_result"
    }
   ],
   "source": [
    "import pandas as pd \n",
    "data = pd.read_csv(\"Automobile_data.csv\")\n",
    "data.head()"
   ]
  },
  {
   "cell_type": "markdown",
   "id": "5570f8c6",
   "metadata": {},
   "source": [
    "# Working with Text Data\n",
    "## Class - String (str)"
   ]
  },
  {
   "cell_type": "markdown",
   "id": "91c3432c",
   "metadata": {},
   "source": [
    "Functions used excludes the NaN values \n",
    "1. `str.lower()` - Lower case\n",
    "2. `str.upper()` - Upper case\n",
    "3. `str.len()`   - Return length\n",
    "4. `str.strip()` - Remove Spaces from front and back\n",
    "5. `str.split('')` - Split across mentioned pattern\n",
    "6. `str.cat(sep='')` - Concatenate the series/index elements with given separator\n",
    "7. `str.get_dummies()` - Return DataFrame with one hot encoded vales\n",
    "8. `str.contains(_pattern_)` - Return boolean true is substring contains pattern\n",
    "9. `str.replace(_a_,_b_)` - Replaces a with b\n",
    "10. `str.repeat(_value_)` - Repeates value with given number no. of time\n",
    "11. `str.count(_pattern_)` - Return count of pattern in each element\n",
    "12. `str.startswith(_pattern_)` - Return boolean\n",
    "13. `str.endswith(_pattern_)` - Return boolean\n",
    "14. `str.find(pattern)` - Return first position of pattern in each element\n",
    "15. `str.findall(pattern)` - Return List of positions of pattern in each element\n",
    "16. `str.swapcase` - Swaps cases\n",
    "17. `str.islower()` -  Return boolean\n",
    "18. `str.isupper()` -  Return boolean\n",
    "19. `str.isnumeric()` -  Return boolean"
   ]
  },
  {
   "cell_type": "code",
   "execution_count": 4,
   "id": "6714c6dc",
   "metadata": {},
   "outputs": [
    {
     "data": {
      "text/plain": [
       "0     alfa-romero\n",
       "1     alfa-romero\n",
       "2     alfa-romero\n",
       "3            audi\n",
       "4            audi\n",
       "         ...     \n",
       "56     volkswagen\n",
       "57     volkswagen\n",
       "58     volkswagen\n",
       "59          volvo\n",
       "60          volvo\n",
       "Name: company, Length: 61, dtype: object"
      ]
     },
     "execution_count": 4,
     "metadata": {},
     "output_type": "execute_result"
    }
   ],
   "source": [
    "data[\"company\"].str.lower()"
   ]
  },
  {
   "cell_type": "code",
   "execution_count": 5,
   "id": "fac9da8c",
   "metadata": {},
   "outputs": [
    {
     "data": {
      "text/plain": [
       "0     ALFA-ROMERO\n",
       "1     ALFA-ROMERO\n",
       "2     ALFA-ROMERO\n",
       "3            AUDI\n",
       "4            AUDI\n",
       "         ...     \n",
       "56     VOLKSWAGEN\n",
       "57     VOLKSWAGEN\n",
       "58     VOLKSWAGEN\n",
       "59          VOLVO\n",
       "60          VOLVO\n",
       "Name: company, Length: 61, dtype: object"
      ]
     },
     "execution_count": 5,
     "metadata": {},
     "output_type": "execute_result"
    }
   ],
   "source": [
    "data[\"company\"].str.upper()"
   ]
  },
  {
   "cell_type": "code",
   "execution_count": 6,
   "id": "8c7e9c2a",
   "metadata": {},
   "outputs": [
    {
     "data": {
      "text/plain": [
       "0     11\n",
       "1     11\n",
       "2     11\n",
       "3      4\n",
       "4      4\n",
       "      ..\n",
       "56    10\n",
       "57    10\n",
       "58    10\n",
       "59     5\n",
       "60     5\n",
       "Name: company, Length: 61, dtype: int64"
      ]
     },
     "execution_count": 6,
     "metadata": {},
     "output_type": "execute_result"
    }
   ],
   "source": [
    "data[\"company\"].str.len()"
   ]
  },
  {
   "cell_type": "code",
   "execution_count": 7,
   "id": "f55eddf9",
   "metadata": {},
   "outputs": [
    {
     "data": {
      "text/plain": [
       "0     alfa-romero\n",
       "1     alfa-romero\n",
       "2     alfa-romero\n",
       "3            audi\n",
       "4            audi\n",
       "         ...     \n",
       "56     volkswagen\n",
       "57     volkswagen\n",
       "58     volkswagen\n",
       "59          volvo\n",
       "60          volvo\n",
       "Name: company, Length: 61, dtype: object"
      ]
     },
     "execution_count": 7,
     "metadata": {},
     "output_type": "execute_result"
    }
   ],
   "source": [
    "data[\"company\"].str.strip()"
   ]
  },
  {
   "cell_type": "code",
   "execution_count": 8,
   "id": "b06e7fe2",
   "metadata": {},
   "outputs": [
    {
     "data": {
      "text/plain": [
       "0     [alfa, romero]\n",
       "1     [alfa, romero]\n",
       "2     [alfa, romero]\n",
       "3             [audi]\n",
       "4             [audi]\n",
       "           ...      \n",
       "56      [volkswagen]\n",
       "57      [volkswagen]\n",
       "58      [volkswagen]\n",
       "59           [volvo]\n",
       "60           [volvo]\n",
       "Name: company, Length: 61, dtype: object"
      ]
     },
     "execution_count": 8,
     "metadata": {},
     "output_type": "execute_result"
    }
   ],
   "source": [
    "data[\"company\"].str.split('-')"
   ]
  },
  {
   "cell_type": "code",
   "execution_count": 11,
   "id": "f5f7efed",
   "metadata": {},
   "outputs": [
    {
     "data": {
      "text/plain": [
       "'alfa-romero**alfa-romero**alfa-romero**audi**audi**audi**audi**bmw**bmw**bmw**bmw**bmw**bmw**chevrolet**chevrolet**chevrolet**dodge**dodge**honda**honda**honda**isuzu**isuzu**isuzu**jaguar**jaguar**jaguar**mazda**mazda**mazda**mazda**mazda**mercedes-benz**mercedes-benz**mercedes-benz**mercedes-benz**mitsubishi**mitsubishi**mitsubishi**mitsubishi**nissan**nissan**nissan**nissan**nissan**porsche**porsche**porsche**toyota**toyota**toyota**toyota**toyota**toyota**toyota**volkswagen**volkswagen**volkswagen**volkswagen**volvo**volvo'"
      ]
     },
     "execution_count": 11,
     "metadata": {},
     "output_type": "execute_result"
    }
   ],
   "source": [
    "data[\"company\"].str.cat(sep='**')"
   ]
  },
  {
   "cell_type": "code",
   "execution_count": 12,
   "id": "11487a7f",
   "metadata": {},
   "outputs": [
    {
     "data": {
      "text/html": [
       "<div>\n",
       "<style scoped>\n",
       "    .dataframe tbody tr th:only-of-type {\n",
       "        vertical-align: middle;\n",
       "    }\n",
       "\n",
       "    .dataframe tbody tr th {\n",
       "        vertical-align: top;\n",
       "    }\n",
       "\n",
       "    .dataframe thead th {\n",
       "        text-align: right;\n",
       "    }\n",
       "</style>\n",
       "<table border=\"1\" class=\"dataframe\">\n",
       "  <thead>\n",
       "    <tr style=\"text-align: right;\">\n",
       "      <th></th>\n",
       "      <th>alfa-romero</th>\n",
       "      <th>audi</th>\n",
       "      <th>bmw</th>\n",
       "      <th>chevrolet</th>\n",
       "      <th>dodge</th>\n",
       "      <th>honda</th>\n",
       "      <th>isuzu</th>\n",
       "      <th>jaguar</th>\n",
       "      <th>mazda</th>\n",
       "      <th>mercedes-benz</th>\n",
       "      <th>mitsubishi</th>\n",
       "      <th>nissan</th>\n",
       "      <th>porsche</th>\n",
       "      <th>toyota</th>\n",
       "      <th>volkswagen</th>\n",
       "      <th>volvo</th>\n",
       "    </tr>\n",
       "  </thead>\n",
       "  <tbody>\n",
       "    <tr>\n",
       "      <th>0</th>\n",
       "      <td>1</td>\n",
       "      <td>0</td>\n",
       "      <td>0</td>\n",
       "      <td>0</td>\n",
       "      <td>0</td>\n",
       "      <td>0</td>\n",
       "      <td>0</td>\n",
       "      <td>0</td>\n",
       "      <td>0</td>\n",
       "      <td>0</td>\n",
       "      <td>0</td>\n",
       "      <td>0</td>\n",
       "      <td>0</td>\n",
       "      <td>0</td>\n",
       "      <td>0</td>\n",
       "      <td>0</td>\n",
       "    </tr>\n",
       "    <tr>\n",
       "      <th>1</th>\n",
       "      <td>1</td>\n",
       "      <td>0</td>\n",
       "      <td>0</td>\n",
       "      <td>0</td>\n",
       "      <td>0</td>\n",
       "      <td>0</td>\n",
       "      <td>0</td>\n",
       "      <td>0</td>\n",
       "      <td>0</td>\n",
       "      <td>0</td>\n",
       "      <td>0</td>\n",
       "      <td>0</td>\n",
       "      <td>0</td>\n",
       "      <td>0</td>\n",
       "      <td>0</td>\n",
       "      <td>0</td>\n",
       "    </tr>\n",
       "    <tr>\n",
       "      <th>2</th>\n",
       "      <td>1</td>\n",
       "      <td>0</td>\n",
       "      <td>0</td>\n",
       "      <td>0</td>\n",
       "      <td>0</td>\n",
       "      <td>0</td>\n",
       "      <td>0</td>\n",
       "      <td>0</td>\n",
       "      <td>0</td>\n",
       "      <td>0</td>\n",
       "      <td>0</td>\n",
       "      <td>0</td>\n",
       "      <td>0</td>\n",
       "      <td>0</td>\n",
       "      <td>0</td>\n",
       "      <td>0</td>\n",
       "    </tr>\n",
       "    <tr>\n",
       "      <th>3</th>\n",
       "      <td>0</td>\n",
       "      <td>1</td>\n",
       "      <td>0</td>\n",
       "      <td>0</td>\n",
       "      <td>0</td>\n",
       "      <td>0</td>\n",
       "      <td>0</td>\n",
       "      <td>0</td>\n",
       "      <td>0</td>\n",
       "      <td>0</td>\n",
       "      <td>0</td>\n",
       "      <td>0</td>\n",
       "      <td>0</td>\n",
       "      <td>0</td>\n",
       "      <td>0</td>\n",
       "      <td>0</td>\n",
       "    </tr>\n",
       "    <tr>\n",
       "      <th>4</th>\n",
       "      <td>0</td>\n",
       "      <td>1</td>\n",
       "      <td>0</td>\n",
       "      <td>0</td>\n",
       "      <td>0</td>\n",
       "      <td>0</td>\n",
       "      <td>0</td>\n",
       "      <td>0</td>\n",
       "      <td>0</td>\n",
       "      <td>0</td>\n",
       "      <td>0</td>\n",
       "      <td>0</td>\n",
       "      <td>0</td>\n",
       "      <td>0</td>\n",
       "      <td>0</td>\n",
       "      <td>0</td>\n",
       "    </tr>\n",
       "    <tr>\n",
       "      <th>...</th>\n",
       "      <td>...</td>\n",
       "      <td>...</td>\n",
       "      <td>...</td>\n",
       "      <td>...</td>\n",
       "      <td>...</td>\n",
       "      <td>...</td>\n",
       "      <td>...</td>\n",
       "      <td>...</td>\n",
       "      <td>...</td>\n",
       "      <td>...</td>\n",
       "      <td>...</td>\n",
       "      <td>...</td>\n",
       "      <td>...</td>\n",
       "      <td>...</td>\n",
       "      <td>...</td>\n",
       "      <td>...</td>\n",
       "    </tr>\n",
       "    <tr>\n",
       "      <th>56</th>\n",
       "      <td>0</td>\n",
       "      <td>0</td>\n",
       "      <td>0</td>\n",
       "      <td>0</td>\n",
       "      <td>0</td>\n",
       "      <td>0</td>\n",
       "      <td>0</td>\n",
       "      <td>0</td>\n",
       "      <td>0</td>\n",
       "      <td>0</td>\n",
       "      <td>0</td>\n",
       "      <td>0</td>\n",
       "      <td>0</td>\n",
       "      <td>0</td>\n",
       "      <td>1</td>\n",
       "      <td>0</td>\n",
       "    </tr>\n",
       "    <tr>\n",
       "      <th>57</th>\n",
       "      <td>0</td>\n",
       "      <td>0</td>\n",
       "      <td>0</td>\n",
       "      <td>0</td>\n",
       "      <td>0</td>\n",
       "      <td>0</td>\n",
       "      <td>0</td>\n",
       "      <td>0</td>\n",
       "      <td>0</td>\n",
       "      <td>0</td>\n",
       "      <td>0</td>\n",
       "      <td>0</td>\n",
       "      <td>0</td>\n",
       "      <td>0</td>\n",
       "      <td>1</td>\n",
       "      <td>0</td>\n",
       "    </tr>\n",
       "    <tr>\n",
       "      <th>58</th>\n",
       "      <td>0</td>\n",
       "      <td>0</td>\n",
       "      <td>0</td>\n",
       "      <td>0</td>\n",
       "      <td>0</td>\n",
       "      <td>0</td>\n",
       "      <td>0</td>\n",
       "      <td>0</td>\n",
       "      <td>0</td>\n",
       "      <td>0</td>\n",
       "      <td>0</td>\n",
       "      <td>0</td>\n",
       "      <td>0</td>\n",
       "      <td>0</td>\n",
       "      <td>1</td>\n",
       "      <td>0</td>\n",
       "    </tr>\n",
       "    <tr>\n",
       "      <th>59</th>\n",
       "      <td>0</td>\n",
       "      <td>0</td>\n",
       "      <td>0</td>\n",
       "      <td>0</td>\n",
       "      <td>0</td>\n",
       "      <td>0</td>\n",
       "      <td>0</td>\n",
       "      <td>0</td>\n",
       "      <td>0</td>\n",
       "      <td>0</td>\n",
       "      <td>0</td>\n",
       "      <td>0</td>\n",
       "      <td>0</td>\n",
       "      <td>0</td>\n",
       "      <td>0</td>\n",
       "      <td>1</td>\n",
       "    </tr>\n",
       "    <tr>\n",
       "      <th>60</th>\n",
       "      <td>0</td>\n",
       "      <td>0</td>\n",
       "      <td>0</td>\n",
       "      <td>0</td>\n",
       "      <td>0</td>\n",
       "      <td>0</td>\n",
       "      <td>0</td>\n",
       "      <td>0</td>\n",
       "      <td>0</td>\n",
       "      <td>0</td>\n",
       "      <td>0</td>\n",
       "      <td>0</td>\n",
       "      <td>0</td>\n",
       "      <td>0</td>\n",
       "      <td>0</td>\n",
       "      <td>1</td>\n",
       "    </tr>\n",
       "  </tbody>\n",
       "</table>\n",
       "<p>61 rows × 16 columns</p>\n",
       "</div>"
      ],
      "text/plain": [
       "    alfa-romero  audi  bmw  chevrolet  dodge  honda  isuzu  jaguar  mazda  \\\n",
       "0             1     0    0          0      0      0      0       0      0   \n",
       "1             1     0    0          0      0      0      0       0      0   \n",
       "2             1     0    0          0      0      0      0       0      0   \n",
       "3             0     1    0          0      0      0      0       0      0   \n",
       "4             0     1    0          0      0      0      0       0      0   \n",
       "..          ...   ...  ...        ...    ...    ...    ...     ...    ...   \n",
       "56            0     0    0          0      0      0      0       0      0   \n",
       "57            0     0    0          0      0      0      0       0      0   \n",
       "58            0     0    0          0      0      0      0       0      0   \n",
       "59            0     0    0          0      0      0      0       0      0   \n",
       "60            0     0    0          0      0      0      0       0      0   \n",
       "\n",
       "    mercedes-benz  mitsubishi  nissan  porsche  toyota  volkswagen  volvo  \n",
       "0               0           0       0        0       0           0      0  \n",
       "1               0           0       0        0       0           0      0  \n",
       "2               0           0       0        0       0           0      0  \n",
       "3               0           0       0        0       0           0      0  \n",
       "4               0           0       0        0       0           0      0  \n",
       "..            ...         ...     ...      ...     ...         ...    ...  \n",
       "56              0           0       0        0       0           1      0  \n",
       "57              0           0       0        0       0           1      0  \n",
       "58              0           0       0        0       0           1      0  \n",
       "59              0           0       0        0       0           0      1  \n",
       "60              0           0       0        0       0           0      1  \n",
       "\n",
       "[61 rows x 16 columns]"
      ]
     },
     "execution_count": 12,
     "metadata": {},
     "output_type": "execute_result"
    }
   ],
   "source": [
    "data[\"company\"].str.get_dummies()"
   ]
  },
  {
   "cell_type": "code",
   "execution_count": 14,
   "id": "929ced46",
   "metadata": {},
   "outputs": [
    {
     "data": {
      "text/plain": [
       "0     False\n",
       "1     False\n",
       "2     False\n",
       "3      True\n",
       "4      True\n",
       "      ...  \n",
       "56    False\n",
       "57    False\n",
       "58    False\n",
       "59    False\n",
       "60    False\n",
       "Name: company, Length: 61, dtype: bool"
      ]
     },
     "execution_count": 14,
     "metadata": {},
     "output_type": "execute_result"
    }
   ],
   "source": [
    "data[\"company\"].str.contains('u')"
   ]
  },
  {
   "cell_type": "code",
   "execution_count": 15,
   "id": "0ef67ab6",
   "metadata": {},
   "outputs": [
    {
     "data": {
      "text/plain": [
       "0     alfa*romero\n",
       "1     alfa*romero\n",
       "2     alfa*romero\n",
       "3            audi\n",
       "4            audi\n",
       "         ...     \n",
       "56     volkswagen\n",
       "57     volkswagen\n",
       "58     volkswagen\n",
       "59          volvo\n",
       "60          volvo\n",
       "Name: company, Length: 61, dtype: object"
      ]
     },
     "execution_count": 15,
     "metadata": {},
     "output_type": "execute_result"
    }
   ],
   "source": [
    "data[\"company\"].str.replace('-','*')"
   ]
  },
  {
   "cell_type": "code",
   "execution_count": 16,
   "id": "89b70361",
   "metadata": {},
   "outputs": [
    {
     "data": {
      "text/plain": [
       "0     alfa-romeroalfa-romeroalfa-romero\n",
       "1     alfa-romeroalfa-romeroalfa-romero\n",
       "2     alfa-romeroalfa-romeroalfa-romero\n",
       "3                          audiaudiaudi\n",
       "4                          audiaudiaudi\n",
       "                    ...                \n",
       "56       volkswagenvolkswagenvolkswagen\n",
       "57       volkswagenvolkswagenvolkswagen\n",
       "58       volkswagenvolkswagenvolkswagen\n",
       "59                      volvovolvovolvo\n",
       "60                      volvovolvovolvo\n",
       "Name: company, Length: 61, dtype: object"
      ]
     },
     "execution_count": 16,
     "metadata": {},
     "output_type": "execute_result"
    }
   ],
   "source": [
    "data[\"company\"].str.repeat(3)"
   ]
  },
  {
   "cell_type": "code",
   "execution_count": 18,
   "id": "ef050e1e",
   "metadata": {},
   "outputs": [
    {
     "data": {
      "text/plain": [
       "0     1\n",
       "1     1\n",
       "2     1\n",
       "3     0\n",
       "4     0\n",
       "     ..\n",
       "56    0\n",
       "57    0\n",
       "58    0\n",
       "59    0\n",
       "60    0\n",
       "Name: company, Length: 61, dtype: int64"
      ]
     },
     "execution_count": 18,
     "metadata": {},
     "output_type": "execute_result"
    }
   ],
   "source": [
    "data[\"company\"].str.count('m')"
   ]
  },
  {
   "cell_type": "code",
   "execution_count": 19,
   "id": "65250f22",
   "metadata": {},
   "outputs": [
    {
     "data": {
      "text/plain": [
       "0      True\n",
       "1      True\n",
       "2      True\n",
       "3      True\n",
       "4      True\n",
       "      ...  \n",
       "56    False\n",
       "57    False\n",
       "58    False\n",
       "59    False\n",
       "60    False\n",
       "Name: company, Length: 61, dtype: bool"
      ]
     },
     "execution_count": 19,
     "metadata": {},
     "output_type": "execute_result"
    }
   ],
   "source": [
    "data[\"company\"].str.startswith('a')"
   ]
  },
  {
   "cell_type": "code",
   "execution_count": 20,
   "id": "55f0b475",
   "metadata": {},
   "outputs": [
    {
     "data": {
      "text/plain": [
       "0     False\n",
       "1     False\n",
       "2     False\n",
       "3      True\n",
       "4      True\n",
       "      ...  \n",
       "56    False\n",
       "57    False\n",
       "58    False\n",
       "59    False\n",
       "60    False\n",
       "Name: company, Length: 61, dtype: bool"
      ]
     },
     "execution_count": 20,
     "metadata": {},
     "output_type": "execute_result"
    }
   ],
   "source": [
    "data[\"company\"].str.endswith('i')"
   ]
  },
  {
   "cell_type": "code",
   "execution_count": 21,
   "id": "76748e07",
   "metadata": {},
   "outputs": [
    {
     "data": {
      "text/plain": [
       "0     4\n",
       "1     4\n",
       "2     4\n",
       "3    -1\n",
       "4    -1\n",
       "     ..\n",
       "56   -1\n",
       "57   -1\n",
       "58   -1\n",
       "59   -1\n",
       "60   -1\n",
       "Name: company, Length: 61, dtype: int64"
      ]
     },
     "execution_count": 21,
     "metadata": {},
     "output_type": "execute_result"
    }
   ],
   "source": [
    "data[\"company\"].str.find('-')"
   ]
  },
  {
   "cell_type": "code",
   "execution_count": 22,
   "id": "bd0e14cc",
   "metadata": {},
   "outputs": [
    {
     "data": {
      "text/plain": [
       "0     [a, a]\n",
       "1     [a, a]\n",
       "2     [a, a]\n",
       "3        [a]\n",
       "4        [a]\n",
       "       ...  \n",
       "56       [a]\n",
       "57       [a]\n",
       "58       [a]\n",
       "59        []\n",
       "60        []\n",
       "Name: company, Length: 61, dtype: object"
      ]
     },
     "execution_count": 22,
     "metadata": {},
     "output_type": "execute_result"
    }
   ],
   "source": [
    "data[\"company\"].str.findall('a')"
   ]
  },
  {
   "cell_type": "code",
   "execution_count": 23,
   "id": "d3093104",
   "metadata": {},
   "outputs": [
    {
     "data": {
      "text/plain": [
       "0     ALFA-ROMERO\n",
       "1     ALFA-ROMERO\n",
       "2     ALFA-ROMERO\n",
       "3            AUDI\n",
       "4            AUDI\n",
       "         ...     \n",
       "56     VOLKSWAGEN\n",
       "57     VOLKSWAGEN\n",
       "58     VOLKSWAGEN\n",
       "59          VOLVO\n",
       "60          VOLVO\n",
       "Name: company, Length: 61, dtype: object"
      ]
     },
     "execution_count": 23,
     "metadata": {},
     "output_type": "execute_result"
    }
   ],
   "source": [
    "data[\"company\"].str.swapcase()"
   ]
  },
  {
   "cell_type": "code",
   "execution_count": 24,
   "id": "76108e38",
   "metadata": {},
   "outputs": [
    {
     "data": {
      "text/plain": [
       "0     True\n",
       "1     True\n",
       "2     True\n",
       "3     True\n",
       "4     True\n",
       "      ... \n",
       "56    True\n",
       "57    True\n",
       "58    True\n",
       "59    True\n",
       "60    True\n",
       "Name: company, Length: 61, dtype: bool"
      ]
     },
     "execution_count": 24,
     "metadata": {},
     "output_type": "execute_result"
    }
   ],
   "source": [
    "data[\"company\"].str.islower()"
   ]
  },
  {
   "cell_type": "code",
   "execution_count": 25,
   "id": "6ec29d53",
   "metadata": {},
   "outputs": [
    {
     "data": {
      "text/plain": [
       "0     False\n",
       "1     False\n",
       "2     False\n",
       "3     False\n",
       "4     False\n",
       "      ...  \n",
       "56    False\n",
       "57    False\n",
       "58    False\n",
       "59    False\n",
       "60    False\n",
       "Name: company, Length: 61, dtype: bool"
      ]
     },
     "execution_count": 25,
     "metadata": {},
     "output_type": "execute_result"
    }
   ],
   "source": [
    "data[\"company\"].str.isupper()"
   ]
  },
  {
   "cell_type": "code",
   "execution_count": 26,
   "id": "98ddb7ee",
   "metadata": {},
   "outputs": [
    {
     "data": {
      "text/plain": [
       "0     False\n",
       "1     False\n",
       "2     False\n",
       "3     False\n",
       "4     False\n",
       "      ...  \n",
       "56    False\n",
       "57    False\n",
       "58    False\n",
       "59    False\n",
       "60    False\n",
       "Name: company, Length: 61, dtype: bool"
      ]
     },
     "execution_count": 26,
     "metadata": {},
     "output_type": "execute_result"
    }
   ],
   "source": [
    "data[\"company\"].str.isnumeric()"
   ]
  },
  {
   "cell_type": "code",
   "execution_count": null,
   "id": "91a0ee27",
   "metadata": {},
   "outputs": [],
   "source": []
  }
 ],
 "metadata": {
  "kernelspec": {
   "display_name": "Python 3 (ipykernel)",
   "language": "python",
   "name": "python3"
  },
  "language_info": {
   "codemirror_mode": {
    "name": "ipython",
    "version": 3
   },
   "file_extension": ".py",
   "mimetype": "text/x-python",
   "name": "python",
   "nbconvert_exporter": "python",
   "pygments_lexer": "ipython3",
   "version": "3.9.7"
  }
 },
 "nbformat": 4,
 "nbformat_minor": 5
}
