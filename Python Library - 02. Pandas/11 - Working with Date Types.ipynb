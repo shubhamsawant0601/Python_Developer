{
 "cells": [
  {
   "cell_type": "code",
   "execution_count": 1,
   "id": "2993f5cd",
   "metadata": {},
   "outputs": [],
   "source": [
    "import pandas as pd"
   ]
  },
  {
   "cell_type": "markdown",
   "id": "e59bdd06",
   "metadata": {},
   "source": [
    "### Python Datetime Function"
   ]
  },
  {
   "cell_type": "code",
   "execution_count": 2,
   "id": "65de0fe3",
   "metadata": {},
   "outputs": [
    {
     "name": "stdout",
     "output_type": "stream",
     "text": [
      "Date =  2022-07-24 11:36:37.707953\n",
      "Year =  2022\n",
      "Month =  7\n",
      "Day =  24\n",
      "Hour =  11\n",
      "Min =  36\n",
      "Second =  37\n"
     ]
    }
   ],
   "source": [
    "from datetime import datetime\n",
    "\n",
    "date = datetime.today()\n",
    "print(\"Date = \", date)\n",
    "print(\"Year = \", date.year)\n",
    "print(\"Month = \", date.month)\n",
    "print(\"Day = \", date.day)\n",
    "print(\"Hour = \", date.hour)\n",
    "print(\"Min = \", date.minute)\n",
    "print(\"Second = \", date.second)"
   ]
  },
  {
   "cell_type": "markdown",
   "id": "7d22d4aa",
   "metadata": {},
   "source": [
    "Directive\tMeaning\tExample\n",
    "\"%a\"\tAbbreviated weekday name.\tSun, Mon, ...\n",
    "\n",
    "\"%A\"\tFull weekday name.\tSunday, Monday, ...\n",
    "\n",
    "\"%w\"\tWeekday as a decimal number.\t0, 1, ..., 6\n",
    "\n",
    "\"%d\"\tDay of the month as a zero-padded decimal.\t01, 02, ..., 31\n",
    "\n",
    "\"%-d\"\tDay of the month as a decimal number.\t1, 2, ..., 30\n",
    "\n",
    "\"%b\"\tAbbreviated month name.\tJan, Feb, ..., Dec\n",
    "\n",
    "\"%B\"\tFull month name.\tJanuary, February, ...\n",
    "\n",
    "\"%m\"\tMonth as a zero-padded decimal number.\t01, 02, ..., 12\n",
    "\n",
    "\"%-m\"\tMonth as a decimal number.\t1, 2, ..., 12\n",
    "\n",
    "\"%y\"\tYear without century as a zero-padded decimal number.\t00, 01, ..., 99\n",
    "\n",
    "\"%-y\"\tYear without century as a decimal number.\t0, 1, ..., 99\n",
    "\n",
    "\"%Y\"\tYear with century as a decimal number.\t2013, 2019 etc.\n",
    "\n",
    "\"%H\"\tHour (24-hour clock) as a zero-padded decimal number.\t00, 01, ..., 23\n",
    "\n",
    "'%-H'\tHour (24-hour clock) as a decimal number.\t0, 1, ..., 23\n",
    "\n",
    "\"%I\"\tHour (12-hour clock) as a zero-padded decimal number.\t01, 02, ..., 12\n",
    "\n",
    "\"%-I\"\tHour (12-hour clock) as a decimal number.\t1, 2, ... 12\n",
    "\n",
    "\"%p\"\tLocale’s AM or PM.\tAM, PM\n",
    "\n",
    "\"%M\"\tMinute as a zero-padded decimal number.\t00, 01, ..., 59\n",
    "\n",
    "\"%-M\"\tMinute as a decimal number.\t0, 1, ..., 59\n",
    "\n",
    "\"%S\"\tSecond as a zero-padded decimal number.\t00, 01, ..., 59\n",
    "\n",
    "\"%-S\"\tSecond as a decimal number.\t0, 1, ..., 59\n",
    "\n",
    "\"%f\"\tMicrosecond as a decimal number, zero-padded on the left.\t000000 - 999999\n",
    "\n",
    "\"%z\"\tUTC offset in the form +HHMM or -HHMM.\t \n",
    "\n",
    "\"%Z\"\tTime zone name.\t \n",
    "\n",
    "\"%j\"\tDay of the year as a zero-padded decimal number.\t001, 002, ..., 366\n",
    "\n",
    "\"%-j\"\tDay of the year as a decimal number.\t1, 2, ..., 366\n",
    "\n",
    "\"%U\"\tWeek number of the year (Sunday as the first day of the week). All days in a new year preceding the first Sunday are considered to be in week 0.\t00, 01, ..., 53\n",
    "\"%W\"\tWeek number of the year (Monday as the first day of the week). All days in a new year preceding the first Monday are considered to be in week 0.\t00, 01, ..., 53\n",
    "\n",
    "\"%c\"\tLocale’s appropriate date and time representation.\tMon Sep 30 07:06:05 2013\n",
    "\n",
    "\"%x\"\tLocale’s appropriate date representation.\t09/30/13\n",
    "\n",
    "\"%X\"\tLocale’s appropriate time representation.\t07:06:05\n",
    "\n",
    "\"%%\"\tA literal '%' character.\t%"
   ]
  },
  {
   "cell_type": "code",
   "execution_count": 3,
   "id": "c5715b34",
   "metadata": {},
   "outputs": [
    {
     "data": {
      "text/plain": [
       "'2022, 22, July, Jul, 07, 24, 07/24/22, 773052, 11, 36, 37'"
      ]
     },
     "execution_count": 3,
     "metadata": {},
     "output_type": "execute_result"
    }
   ],
   "source": [
    "date = datetime.today()\n",
    "date.strftime(\"%Y, %y, %B, %b, %m, %d, %D, %f, %H, %M, %S\")"
   ]
  },
  {
   "cell_type": "code",
   "execution_count": 4,
   "id": "38320d25",
   "metadata": {},
   "outputs": [
    {
     "data": {
      "text/plain": [
       "DatetimeIndex(['2011-01-01 00:00:00', '2011-01-01 00:00:01',\n",
       "               '2011-01-01 00:00:02'],\n",
       "              dtype='datetime64[ns]', freq='S')"
      ]
     },
     "execution_count": 4,
     "metadata": {},
     "output_type": "execute_result"
    }
   ],
   "source": [
    "data = pd.date_range('1/1/2011', periods=3, freq='s')\n",
    "data"
   ]
  },
  {
   "cell_type": "code",
   "execution_count": 5,
   "id": "577699e7",
   "metadata": {},
   "outputs": [
    {
     "data": {
      "text/plain": [
       "DatetimeIndex(['2011-01-01 00:00:00', '2011-01-01 00:01:00',\n",
       "               '2011-01-01 00:02:00'],\n",
       "              dtype='datetime64[ns]', freq='T')"
      ]
     },
     "execution_count": 5,
     "metadata": {},
     "output_type": "execute_result"
    }
   ],
   "source": [
    "data = pd.date_range('1/1/2011 00:00:00', periods=3, freq='min')\n",
    "data"
   ]
  },
  {
   "cell_type": "code",
   "execution_count": 6,
   "id": "802ddb7a",
   "metadata": {},
   "outputs": [
    {
     "data": {
      "text/plain": [
       "DatetimeIndex(['2011-01-01 00:00:00', '2011-01-01 01:00:00',\n",
       "               '2011-01-01 02:00:00'],\n",
       "              dtype='datetime64[ns]', freq='H')"
      ]
     },
     "execution_count": 6,
     "metadata": {},
     "output_type": "execute_result"
    }
   ],
   "source": [
    "data = pd.date_range('1/1/2011 00:00:00', periods=3, freq='h')\n",
    "data"
   ]
  },
  {
   "cell_type": "code",
   "execution_count": 7,
   "id": "332cac3f",
   "metadata": {},
   "outputs": [
    {
     "data": {
      "text/plain": [
       "DatetimeIndex(['2011-01-01', '2011-01-02', '2011-01-03'], dtype='datetime64[ns]', freq='D')"
      ]
     },
     "execution_count": 7,
     "metadata": {},
     "output_type": "execute_result"
    }
   ],
   "source": [
    "data = pd.date_range('1/1/2011 00:00:00', periods=3, freq='d')\n",
    "data"
   ]
  },
  {
   "cell_type": "code",
   "execution_count": 8,
   "id": "545ca17d",
   "metadata": {},
   "outputs": [
    {
     "data": {
      "text/plain": [
       "DatetimeIndex(['2011-01-31', '2011-02-28', '2011-03-31'], dtype='datetime64[ns]', freq='M')"
      ]
     },
     "execution_count": 8,
     "metadata": {},
     "output_type": "execute_result"
    }
   ],
   "source": [
    "data = pd.date_range('1/1/2011 00:00:00', periods=3, freq='m')\n",
    "data"
   ]
  },
  {
   "cell_type": "code",
   "execution_count": 9,
   "id": "83b42779",
   "metadata": {},
   "outputs": [
    {
     "data": {
      "text/plain": [
       "DatetimeIndex(['2011-12-31', '2012-12-31', '2013-12-31'], dtype='datetime64[ns]', freq='A-DEC')"
      ]
     },
     "execution_count": 9,
     "metadata": {},
     "output_type": "execute_result"
    }
   ],
   "source": [
    "data = pd.date_range('1/1/2011 00:00:00', periods=3, freq='y')\n",
    "data"
   ]
  },
  {
   "cell_type": "markdown",
   "id": "72fa5d87",
   "metadata": {},
   "source": [
    "### Date in Pandas"
   ]
  },
  {
   "cell_type": "code",
   "execution_count": 10,
   "id": "0994871d",
   "metadata": {},
   "outputs": [
    {
     "data": {
      "text/html": [
       "<div>\n",
       "<style scoped>\n",
       "    .dataframe tbody tr th:only-of-type {\n",
       "        vertical-align: middle;\n",
       "    }\n",
       "\n",
       "    .dataframe tbody tr th {\n",
       "        vertical-align: top;\n",
       "    }\n",
       "\n",
       "    .dataframe thead th {\n",
       "        text-align: right;\n",
       "    }\n",
       "</style>\n",
       "<table border=\"1\" class=\"dataframe\">\n",
       "  <thead>\n",
       "    <tr style=\"text-align: right;\">\n",
       "      <th></th>\n",
       "      <th>date</th>\n",
       "      <th>year</th>\n",
       "      <th>month</th>\n",
       "      <th>day</th>\n",
       "      <th>hour</th>\n",
       "      <th>minute</th>\n",
       "    </tr>\n",
       "  </thead>\n",
       "  <tbody>\n",
       "    <tr>\n",
       "      <th>0</th>\n",
       "      <td>2001-01-01 12:12:12</td>\n",
       "      <td>2001</td>\n",
       "      <td>1</td>\n",
       "      <td>1</td>\n",
       "      <td>12</td>\n",
       "      <td>12</td>\n",
       "    </tr>\n",
       "    <tr>\n",
       "      <th>1</th>\n",
       "      <td>2001-01-01 13:12:12</td>\n",
       "      <td>2001</td>\n",
       "      <td>1</td>\n",
       "      <td>1</td>\n",
       "      <td>13</td>\n",
       "      <td>12</td>\n",
       "    </tr>\n",
       "    <tr>\n",
       "      <th>2</th>\n",
       "      <td>2001-01-01 14:12:12</td>\n",
       "      <td>2001</td>\n",
       "      <td>1</td>\n",
       "      <td>1</td>\n",
       "      <td>14</td>\n",
       "      <td>12</td>\n",
       "    </tr>\n",
       "    <tr>\n",
       "      <th>3</th>\n",
       "      <td>2001-01-01 15:12:12</td>\n",
       "      <td>2001</td>\n",
       "      <td>1</td>\n",
       "      <td>1</td>\n",
       "      <td>15</td>\n",
       "      <td>12</td>\n",
       "    </tr>\n",
       "    <tr>\n",
       "      <th>4</th>\n",
       "      <td>2001-01-01 16:12:12</td>\n",
       "      <td>2001</td>\n",
       "      <td>1</td>\n",
       "      <td>1</td>\n",
       "      <td>16</td>\n",
       "      <td>12</td>\n",
       "    </tr>\n",
       "  </tbody>\n",
       "</table>\n",
       "</div>"
      ],
      "text/plain": [
       "                 date  year  month  day  hour  minute\n",
       "0 2001-01-01 12:12:12  2001      1    1    12      12\n",
       "1 2001-01-01 13:12:12  2001      1    1    13      12\n",
       "2 2001-01-01 14:12:12  2001      1    1    14      12\n",
       "3 2001-01-01 15:12:12  2001      1    1    15      12\n",
       "4 2001-01-01 16:12:12  2001      1    1    16      12"
      ]
     },
     "execution_count": 10,
     "metadata": {},
     "output_type": "execute_result"
    }
   ],
   "source": [
    "df = pd.DataFrame()\n",
    "\n",
    "df['date'] = pd.date_range('1/1/2001 12:12:12', periods=10, freq='H')\n",
    "\n",
    "# Create features for year, month, day, hour, and minute\n",
    "df['year'] = df['date'].dt.year\n",
    "df['month'] = df['date'].dt.month\n",
    "df['day'] = df['date'].dt.day\n",
    "df['hour'] = df['date'].dt.hour\n",
    "df['minute'] = df['date'].dt.minute\n",
    "\n",
    "df.head()"
   ]
  },
  {
   "cell_type": "code",
   "execution_count": 11,
   "id": "1880bb7d",
   "metadata": {},
   "outputs": [
    {
     "data": {
      "text/html": [
       "<div>\n",
       "<style scoped>\n",
       "    .dataframe tbody tr th:only-of-type {\n",
       "        vertical-align: middle;\n",
       "    }\n",
       "\n",
       "    .dataframe tbody tr th {\n",
       "        vertical-align: top;\n",
       "    }\n",
       "\n",
       "    .dataframe thead th {\n",
       "        text-align: right;\n",
       "    }\n",
       "</style>\n",
       "<table border=\"1\" class=\"dataframe\">\n",
       "  <thead>\n",
       "    <tr style=\"text-align: right;\">\n",
       "      <th></th>\n",
       "      <th>Date</th>\n",
       "      <th>Time</th>\n",
       "    </tr>\n",
       "  </thead>\n",
       "  <tbody>\n",
       "    <tr>\n",
       "      <th>0</th>\n",
       "      <td>8/6/1993</td>\n",
       "      <td>12:42 PM</td>\n",
       "    </tr>\n",
       "    <tr>\n",
       "      <th>1</th>\n",
       "      <td>3/31/1996</td>\n",
       "      <td>6:53 AM</td>\n",
       "    </tr>\n",
       "    <tr>\n",
       "      <th>2</th>\n",
       "      <td>4/23/1993</td>\n",
       "      <td>11:17 AM</td>\n",
       "    </tr>\n",
       "    <tr>\n",
       "      <th>3</th>\n",
       "      <td>3/4/2005</td>\n",
       "      <td>1:00 PM</td>\n",
       "    </tr>\n",
       "    <tr>\n",
       "      <th>4</th>\n",
       "      <td>1/24/1998</td>\n",
       "      <td>4:47 PM</td>\n",
       "    </tr>\n",
       "  </tbody>\n",
       "</table>\n",
       "</div>"
      ],
      "text/plain": [
       "        Date      Time\n",
       "0   8/6/1993  12:42 PM\n",
       "1  3/31/1996   6:53 AM\n",
       "2  4/23/1993  11:17 AM\n",
       "3   3/4/2005   1:00 PM\n",
       "4  1/24/1998   4:47 PM"
      ]
     },
     "execution_count": 11,
     "metadata": {},
     "output_type": "execute_result"
    }
   ],
   "source": [
    "data = pd.read_csv(\"todatetime.csv\")\n",
    "data.head()"
   ]
  },
  {
   "cell_type": "code",
   "execution_count": 12,
   "id": "7d4ed451",
   "metadata": {},
   "outputs": [
    {
     "data": {
      "text/html": [
       "<div>\n",
       "<style scoped>\n",
       "    .dataframe tbody tr th:only-of-type {\n",
       "        vertical-align: middle;\n",
       "    }\n",
       "\n",
       "    .dataframe tbody tr th {\n",
       "        vertical-align: top;\n",
       "    }\n",
       "\n",
       "    .dataframe thead th {\n",
       "        text-align: right;\n",
       "    }\n",
       "</style>\n",
       "<table border=\"1\" class=\"dataframe\">\n",
       "  <thead>\n",
       "    <tr style=\"text-align: right;\">\n",
       "      <th></th>\n",
       "      <th>Date</th>\n",
       "      <th>Time</th>\n",
       "      <th>Date_updated</th>\n",
       "      <th>Time_updated</th>\n",
       "    </tr>\n",
       "  </thead>\n",
       "  <tbody>\n",
       "    <tr>\n",
       "      <th>0</th>\n",
       "      <td>8/6/1993</td>\n",
       "      <td>12:42 PM</td>\n",
       "      <td>1993-08-06</td>\n",
       "      <td>2022-07-24 12:42:00</td>\n",
       "    </tr>\n",
       "    <tr>\n",
       "      <th>1</th>\n",
       "      <td>3/31/1996</td>\n",
       "      <td>6:53 AM</td>\n",
       "      <td>1996-03-31</td>\n",
       "      <td>2022-07-24 06:53:00</td>\n",
       "    </tr>\n",
       "    <tr>\n",
       "      <th>2</th>\n",
       "      <td>4/23/1993</td>\n",
       "      <td>11:17 AM</td>\n",
       "      <td>1993-04-23</td>\n",
       "      <td>2022-07-24 11:17:00</td>\n",
       "    </tr>\n",
       "    <tr>\n",
       "      <th>3</th>\n",
       "      <td>3/4/2005</td>\n",
       "      <td>1:00 PM</td>\n",
       "      <td>2005-03-04</td>\n",
       "      <td>2022-07-24 13:00:00</td>\n",
       "    </tr>\n",
       "    <tr>\n",
       "      <th>4</th>\n",
       "      <td>1/24/1998</td>\n",
       "      <td>4:47 PM</td>\n",
       "      <td>1998-01-24</td>\n",
       "      <td>2022-07-24 16:47:00</td>\n",
       "    </tr>\n",
       "  </tbody>\n",
       "</table>\n",
       "</div>"
      ],
      "text/plain": [
       "        Date      Time Date_updated        Time_updated\n",
       "0   8/6/1993  12:42 PM   1993-08-06 2022-07-24 12:42:00\n",
       "1  3/31/1996   6:53 AM   1996-03-31 2022-07-24 06:53:00\n",
       "2  4/23/1993  11:17 AM   1993-04-23 2022-07-24 11:17:00\n",
       "3   3/4/2005   1:00 PM   2005-03-04 2022-07-24 13:00:00\n",
       "4  1/24/1998   4:47 PM   1998-01-24 2022-07-24 16:47:00"
      ]
     },
     "execution_count": 12,
     "metadata": {},
     "output_type": "execute_result"
    }
   ],
   "source": [
    "data[\"Date_updated\"] = pd.to_datetime(data[\"Date\"])\n",
    "data[\"Time_updated\"] = pd.to_datetime(data[\"Time\"])\n",
    "data.head()"
   ]
  },
  {
   "cell_type": "code",
   "execution_count": 16,
   "id": "b7ddd2ca",
   "metadata": {},
   "outputs": [
    {
     "data": {
      "text/html": [
       "<div>\n",
       "<style scoped>\n",
       "    .dataframe tbody tr th:only-of-type {\n",
       "        vertical-align: middle;\n",
       "    }\n",
       "\n",
       "    .dataframe tbody tr th {\n",
       "        vertical-align: top;\n",
       "    }\n",
       "\n",
       "    .dataframe thead th {\n",
       "        text-align: right;\n",
       "    }\n",
       "</style>\n",
       "<table border=\"1\" class=\"dataframe\">\n",
       "  <thead>\n",
       "    <tr style=\"text-align: right;\">\n",
       "      <th></th>\n",
       "      <th>year</th>\n",
       "      <th>month</th>\n",
       "      <th>day</th>\n",
       "      <th>hour</th>\n",
       "      <th>minute</th>\n",
       "    </tr>\n",
       "  </thead>\n",
       "  <tbody>\n",
       "    <tr>\n",
       "      <th>0</th>\n",
       "      <td>2001</td>\n",
       "      <td>1</td>\n",
       "      <td>1</td>\n",
       "      <td>12</td>\n",
       "      <td>12</td>\n",
       "    </tr>\n",
       "    <tr>\n",
       "      <th>1</th>\n",
       "      <td>2001</td>\n",
       "      <td>1</td>\n",
       "      <td>1</td>\n",
       "      <td>13</td>\n",
       "      <td>12</td>\n",
       "    </tr>\n",
       "    <tr>\n",
       "      <th>2</th>\n",
       "      <td>2001</td>\n",
       "      <td>1</td>\n",
       "      <td>1</td>\n",
       "      <td>14</td>\n",
       "      <td>12</td>\n",
       "    </tr>\n",
       "    <tr>\n",
       "      <th>3</th>\n",
       "      <td>2001</td>\n",
       "      <td>1</td>\n",
       "      <td>1</td>\n",
       "      <td>15</td>\n",
       "      <td>12</td>\n",
       "    </tr>\n",
       "    <tr>\n",
       "      <th>4</th>\n",
       "      <td>2001</td>\n",
       "      <td>1</td>\n",
       "      <td>1</td>\n",
       "      <td>16</td>\n",
       "      <td>12</td>\n",
       "    </tr>\n",
       "    <tr>\n",
       "      <th>5</th>\n",
       "      <td>2001</td>\n",
       "      <td>1</td>\n",
       "      <td>1</td>\n",
       "      <td>17</td>\n",
       "      <td>12</td>\n",
       "    </tr>\n",
       "    <tr>\n",
       "      <th>6</th>\n",
       "      <td>2001</td>\n",
       "      <td>1</td>\n",
       "      <td>1</td>\n",
       "      <td>18</td>\n",
       "      <td>12</td>\n",
       "    </tr>\n",
       "    <tr>\n",
       "      <th>7</th>\n",
       "      <td>2001</td>\n",
       "      <td>1</td>\n",
       "      <td>1</td>\n",
       "      <td>19</td>\n",
       "      <td>12</td>\n",
       "    </tr>\n",
       "    <tr>\n",
       "      <th>8</th>\n",
       "      <td>2001</td>\n",
       "      <td>1</td>\n",
       "      <td>1</td>\n",
       "      <td>20</td>\n",
       "      <td>12</td>\n",
       "    </tr>\n",
       "    <tr>\n",
       "      <th>9</th>\n",
       "      <td>2001</td>\n",
       "      <td>1</td>\n",
       "      <td>1</td>\n",
       "      <td>21</td>\n",
       "      <td>12</td>\n",
       "    </tr>\n",
       "  </tbody>\n",
       "</table>\n",
       "</div>"
      ],
      "text/plain": [
       "   year  month  day  hour  minute\n",
       "0  2001      1    1    12      12\n",
       "1  2001      1    1    13      12\n",
       "2  2001      1    1    14      12\n",
       "3  2001      1    1    15      12\n",
       "4  2001      1    1    16      12\n",
       "5  2001      1    1    17      12\n",
       "6  2001      1    1    18      12\n",
       "7  2001      1    1    19      12\n",
       "8  2001      1    1    20      12\n",
       "9  2001      1    1    21      12"
      ]
     },
     "execution_count": 16,
     "metadata": {},
     "output_type": "execute_result"
    }
   ],
   "source": [
    "# Select pertiular data type columns\n",
    "df.select_dtypes(include=['int16', 'int32', 'int64'])"
   ]
  },
  {
   "cell_type": "code",
   "execution_count": null,
   "id": "7f364dec",
   "metadata": {},
   "outputs": [],
   "source": []
  }
 ],
 "metadata": {
  "kernelspec": {
   "display_name": "Python 3 (ipykernel)",
   "language": "python",
   "name": "python3"
  },
  "language_info": {
   "codemirror_mode": {
    "name": "ipython",
    "version": 3
   },
   "file_extension": ".py",
   "mimetype": "text/x-python",
   "name": "python",
   "nbconvert_exporter": "python",
   "pygments_lexer": "ipython3",
   "version": "3.9.7"
  }
 },
 "nbformat": 4,
 "nbformat_minor": 5
}
