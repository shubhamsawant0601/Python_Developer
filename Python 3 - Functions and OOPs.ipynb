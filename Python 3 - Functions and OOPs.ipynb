{
 "cells": [
  {
   "cell_type": "code",
   "execution_count": null,
   "id": "a2b388f3",
   "metadata": {},
   "outputs": [],
   "source": [
    "len : Returns the length of an object.\n",
    "\n",
    "e.g : len('hello') -> 5\n",
    "type : Returns the type of an object.\n",
    "\n",
    "e.g : type([2,3]) -> <type list>\n",
    "range : R"
   ]
  },
  {
   "cell_type": "code",
   "execution_count": null,
   "id": "690c6cb2",
   "metadata": {},
   "outputs": [],
   "source": [
    "Iterator\n",
    "\n",
    "An Iterator is an object, which allows a programmer to traverse through all the elements of a collection, regardless of its specific implementation.\n",
    "\n",
    "Values of an Iterator can be accessed only once and in sequential order.\n",
    "\n",
    "Sample Iterator\n",
    "x = [6, 3, 1]\n",
    "s = iter(x)            \n",
    "print(next(s))      # -> 6\n",
    "print(next(s))      # -> 3\n",
    "print(next(s))      # -> 1\n",
    "print(next(s))      # -> StopIteration Error\n",
    "\n",
    "\n"
   ]
  },
  {
   "cell_type": "code",
   "execution_count": 2,
   "id": "997c6ab7",
   "metadata": {},
   "outputs": [
    {
     "name": "stdout",
     "output_type": "stream",
     "text": [
      "1\n",
      "2\n",
      "3\n",
      "4\n",
      "5\n",
      "6\n"
     ]
    }
   ],
   "source": [
    "a = [1,2,3,4,5,6]\n",
    "x = iter(a)\n",
    "\n",
    "while True:\n",
    "    try :\n",
    "        print(next(x))\n",
    "    \n",
    "    except StopIteration:\n",
    "        break"
   ]
  },
  {
   "cell_type": "code",
   "execution_count": null,
   "id": "2b27dc99",
   "metadata": {},
   "outputs": [],
   "source": [
    "List Comprehensions\n",
    "Alternative to for loops.\n",
    "\n",
    "More concise, readable, efficient and mimic functional programming style.\n",
    "\n",
    "Used to:\n",
    "\n",
    "Apply a method to all or specific elements of a list, and\n",
    "\n",
    "Filter elements of a list satisfying specific criteria.\n",
    "\n",
    "Example\n",
    "x = [6, 3, 1]\n",
    "y = [ i**2 for i in x ]   # List Comprehension expression\n",
    "print(y)                  # -> [36, 9, 1] "
   ]
  },
  {
   "cell_type": "code",
   "execution_count": null,
   "id": "1d76d2ca",
   "metadata": {},
   "outputs": [],
   "source": [
    "\n",
    "Generator\n",
    "\n",
    "A Generator object is an iterator, whose values are created at the time of accessing them.\n",
    "\n",
    "A generator can be obtained either from a generator expression or a generator function.\n",
    "\n",
    "Example\n",
    "x = [6, 3, 1]\n",
    "g = (i**2 for i in x)  # generator expression\n",
    "print(next(g))      \n"
   ]
  },
  {
   "cell_type": "code",
   "execution_count": 3,
   "id": "d74a3d41",
   "metadata": {},
   "outputs": [
    {
     "data": {
      "text/plain": [
       "<generator object generator_123 at 0x00000193E8EDD120>"
      ]
     },
     "execution_count": 3,
     "metadata": {},
     "output_type": "execute_result"
    }
   ],
   "source": [
    "def generator_123():\n",
    "    yield 1\n",
    "    yield 2\n",
    "    yield 3\n",
    "    \n",
    "generator_123()"
   ]
  },
  {
   "cell_type": "code",
   "execution_count": 4,
   "id": "b60b2053",
   "metadata": {},
   "outputs": [
    {
     "name": "stdout",
     "output_type": "stream",
     "text": [
      "1\n",
      "2\n",
      "3\n"
     ]
    }
   ],
   "source": [
    "a = generator_123()\n",
    "for i in a:\n",
    "    print(i)"
   ]
  },
  {
   "cell_type": "markdown",
   "id": "6ef9edb0",
   "metadata": {},
   "source": [
    "Defining Classes\n",
    "Class\n",
    "\n",
    "A Class is a template which contains\n",
    "\n",
    "instructions to build an object.\n",
    "\n",
    "methods that can be used by the object to exhibit a specific behaviour.\n",
    "\n",
    "class keyword is used to define a class in Python\n",
    "\n",
    "Creating Objects\n",
    "An object is created by calling the class name followed by a pair of parenthesis.\n",
    "\n",
    "\n",
    "Setting Attributes Contd..\n",
    "You can also set multiple attributes, at once, by defining the initializer method, __init__, inside the class.\n",
    "\n",
    "This method is called by default, during an object creation.\n",
    "\n",
    "It takes values passed inside the parenthesis, during an object creation, as it's arguments.\n",
    "\n",
    "It also takes self as the first argument, which refers to the current object.\n",
    "\n",
    "\n",
    "Documenting a Class\n",
    "Each class or a method definition can have an optional first line, known as docstring.\n",
    "\n",
    "Example\n",
    "class Person:\n",
    "    'Represents a person.'\n",
    "    def __init__(self, fname, lname):\n",
    "        'Initialises two attributes of a person.'\n",
    "        self.fname = fname\n",
    "        self.lname = lname"
   ]
  },
  {
   "cell_type": "markdown",
   "id": "068509a0",
   "metadata": {},
   "source": [
    "## Inheritance in Python 3\n",
    "\n",
    "Inheritance describes is a kind of relationship between two or more classes, abstracting common details into super class and storing specific ones in the subclass.\n",
    "\n",
    "To create a child class, specify the parent class name inside the pair of parenthesis, followed by it's name.\n",
    "\n",
    "\n",
    "Inheritance\n",
    "In Python, every class uses inheritance and is inherited from object by default.\n",
    "\n",
    "Hence, the below two definitions of MySubClass are same.\n",
    "MySubClass is known as child or subclass or derived class."
   ]
  },
  {
   "cell_type": "code",
   "execution_count": null,
   "id": "9088bdc0",
   "metadata": {},
   "outputs": [],
   "source": [
    "Example\n",
    "class Child(Parent):  \n",
    "  \n",
    "  pass\n",
    "\n",
    "Every child class inherits all the behaviours exhibited by their parent \n",
    "class."
   ]
  },
  {
   "cell_type": "code",
   "execution_count": null,
   "id": "3cfb2153",
   "metadata": {},
   "outputs": [],
   "source": [
    "# Definition 1\n",
    "class MySubClass:   \n",
    "    pass\n",
    "\n",
    "#Definition 2\n",
    "class MySubClass(object):   \n",
    "    pass                    \n",
    "\n",
    "#object is known as parent or super class.\n",
    "#MySubClass is known as child or subclass or derived class."
   ]
  },
  {
   "cell_type": "code",
   "execution_count": 2,
   "id": "c86be825",
   "metadata": {},
   "outputs": [
    {
     "name": "stdout",
     "output_type": "stream",
     "text": [
      "George - smith\n",
      "Jack - 456342\n",
      "John - 123656\n"
     ]
    }
   ],
   "source": [
    "# Inheritance in Action\n",
    "\n",
    "class Person:\n",
    "    def __init__(self, fname, lname):\n",
    "        self.fname = fname\n",
    "        self.lname = lname\n",
    "\n",
    "class Employee(Person):\n",
    "    all_employees = []\n",
    "    def __init__(self, fname, lname, empid):\n",
    "        Person.__init__(self, fname, lname)\n",
    "        self.empid = empid\n",
    "        Employee.all_employees.append(self)\n",
    "        \n",
    "        \n",
    "p1 = Person('George', 'smith')\n",
    "print(p1.fname, '-', p1.lname)\n",
    "\n",
    "e1 = Employee('Jack', 'simmons', 456342)\n",
    "e2 = Employee('John', 'williams', 123656)\n",
    "print(e1.fname, '-', e1.empid)\n",
    "print(e2.fname, '-', e2.empid)"
   ]
  },
  {
   "cell_type": "markdown",
   "id": "a243f659",
   "metadata": {},
   "source": [
    "#### In the above example, Employee class utilizes __init __ method of the parent class Person to create its object"
   ]
  },
  {
   "cell_type": "markdown",
   "id": "7fa1ebe7",
   "metadata": {},
   "source": [
    "## Polymorphism \n",
    "\n",
    "Polymorphism allows a subclass to override or change a specific behavior, exhibited by the parent class."
   ]
  },
  {
   "cell_type": "code",
   "execution_count": 3,
   "id": "627fe75b",
   "metadata": {},
   "outputs": [
    {
     "ename": "NameError",
     "evalue": "name 'EmployeesList' is not defined",
     "output_type": "error",
     "traceback": [
      "\u001b[1;31m---------------------------------------------------------------------------\u001b[0m",
      "\u001b[1;31mNameError\u001b[0m                                 Traceback (most recent call last)",
      "\u001b[1;32m<ipython-input-3-2f5505a600c8>\u001b[0m in \u001b[0;36m<module>\u001b[1;34m\u001b[0m\n\u001b[1;32m----> 1\u001b[1;33m \u001b[1;32mclass\u001b[0m \u001b[0mEmployee\u001b[0m\u001b[1;33m(\u001b[0m\u001b[0mPerson\u001b[0m\u001b[1;33m)\u001b[0m\u001b[1;33m:\u001b[0m\u001b[1;33m\u001b[0m\u001b[1;33m\u001b[0m\u001b[0m\n\u001b[0m\u001b[0;32m      2\u001b[0m     \u001b[0mall_employees\u001b[0m \u001b[1;33m=\u001b[0m \u001b[0mEmployeesList\u001b[0m \u001b[1;33m(\u001b[0m\u001b[1;33m)\u001b[0m\u001b[1;33m\u001b[0m\u001b[1;33m\u001b[0m\u001b[0m\n\u001b[0;32m      3\u001b[0m \u001b[1;33m\u001b[0m\u001b[0m\n\u001b[0;32m      4\u001b[0m     \u001b[1;32mdef\u001b[0m \u001b[0m__init__\u001b[0m\u001b[1;33m(\u001b[0m\u001b[0mself\u001b[0m\u001b[1;33m,\u001b[0m \u001b[0mfname\u001b[0m\u001b[1;33m,\u001b[0m \u001b[0mlname\u001b[0m\u001b[1;33m,\u001b[0m \u001b[0mempid\u001b[0m\u001b[1;33m)\u001b[0m\u001b[1;33m:\u001b[0m\u001b[1;33m\u001b[0m\u001b[1;33m\u001b[0m\u001b[0m\n\u001b[0;32m      5\u001b[0m         \u001b[0mPerson\u001b[0m\u001b[1;33m.\u001b[0m\u001b[0m__init__\u001b[0m\u001b[1;33m(\u001b[0m\u001b[0mself\u001b[0m\u001b[1;33m,\u001b[0m \u001b[0mfname\u001b[0m\u001b[1;33m,\u001b[0m \u001b[0mlname\u001b[0m\u001b[1;33m)\u001b[0m\u001b[1;33m\u001b[0m\u001b[1;33m\u001b[0m\u001b[0m\n",
      "\u001b[1;32m<ipython-input-3-2f5505a600c8>\u001b[0m in \u001b[0;36mEmployee\u001b[1;34m()\u001b[0m\n\u001b[0;32m      1\u001b[0m \u001b[1;32mclass\u001b[0m \u001b[0mEmployee\u001b[0m\u001b[1;33m(\u001b[0m\u001b[0mPerson\u001b[0m\u001b[1;33m)\u001b[0m\u001b[1;33m:\u001b[0m\u001b[1;33m\u001b[0m\u001b[1;33m\u001b[0m\u001b[0m\n\u001b[1;32m----> 2\u001b[1;33m     \u001b[0mall_employees\u001b[0m \u001b[1;33m=\u001b[0m \u001b[0mEmployeesList\u001b[0m \u001b[1;33m(\u001b[0m\u001b[1;33m)\u001b[0m\u001b[1;33m\u001b[0m\u001b[1;33m\u001b[0m\u001b[0m\n\u001b[0m\u001b[0;32m      3\u001b[0m \u001b[1;33m\u001b[0m\u001b[0m\n\u001b[0;32m      4\u001b[0m     \u001b[1;32mdef\u001b[0m \u001b[0m__init__\u001b[0m\u001b[1;33m(\u001b[0m\u001b[0mself\u001b[0m\u001b[1;33m,\u001b[0m \u001b[0mfname\u001b[0m\u001b[1;33m,\u001b[0m \u001b[0mlname\u001b[0m\u001b[1;33m,\u001b[0m \u001b[0mempid\u001b[0m\u001b[1;33m)\u001b[0m\u001b[1;33m:\u001b[0m\u001b[1;33m\u001b[0m\u001b[1;33m\u001b[0m\u001b[0m\n\u001b[0;32m      5\u001b[0m         \u001b[0mPerson\u001b[0m\u001b[1;33m.\u001b[0m\u001b[0m__init__\u001b[0m\u001b[1;33m(\u001b[0m\u001b[0mself\u001b[0m\u001b[1;33m,\u001b[0m \u001b[0mfname\u001b[0m\u001b[1;33m,\u001b[0m \u001b[0mlname\u001b[0m\u001b[1;33m)\u001b[0m\u001b[1;33m\u001b[0m\u001b[1;33m\u001b[0m\u001b[0m\n",
      "\u001b[1;31mNameError\u001b[0m: name 'EmployeesList' is not defined"
     ]
    }
   ],
   "source": [
    "class Employee(Person):\n",
    "    all_employees = EmployeesList()\n",
    "    def __init__(self, fname, lname, empid):\n",
    "        Person.__init__(self, fname, lname)\n",
    "        self.empid = empid\n",
    "        Employee.all_employees.append(self)\n",
    "\n",
    "e1 = Employee('Jack', 'simmons', 456342)\n",
    "e2 = Employee('George', 'Brown', 656721)\n",
    "print(Employee.all_employees.search('or'))\n",
    "\n",
    "\n",
    "class Employee(Person):\n",
    "    all_employees = EmployeesList ()\n",
    "    \n",
    "    def __init__(self, fname, lname, empid):\n",
    "        Person.__init__(self, fname, lname)\n",
    "        self.empid = empid\n",
    "        Employee.all_employees.append(self)\n",
    "    \n",
    "    def getSalary(self):\n",
    "        return 'You get Monthly salary.'\n",
    "    \n",
    "    def getBonus(self):\n",
    "        return 'You are eligible for Bonus.'"
   ]
  },
  {
   "cell_type": "code",
   "execution_count": null,
   "id": "d08ff1b8",
   "metadata": {},
   "outputs": [],
   "source": [
    "class ContractEmployee(Employee):\n",
    "    def getSalary(self):\n",
    "        return 'You will not get Salary from Organization.'\n",
    "    def getBonus(self):\n",
    "        return 'You are not eligible for Bonus.'\n",
    "\n",
    "e1 = Employee('Jack', 'simmons', 456342)\n",
    "e2 = ContractEmployee('John', 'williams', 123656)\n",
    "print(e1.getBonus())\n",
    "print(e2.getBonus())"
   ]
  },
  {
   "cell_type": "code",
   "execution_count": null,
   "id": "759e81d2",
   "metadata": {},
   "outputs": [],
   "source": []
  },
  {
   "cell_type": "markdown",
   "id": "ac88781b",
   "metadata": {},
   "source": [
    "## Abstraction and Encapsulation\n",
    "\n",
    "**Abstraction** means working with something you know how to use without knowing how it works internally.\n",
    "\n",
    "**Encapsulation** allows binding data and associated methods together in a unit i.e class.\n",
    "\n",
    "These principles together allows a programmer to define an interface for applications, i.e. to define all tasks the program is capable to execute and their respective input and output data.\n",
    "\n",
    "A good example is a television set. We don’t need to know the inner workings of a TV, in order to use it. All we need to know is how to use the remote control (i.e the interface for the user to interact with the TV)."
   ]
  },
  {
   "cell_type": "markdown",
   "id": "8da2b456",
   "metadata": {},
   "source": [
    "## Abstracting Data\n",
    "Direct access to data can be restricted by making required attributes or methods private, just by prefixing it's name with one or two underscores.\n",
    "\n",
    "An attribute or a method starting with:\n",
    "\n",
    "no underscores is a public one.\n",
    "\n",
    "a single underscore is private, however, still accessible from outside.\n",
    "\n",
    "double underscores is strongly private and not accessible from outside."
   ]
  },
  {
   "cell_type": "markdown",
   "id": "dfb8c581",
   "metadata": {},
   "source": [
    "## Abstraction and Encapsulation Example\n",
    "empid attribute of Employee class is made private and is accessible outside the class only using the method getEmpid.\n"
   ]
  },
  {
   "cell_type": "code",
   "execution_count": 4,
   "id": "9f6fcf2d",
   "metadata": {},
   "outputs": [
    {
     "ename": "NameError",
     "evalue": "name 'EmployeesList' is not defined",
     "output_type": "error",
     "traceback": [
      "\u001b[1;31m---------------------------------------------------------------------------\u001b[0m",
      "\u001b[1;31mNameError\u001b[0m                                 Traceback (most recent call last)",
      "\u001b[1;32m<ipython-input-4-f51d53be9a14>\u001b[0m in \u001b[0;36m<module>\u001b[1;34m\u001b[0m\n\u001b[1;32m----> 1\u001b[1;33m \u001b[1;32mclass\u001b[0m \u001b[0mEmployee\u001b[0m\u001b[1;33m(\u001b[0m\u001b[0mPerson\u001b[0m\u001b[1;33m)\u001b[0m\u001b[1;33m:\u001b[0m\u001b[1;33m\u001b[0m\u001b[1;33m\u001b[0m\u001b[0m\n\u001b[0m\u001b[0;32m      2\u001b[0m     \u001b[0mall_employees\u001b[0m \u001b[1;33m=\u001b[0m \u001b[0mEmployeesList\u001b[0m\u001b[1;33m(\u001b[0m\u001b[1;33m)\u001b[0m\u001b[1;33m\u001b[0m\u001b[1;33m\u001b[0m\u001b[0m\n\u001b[0;32m      3\u001b[0m \u001b[1;33m\u001b[0m\u001b[0m\n\u001b[0;32m      4\u001b[0m     \u001b[1;32mdef\u001b[0m \u001b[0m__init__\u001b[0m\u001b[1;33m(\u001b[0m\u001b[0mself\u001b[0m\u001b[1;33m,\u001b[0m \u001b[0mfname\u001b[0m\u001b[1;33m,\u001b[0m \u001b[0mlname\u001b[0m\u001b[1;33m,\u001b[0m \u001b[0mempid\u001b[0m\u001b[1;33m)\u001b[0m\u001b[1;33m:\u001b[0m\u001b[1;33m\u001b[0m\u001b[1;33m\u001b[0m\u001b[0m\n\u001b[0;32m      5\u001b[0m         \u001b[0mPerson\u001b[0m\u001b[1;33m.\u001b[0m\u001b[0m__init__\u001b[0m\u001b[1;33m(\u001b[0m\u001b[0mself\u001b[0m\u001b[1;33m,\u001b[0m \u001b[0mfname\u001b[0m\u001b[1;33m,\u001b[0m \u001b[0mlname\u001b[0m\u001b[1;33m)\u001b[0m\u001b[1;33m\u001b[0m\u001b[1;33m\u001b[0m\u001b[0m\n",
      "\u001b[1;32m<ipython-input-4-f51d53be9a14>\u001b[0m in \u001b[0;36mEmployee\u001b[1;34m()\u001b[0m\n\u001b[0;32m      1\u001b[0m \u001b[1;32mclass\u001b[0m \u001b[0mEmployee\u001b[0m\u001b[1;33m(\u001b[0m\u001b[0mPerson\u001b[0m\u001b[1;33m)\u001b[0m\u001b[1;33m:\u001b[0m\u001b[1;33m\u001b[0m\u001b[1;33m\u001b[0m\u001b[0m\n\u001b[1;32m----> 2\u001b[1;33m     \u001b[0mall_employees\u001b[0m \u001b[1;33m=\u001b[0m \u001b[0mEmployeesList\u001b[0m\u001b[1;33m(\u001b[0m\u001b[1;33m)\u001b[0m\u001b[1;33m\u001b[0m\u001b[1;33m\u001b[0m\u001b[0m\n\u001b[0m\u001b[0;32m      3\u001b[0m \u001b[1;33m\u001b[0m\u001b[0m\n\u001b[0;32m      4\u001b[0m     \u001b[1;32mdef\u001b[0m \u001b[0m__init__\u001b[0m\u001b[1;33m(\u001b[0m\u001b[0mself\u001b[0m\u001b[1;33m,\u001b[0m \u001b[0mfname\u001b[0m\u001b[1;33m,\u001b[0m \u001b[0mlname\u001b[0m\u001b[1;33m,\u001b[0m \u001b[0mempid\u001b[0m\u001b[1;33m)\u001b[0m\u001b[1;33m:\u001b[0m\u001b[1;33m\u001b[0m\u001b[1;33m\u001b[0m\u001b[0m\n\u001b[0;32m      5\u001b[0m         \u001b[0mPerson\u001b[0m\u001b[1;33m.\u001b[0m\u001b[0m__init__\u001b[0m\u001b[1;33m(\u001b[0m\u001b[0mself\u001b[0m\u001b[1;33m,\u001b[0m \u001b[0mfname\u001b[0m\u001b[1;33m,\u001b[0m \u001b[0mlname\u001b[0m\u001b[1;33m)\u001b[0m\u001b[1;33m\u001b[0m\u001b[1;33m\u001b[0m\u001b[0m\n",
      "\u001b[1;31mNameError\u001b[0m: name 'EmployeesList' is not defined"
     ]
    }
   ],
   "source": [
    "class Employee(Person):\n",
    "    all_employees = EmployeesList()\n",
    "    \n",
    "    def __init__(self, fname, lname, empid):\n",
    "        Person.__init__(self, fname, lname)\n",
    "        self.__empid = empid\n",
    "        Employee.all_employees.append(self)\n",
    "    \n",
    "    def getEmpid(self):\n",
    "        return self.__empid\n",
    "    \n",
    "    \n",
    "e1 = Employee('Jack', 'simmons', 456342)\n",
    "print(e1.fname, e1.lname)\n",
    "print(e1.getEmpid())\n",
    "print(e1.__empid)"
   ]
  },
  {
   "cell_type": "markdown",
   "id": "d312dd2f",
   "metadata": {},
   "source": [
    "## Exceptions\n",
    "Try executing the following two expressions\n",
    "\n",
    "10 + ( 1 / 0)\n",
    "\n",
    "36 + '20'\n",
    "\n",
    "The first one throws error message, ZeroDivisionError : division by zero, and\n",
    "\n",
    "Second one throws, TypeError : unsupported operand type(s) for +: 'int' and 'str'.\n",
    "\n",
    "In Python, every error message has two parts. The first part tells what type of exception it is and second part explains the details of error.\n",
    "\n",
    "\n",
    "### Handling Exception\n",
    "Python handles exceptions using code written inside try ... except blocks.\n",
    "\n",
    "A try block is followed by one or more except clauses.\n",
    "\n",
    "The code to be handled is written inside try clause and the code to be executed when an exception occurs is written inside except clause."
   ]
  },
  {
   "cell_type": "code",
   "execution_count": 8,
   "id": "5bd2b73f",
   "metadata": {},
   "outputs": [
    {
     "name": "stdout",
     "output_type": "stream",
     "text": [
      "Value of 'a' : 16\n",
      "oops!!!\n",
      "Out of try ... except.\n"
     ]
    }
   ],
   "source": [
    "try:\n",
    "    a = pow(2, 4)\n",
    "    print(\"Value of 'a' :\", a)\n",
    "    b = pow(2, 'hello')   # results in exception\n",
    "    print(\"Value of 'b' :\", b)\n",
    "except TypeError as e:\n",
    "    print('oops!!!')\n",
    "print('Out of try ... except.')"
   ]
  },
  {
   "cell_type": "code",
   "execution_count": 10,
   "id": "c9b0fa3b",
   "metadata": {},
   "outputs": [
    {
     "name": "stdout",
     "output_type": "stream",
     "text": [
      "Two inputs must be integers.\n"
     ]
    }
   ],
   "source": [
    "try:\n",
    "    a = 2; b = 'hello'\n",
    "    if not (isinstance(a, int) and isinstance(b, int)):\n",
    "        raise TypeError('Two inputs must be integers.')\n",
    "    c = a**b\n",
    "except TypeError as e:\n",
    "    print(e)"
   ]
  },
  {
   "cell_type": "markdown",
   "id": "a21e3671",
   "metadata": {},
   "source": [
    "## User Defined Functions\n",
    "There are many built-in exceptions in Python, which are directly or indirectly derived from Exception class.\n",
    "\n",
    "Python also allows a programmer to create custom exceptions, derived from base Exception class.\n",
    "\n"
   ]
  },
  {
   "cell_type": "code",
   "execution_count": 11,
   "id": "7637d540",
   "metadata": {},
   "outputs": [
    {
     "ename": "SyntaxError",
     "evalue": "invalid syntax (<ipython-input-11-469e3ebe8b7f>, line 1)",
     "output_type": "error",
     "traceback": [
      "\u001b[1;36m  File \u001b[1;32m\"<ipython-input-11-469e3ebe8b7f>\"\u001b[1;36m, line \u001b[1;32m1\u001b[0m\n\u001b[1;33m    Example 1\u001b[0m\n\u001b[1;37m            ^\u001b[0m\n\u001b[1;31mSyntaxError\u001b[0m\u001b[1;31m:\u001b[0m invalid syntax\n"
     ]
    }
   ],
   "source": [
    "Example 1\n",
    "class CustomError(Exception):\n",
    "    def __init__(self, value):\n",
    "        self.value = value\n",
    "    def __str__(self):\n",
    "        return str(self.value)"
   ]
  },
  {
   "cell_type": "markdown",
   "id": "9bdeba70",
   "metadata": {},
   "source": [
    "## Using 'finally' clause\n",
    "finally clause is an optional one that can be used with try ... except clauses.\n",
    "\n",
    "All the statements under finally clause are executed irrespective of exception occurrence.\n",
    "\n",
    "Example 1\n"
   ]
  },
  {
   "cell_type": "code",
   "execution_count": 13,
   "id": "03534642",
   "metadata": {},
   "outputs": [
    {
     "name": "stdout",
     "output_type": "stream",
     "text": [
      "First call\n",
      "In finally clause.\n",
      "2.0\n",
      "Second call\n",
      "Dividing by Zero.\n",
      "In finally clause.\n",
      "None\n"
     ]
    }
   ],
   "source": [
    "def divide(a,b):\n",
    "    try:\n",
    "        result = a / b\n",
    "        return result\n",
    "    except ZeroDivisionError:\n",
    "        print(\"Dividing by Zero.\")\n",
    "    finally:\n",
    "        print(\"In finally clause.\")\n",
    "        \n",
    "print('First call')\n",
    "print(divide(14, 7))\n",
    "print('Second call')\n",
    "print(divide(14, 0))"
   ]
  },
  {
   "cell_type": "markdown",
   "id": "fda0e81a",
   "metadata": {},
   "source": [
    "### Using 'else' clause\n",
    "else clause is also an optional clause with try ... except clauses.\n",
    "\n",
    "Statements under else clause are executed only when no exception occurs in try clause.\n",
    "\n",
    "Example 2"
   ]
  },
  {
   "cell_type": "code",
   "execution_count": 14,
   "id": "7b801785",
   "metadata": {},
   "outputs": [
    {
     "name": "stdout",
     "output_type": "stream",
     "text": [
      "First ELSE\n",
      "oops!!!\n"
     ]
    }
   ],
   "source": [
    "try:\n",
    "    a = 14 / 7\n",
    "except ZeroDivisionError:\n",
    "    print('oops!!!')\n",
    "else:\n",
    "    print('First ELSE')\n",
    "try:\n",
    "    a = 14 / 0\n",
    "except ZeroDivisionError:\n",
    "    print('oops!!!')\n",
    "else:\n",
    "    print('Second ELSE')"
   ]
  },
  {
   "cell_type": "code",
   "execution_count": null,
   "id": "89d1ff7a",
   "metadata": {},
   "outputs": [],
   "source": []
  }
 ],
 "metadata": {
  "kernelspec": {
   "display_name": "Python 3",
   "language": "python",
   "name": "python3"
  },
  "language_info": {
   "codemirror_mode": {
    "name": "ipython",
    "version": 3
   },
   "file_extension": ".py",
   "mimetype": "text/x-python",
   "name": "python",
   "nbconvert_exporter": "python",
   "pygments_lexer": "ipython3",
   "version": "3.8.8"
  }
 },
 "nbformat": 4,
 "nbformat_minor": 5
}
