{
 "cells": [
  {
   "cell_type": "code",
   "execution_count": 1,
   "id": "ae381ab4",
   "metadata": {},
   "outputs": [
    {
     "name": "stdout",
     "output_type": "stream",
     "text": [
      "7\n"
     ]
    }
   ],
   "source": [
    "\n",
    "def max_contigous_subarray(a):\n",
    "    temp_max = 0\n",
    "    current_max = 0\n",
    "    \n",
    "    for i in range(len(a)):\n",
    "        temp_max = max([a[i], current_max+a[i]])\n",
    "        current_max = max(current_max, temp_max)\n",
    "        \n",
    "        \n",
    "    return temp_max\n",
    "        \n",
    "        \n",
    "a = [-2, -3, 4, -1, -2, 1, 5, -3]\n",
    "print(max_contigous_subarray(a))\n",
    "        "
   ]
  },
  {
   "cell_type": "code",
   "execution_count": 2,
   "id": "e27384e5",
   "metadata": {},
   "outputs": [],
   "source": [
    "a = [-2, -3, 4, -1, -2, 1, 5, -3]\n",
    "def max_contigous_subarray(a):\n",
    "    max_here = -765669\n",
    "    max_before = 0\n",
    "    start = 0\n",
    "    end = 0\n",
    "    s = 0\n",
    "    i = 0\n",
    "    \n",
    "    for i in a :\n",
    "        max_before += i\n",
    "        \n",
    "        if max_here<max_before:\n",
    "            max_here = max_before\n",
    "            start = s\n",
    "            end = a.index(i)\n",
    "            \n",
    "        if max_before<0:\n",
    "            max_before = 0\n",
    "            s = a.index(i) + 1\n",
    "            \n",
    "    print(max_before, start, end)\n",
    "    "
   ]
  },
  {
   "cell_type": "code",
   "execution_count": 3,
   "id": "c8d446e9",
   "metadata": {},
   "outputs": [
    {
     "name": "stdout",
     "output_type": "stream",
     "text": [
      "4 2 6\n"
     ]
    }
   ],
   "source": [
    "max_contigous_subarray(a)"
   ]
  },
  {
   "cell_type": "code",
   "execution_count": 4,
   "id": "12730ea1",
   "metadata": {},
   "outputs": [
    {
     "data": {
      "text/plain": [
       "9223372036854775807"
      ]
     },
     "execution_count": 4,
     "metadata": {},
     "output_type": "execute_result"
    }
   ],
   "source": [
    "from sys import maxsize\n",
    "maxsize\n"
   ]
  },
  {
   "cell_type": "code",
   "execution_count": 5,
   "id": "9b6126de",
   "metadata": {},
   "outputs": [
    {
     "name": "stdout",
     "output_type": "stream",
     "text": [
      "Maximum contiguous sum is 7\n",
      "Starting Index 2\n",
      "Ending Index 6\n"
     ]
    }
   ],
   "source": [
    "# Function to find the maximum contiguous subarray\n",
    "# and print its starting and end index\n",
    "def maxSubArraySum(a,size):\n",
    " \n",
    "    max_so_far = -maxsize\n",
    "    max_ending_here = 0\n",
    "    start = 0\n",
    "    end = 0\n",
    "    s = 0\n",
    " \n",
    "    for i in range(0,size):\n",
    " \n",
    "        max_ending_here += a[i]\n",
    " \n",
    "        if max_so_far < max_ending_here:\n",
    "            max_so_far = max_ending_here\n",
    "            start = s\n",
    "            end = i\n",
    " \n",
    "        if max_ending_here < 0:\n",
    "            max_ending_here = 0\n",
    "            s = i+1\n",
    " \n",
    "    print (\"Maximum contiguous sum is %d\"%(max_so_far))\n",
    "    print (\"Starting Index %d\"%(start))\n",
    "    print (\"Ending Index %d\"%(end))\n",
    " #Driver program to test maxSubArraySum\n",
    "a = [-2, -3, 4, -1, -2, 1, 5, -3]\n",
    "maxSubArraySum(a,len(a))"
   ]
  },
  {
   "cell_type": "code",
   "execution_count": 6,
   "id": "b7b0e58b",
   "metadata": {},
   "outputs": [
    {
     "data": {
      "text/plain": [
       "7"
      ]
     },
     "execution_count": 6,
     "metadata": {},
     "output_type": "execute_result"
    }
   ],
   "source": [
    "li = [-2, -3, 4, -1, -2, 1, 5, -3]\n",
    "max_end = 0\n",
    "max_before = -34734479\n",
    "\n",
    "for i in li:\n",
    "    max_end = max_end+i\n",
    "    \n",
    "    if max_end>max_before:\n",
    "        max_before = max_end\n",
    "    if max_end<0:\n",
    "        max_end = 0 \n",
    "        \n",
    "max_before"
   ]
  },
  {
   "cell_type": "code",
   "execution_count": 7,
   "id": "e702c638",
   "metadata": {},
   "outputs": [
    {
     "ename": "NameError",
     "evalue": "name 'floating' is not defined",
     "output_type": "error",
     "traceback": [
      "\u001b[1;31m---------------------------------------------------------------------------\u001b[0m",
      "\u001b[1;31mNameError\u001b[0m                                 Traceback (most recent call last)",
      "\u001b[1;32m~\\AppData\\Local\\Temp/ipykernel_10732/1065087490.py\u001b[0m in \u001b[0;36m<module>\u001b[1;34m\u001b[0m\n\u001b[0;32m      1\u001b[0m \u001b[1;32mfor\u001b[0m \u001b[0mi\u001b[0m \u001b[1;32min\u001b[0m \u001b[0mrange\u001b[0m\u001b[1;33m(\u001b[0m\u001b[1;36m0\u001b[0m\u001b[1;33m,\u001b[0m\u001b[0mlen\u001b[0m\u001b[1;33m(\u001b[0m\u001b[0ma\u001b[0m\u001b[1;33m)\u001b[0m\u001b[1;33m)\u001b[0m\u001b[1;33m:\u001b[0m\u001b[1;33m\u001b[0m\u001b[1;33m\u001b[0m\u001b[0m\n\u001b[1;32m----> 2\u001b[1;33m     \u001b[0mfloating\u001b[0m\u001b[1;33m\u001b[0m\u001b[1;33m\u001b[0m\u001b[0m\n\u001b[0m\u001b[0;32m      3\u001b[0m \u001b[1;33m\u001b[0m\u001b[0m\n\u001b[0;32m      4\u001b[0m \u001b[1;33m\u001b[0m\u001b[0m\n\u001b[0;32m      5\u001b[0m \u001b[1;33m\u001b[0m\u001b[0m\n",
      "\u001b[1;31mNameError\u001b[0m: name 'floating' is not defined"
     ]
    }
   ],
   "source": [
    "for i in range(0,len(a)):\n",
    "    floating\n",
    "    \n",
    "    \n",
    "    \n",
    "    \n",
    "    \n",
    "    \n",
    "    \n",
    "    \n",
    "    \n",
    "    \n",
    "    \n",
    "    \n",
    "    \n",
    "    \n",
    "    \n",
    "    \n",
    "    \n",
    "    \n",
    "    \n",
    "    \n",
    "    \n",
    "    \n",
    "    \n",
    "    \n",
    "    \n",
    "    \n",
    "    \n",
    "    \n",
    "    "
   ]
  },
  {
   "cell_type": "code",
   "execution_count": 58,
   "id": "1c20f19a",
   "metadata": {},
   "outputs": [],
   "source": [
    "def aVeryBigSum(ar):\n",
    "    str_rev = [str(i) for i in ar]\n",
    "    max_len = max([len(i) for i in str_rev])\n",
    "    new_arr = [addzero(i, max_len) for i in str_rev]\n",
    "    \n",
    "    \n",
    "    carry = 0\n",
    "    curr  = 0\n",
    "    num   = []\n",
    "    \n",
    "    print(str_rev)\n",
    "    print(max_len)\n",
    "    print(new_arr)\n",
    "    \n",
    "    for i in range(max_len):\n",
    "        \n",
    "        for j in range(len(new_arr)):\n",
    "            curr = curr + new_arr[j]%10\n",
    "            new_arr[j] = new_arr[j]/10\n",
    "        \n",
    "        curr = curr + carry\n",
    "        curr = curr%10\n",
    "        carry = curr/10\n",
    "        \n",
    "        num.insert(0,curr)\n",
    "        \n",
    "        \n",
    "        \n",
    "    \n",
    "    \n",
    "    print(num)\n",
    "            \n",
    "    \n",
    "\n",
    "            \n"
   ]
  },
  {
   "cell_type": "code",
   "execution_count": 59,
   "id": "a3d52f2f",
   "metadata": {},
   "outputs": [
    {
     "name": "stdout",
     "output_type": "stream",
     "text": [
      "['145', '6545', '103', '546']\n",
      "4\n",
      "[145, 6545, 103, 546]\n",
      "[5.665999999999999, 7.57, 3.8000000000000007, 9]\n"
     ]
    }
   ],
   "source": [
    "aVeryBigSum([145, 6545, 103, 546])"
   ]
  },
  {
   "cell_type": "code",
   "execution_count": 43,
   "id": "26e44099",
   "metadata": {},
   "outputs": [],
   "source": [
    "def addzero(ele, n):\n",
    "    if len(ele)<n:\n",
    "        while len(ele)<n:\n",
    "            ele = '0'+ele\n",
    "            \n",
    "    return int(ele)\n",
    "    \n"
   ]
  },
  {
   "cell_type": "code",
   "execution_count": 44,
   "id": "018c18fd",
   "metadata": {},
   "outputs": [
    {
     "data": {
      "text/plain": [
       "54"
      ]
     },
     "execution_count": 44,
     "metadata": {},
     "output_type": "execute_result"
    }
   ],
   "source": [
    "addzero(\"54\",5)"
   ]
  },
  {
   "cell_type": "code",
   "execution_count": 49,
   "id": "128517d9",
   "metadata": {},
   "outputs": [
    {
     "name": "stdout",
     "output_type": "stream",
     "text": [
      "[5]\n"
     ]
    }
   ],
   "source": [
    "li = []\n",
    "li.insert(0, 5)\n",
    "print(li)"
   ]
  },
  {
   "cell_type": "code",
   "execution_count": 1,
   "id": "8db63a46",
   "metadata": {},
   "outputs": [
    {
     "name": "stdout",
     "output_type": "stream",
     "text": [
      "[[11, 2, 4], [4, 5, 6], [10, 8, -12]]\n",
      "[[4, 2, 11], [6, 5, 4], [-12, 8, 10]]\n"
     ]
    }
   ],
   "source": [
    "arr = [[11, 2, 4], [4, 5, 6], [10, 8, -12]]\n",
    "print(arr)\n",
    "arr = [list(reversed(i)) for i in arr]\n",
    "print(arr)"
   ]
  },
  {
   "cell_type": "code",
   "execution_count": 55,
   "id": "5d600714",
   "metadata": {},
   "outputs": [],
   "source": [
    "def climbingLeaderboard(ranked, player):\n",
    "    s = sorted(list(set(ranked)), reverse=True)\n",
    "    print(s)\n",
    "    print(player)\n",
    "    li = []\n",
    "    for i in player:\n",
    "        print(s)\n",
    "        print(\"for ele\", i)\n",
    "        if i>s[0]:\n",
    "            print(\"first\",s[0])\n",
    "            li.append(1)\n",
    "            s.insert(0, i)\n",
    "        elif i <s[len(s)-1]:\n",
    "            li.append(len(s)+1)\n",
    "            s.insert(len(s)+1, i)\n",
    "        else:\n",
    "            for j in range(len(s)-1):\n",
    "                print(s[j], i, s[j+1])\n",
    "                print(j)\n",
    "                if (s[j] >= i) and (i >= s[j+1]):\n",
    "                    print(\"condition satisfy --------------------------------------------\")\n",
    "                    li.append(j+2)\n",
    "                    s.insert(j+1, i)\n",
    "                    break\n",
    "                else:\n",
    "                    print(\"-----\")\n",
    "        print()\n",
    "                    \n",
    "    print(li)"
   ]
  },
  {
   "cell_type": "code",
   "execution_count": 56,
   "id": "39a6fdcc",
   "metadata": {},
   "outputs": [
    {
     "name": "stdout",
     "output_type": "stream",
     "text": [
      "[100, 50, 40, 20, 10]\n",
      "[5, 25, 50, 120]\n",
      "[100, 50, 40, 20, 10]\n",
      "for ele 5\n",
      "\n",
      "[100, 50, 40, 20, 10, 5]\n",
      "for ele 25\n",
      "100 25 50\n",
      "0\n",
      "-----\n",
      "50 25 40\n",
      "1\n",
      "-----\n",
      "40 25 20\n",
      "2\n",
      "condition satisfy --------------------------------------------\n",
      "\n",
      "[100, 50, 40, 25, 20, 10, 5]\n",
      "for ele 50\n",
      "100 50 50\n",
      "0\n",
      "condition satisfy --------------------------------------------\n",
      "\n",
      "[100, 50, 50, 40, 25, 20, 10, 5]\n",
      "for ele 120\n",
      "first 100\n",
      "\n",
      "[6, 4, 2, 1]\n"
     ]
    }
   ],
   "source": [
    "r = [100, 100, 50, 40, 40, 20, 10]\n",
    "p = [5, 25, 50, 120]\n",
    "climbingLeaderboard(r, p)"
   ]
  },
  {
   "cell_type": "code",
   "execution_count": null,
   "id": "5130fa6b",
   "metadata": {},
   "outputs": [],
   "source": []
  }
 ],
 "metadata": {
  "kernelspec": {
   "display_name": "Python 3 (ipykernel)",
   "language": "python",
   "name": "python3"
  },
  "language_info": {
   "codemirror_mode": {
    "name": "ipython",
    "version": 3
   },
   "file_extension": ".py",
   "mimetype": "text/x-python",
   "name": "python",
   "nbconvert_exporter": "python",
   "pygments_lexer": "ipython3",
   "version": "3.9.6"
  }
 },
 "nbformat": 4,
 "nbformat_minor": 5
}
