{
 "cells": [
  {
   "cell_type": "code",
   "execution_count": 74,
   "id": "d9f6e11a",
   "metadata": {},
   "outputs": [],
   "source": [
    "def diagonalDifference(arr):\n",
    "    x = len(arr)\n",
    "    y = len(arr[0])-1\n",
    "    \n",
    "    sum1, sum2 = 0, 0 \n",
    "    \n",
    "    for i in range(x):\n",
    "        sum1 = sum1 + arr[i][i]\n",
    "        \n",
    "    for i, j in zip(range(x), range(y,-1, -1)):\n",
    "        sum2 = sum2 + arr[i][j]\n",
    "        \n",
    "        \n",
    "    return abs(sum1-sum2)"
   ]
  },
  {
   "cell_type": "code",
   "execution_count": 75,
   "id": "0eab9cb1",
   "metadata": {},
   "outputs": [
    {
     "data": {
      "text/plain": [
       "1"
      ]
     },
     "execution_count": 75,
     "metadata": {},
     "output_type": "execute_result"
    }
   ],
   "source": [
    "diagonalDifference([[-1, 1, -7, -8], [-10, -8, -5, -2], [0, 9, 7, -1], [4, 4, -2, 1]])"
   ]
  },
  {
   "cell_type": "code",
   "execution_count": 76,
   "id": "7bcb38ab",
   "metadata": {},
   "outputs": [
    {
     "name": "stdout",
     "output_type": "stream",
     "text": [
      "\n",
      "#\n",
      "##\n",
      "###\n",
      "####\n"
     ]
    }
   ],
   "source": [
    "for i in range(5):\n",
    "    print(\"#\"*i)"
   ]
  },
  {
   "cell_type": "code",
   "execution_count": 81,
   "id": "0e20f7ef",
   "metadata": {},
   "outputs": [
    {
     "name": "stdout",
     "output_type": "stream",
     "text": [
      "Shubh\n"
     ]
    }
   ],
   "source": [
    "print(\"Shubham\"[0:-2])"
   ]
  },
  {
   "cell_type": "code",
   "execution_count": 95,
   "id": "d56b14bb",
   "metadata": {},
   "outputs": [],
   "source": [
    "def timeConversion(s):\n",
    "    zone = s[-2:]\n",
    "    li = s[:-2].split(\":\")\n",
    "    \n",
    "    if zone == \"AM\":\n",
    "        if li[0] == \"12\":\n",
    "            li[0] = \"00\"\n",
    "            \n",
    "        s = \":\".join(li)\n",
    "        \n",
    "    else:\n",
    "        if li[0] != \"12\":\n",
    "            li[0] = str(int(li[0])+12)\n",
    "            \n",
    "        s = \":\".join(li)\n",
    "        \n",
    "    return s\n",
    "        \n",
    "        \n",
    "        \n",
    "        \n",
    "        \n",
    "            "
   ]
  },
  {
   "cell_type": "code",
   "execution_count": 97,
   "id": "5db3a3a7",
   "metadata": {},
   "outputs": [
    {
     "data": {
      "text/plain": [
       "'00:45:54'"
      ]
     },
     "execution_count": 97,
     "metadata": {},
     "output_type": "execute_result"
    }
   ],
   "source": [
    "timeConversion(\"12:45:54AM\")"
   ]
  },
  {
   "cell_type": "code",
   "execution_count": 108,
   "id": "2ad1c8e4",
   "metadata": {},
   "outputs": [
    {
     "name": "stdout",
     "output_type": "stream",
     "text": [
      "3 2\n"
     ]
    }
   ],
   "source": [
    "import math\n",
    "\n",
    "a = (8)**(1/2)\n",
    "\n",
    "x1 = math.ceil(a)\n",
    "x2 = math.floor(a)\n",
    "\n",
    "print(x1, x2)"
   ]
  },
  {
   "cell_type": "code",
   "execution_count": 152,
   "id": "24140786",
   "metadata": {},
   "outputs": [],
   "source": [
    "def encryption(s):\n",
    "    s = s.replace(\" \", \"\")\n",
    "    n = len(s)\n",
    "    r, c = math.floor(n**(1/2)), math.ceil(n**(1/2))\n",
    "    \n",
    "    if r*c<n:\n",
    "        r = r+1\n",
    "    \n",
    "    index = 0\n",
    "    arr = []\n",
    "    st = \"\"\n",
    "    print(s, n, r, c)\n",
    "    \n",
    "    for i in range(r):\n",
    "        a = []\n",
    "        for j in range(c):\n",
    "            a.append(s[index])\n",
    "            index+=1\n",
    "            \n",
    "        arr.append(a)\n",
    "        \n",
    "    print(arr)\n",
    "    for i in range(c):\n",
    "        for j in range(r):\n",
    "            st = st+arr[j][i]\n",
    "            \n",
    "        st = st + \" \"\n",
    "        \n",
    "    print(st)"
   ]
  },
  {
   "cell_type": "code",
   "execution_count": 153,
   "id": "7d4169af",
   "metadata": {},
   "outputs": [
    {
     "name": "stdout",
     "output_type": "stream",
     "text": [
      "haveaniceday 12 3 4\n",
      "[['h', 'a', 'v', 'e'], ['a', 'n', 'i', 'c'], ['e', 'd', 'a', 'y']]\n",
      "hae and via ecy \n"
     ]
    }
   ],
   "source": [
    "encryption(\"have a nice day\")"
   ]
  },
  {
   "cell_type": "code",
   "execution_count": 154,
   "id": "0e048a15",
   "metadata": {},
   "outputs": [
    {
     "name": "stdout",
     "output_type": "stream",
     "text": [
      "chillout 8 3 3\n"
     ]
    },
    {
     "ename": "IndexError",
     "evalue": "string index out of range",
     "output_type": "error",
     "traceback": [
      "\u001b[1;31m---------------------------------------------------------------------------\u001b[0m",
      "\u001b[1;31mIndexError\u001b[0m                                Traceback (most recent call last)",
      "\u001b[1;32m~\\AppData\\Local\\Temp/ipykernel_14520/1242079821.py\u001b[0m in \u001b[0;36m<module>\u001b[1;34m\u001b[0m\n\u001b[1;32m----> 1\u001b[1;33m \u001b[0mencryption\u001b[0m\u001b[1;33m(\u001b[0m\u001b[1;34m\"chillout\"\u001b[0m\u001b[1;33m)\u001b[0m\u001b[1;33m\u001b[0m\u001b[1;33m\u001b[0m\u001b[0m\n\u001b[0m",
      "\u001b[1;32m~\\AppData\\Local\\Temp/ipykernel_14520/3949748858.py\u001b[0m in \u001b[0;36mencryption\u001b[1;34m(s)\u001b[0m\n\u001b[0;32m     15\u001b[0m         \u001b[0ma\u001b[0m \u001b[1;33m=\u001b[0m \u001b[1;33m[\u001b[0m\u001b[1;33m]\u001b[0m\u001b[1;33m\u001b[0m\u001b[1;33m\u001b[0m\u001b[0m\n\u001b[0;32m     16\u001b[0m         \u001b[1;32mfor\u001b[0m \u001b[0mj\u001b[0m \u001b[1;32min\u001b[0m \u001b[0mrange\u001b[0m\u001b[1;33m(\u001b[0m\u001b[0mc\u001b[0m\u001b[1;33m)\u001b[0m\u001b[1;33m:\u001b[0m\u001b[1;33m\u001b[0m\u001b[1;33m\u001b[0m\u001b[0m\n\u001b[1;32m---> 17\u001b[1;33m             \u001b[0ma\u001b[0m\u001b[1;33m.\u001b[0m\u001b[0mappend\u001b[0m\u001b[1;33m(\u001b[0m\u001b[0ms\u001b[0m\u001b[1;33m[\u001b[0m\u001b[0mindex\u001b[0m\u001b[1;33m]\u001b[0m\u001b[1;33m)\u001b[0m\u001b[1;33m\u001b[0m\u001b[1;33m\u001b[0m\u001b[0m\n\u001b[0m\u001b[0;32m     18\u001b[0m             \u001b[0mindex\u001b[0m\u001b[1;33m+=\u001b[0m\u001b[1;36m1\u001b[0m\u001b[1;33m\u001b[0m\u001b[1;33m\u001b[0m\u001b[0m\n\u001b[0;32m     19\u001b[0m \u001b[1;33m\u001b[0m\u001b[0m\n",
      "\u001b[1;31mIndexError\u001b[0m: string index out of range"
     ]
    }
   ],
   "source": [
    "encryption(\"chillout\")"
   ]
  },
  {
   "cell_type": "code",
   "execution_count": 156,
   "id": "df6c44d9",
   "metadata": {},
   "outputs": [
    {
     "name": "stdout",
     "output_type": "stream",
     "text": [
      "chillout\n",
      "clu hlt io "
     ]
    }
   ],
   "source": [
    "import math\n",
    "s=input()\n",
    "sm=s.replace(\" \",\"\")\n",
    "r=math.floor(math.sqrt(len(sm)))\n",
    "c=math.ceil(math.sqrt(len(sm)))\n",
    "for i in range(c):\n",
    "    print(sm[i::c],end=\" \")\n",
    "    "
   ]
  },
  {
   "cell_type": "code",
   "execution_count": 161,
   "id": "8bdc1ac6",
   "metadata": {},
   "outputs": [],
   "source": [
    "def countApplesAndOranges(s, t, a, b, apples, oranges):\n",
    "    apples = [a+i for i in apples]\n",
    "    oranges = [b+i for i in oranges]\n",
    "    rang = list(range(s,t+1))\n",
    "    a_count = 0\n",
    "    o_count = 0\n",
    "    \n",
    "    for i in apples:\n",
    "        if i in rang:\n",
    "            a_count += 1\n",
    "            \n",
    "    for i in oranges:\n",
    "        if i in rang:\n",
    "            o_count += 1\n",
    "    \n",
    "    print(a_count)\n",
    "    print(o_count)"
   ]
  },
  {
   "cell_type": "code",
   "execution_count": 162,
   "id": "d1d25fa9",
   "metadata": {},
   "outputs": [
    {
     "name": "stdout",
     "output_type": "stream",
     "text": [
      "[7, 8, 9, 10, 11]\n",
      "1\n",
      "1\n"
     ]
    }
   ],
   "source": [
    "countApplesAndOranges(7, 11, 5, 15,[-2, 2, 1],[5, -6])"
   ]
  },
  {
   "cell_type": "code",
   "execution_count": 165,
   "id": "67c350f4",
   "metadata": {},
   "outputs": [],
   "source": [
    "\n",
    "def kangaroo(x1, v1, x2, v2):\n",
    "    if (v1>v2 and x1<x2) or (v1<v2 and x1>x2):\n",
    "        return \"YES\"\n",
    "    else:\n",
    "        return \"NO\""
   ]
  },
  {
   "cell_type": "code",
   "execution_count": 166,
   "id": "5f404304",
   "metadata": {},
   "outputs": [
    {
     "data": {
      "text/plain": [
       "'YES'"
      ]
     },
     "execution_count": 166,
     "metadata": {},
     "output_type": "execute_result"
    }
   ],
   "source": [
    "kangaroo(21, 6, 47, 3)"
   ]
  },
  {
   "cell_type": "code",
   "execution_count": 173,
   "id": "695bb20d",
   "metadata": {},
   "outputs": [],
   "source": [
    "\n",
    "def getTotalX(a, b):\n",
    "    \n",
    "    a = [isFactor(i,b) and isFactor_of(i,a) for i in range(1,101)]\n",
    "    print(a)\n",
    "    \n",
    "    return sum(a)\n",
    "\n",
    "def isFactor(a, arr):\n",
    "    flag = True\n",
    "    for i in arr:\n",
    "        if i%a!=0:\n",
    "            flag = False\n",
    "    return flag\n",
    "\n",
    "def isFactor_of(a, arr):\n",
    "    flag =  True\n",
    "    for i in arr:\n",
    "        if a%i!=0:\n",
    "            flag = False\n",
    "    return flag\n",
    "    "
   ]
  },
  {
   "cell_type": "code",
   "execution_count": 174,
   "id": "35ffd879",
   "metadata": {},
   "outputs": [],
   "source": [
    "a = [2, 4]\n",
    "b = [16, 32, 96]"
   ]
  },
  {
   "cell_type": "code",
   "execution_count": 175,
   "id": "df6f235f",
   "metadata": {},
   "outputs": [
    {
     "name": "stdout",
     "output_type": "stream",
     "text": [
      "[False, False, False, True, False, False, False, True, False, False, False, False, False, False, False, True, False, False, False, False, False, False, False, False, False, False, False, False, False, False, False, False, False, False, False, False, False, False, False, False, False, False, False, False, False, False, False, False, False, False, False, False, False, False, False, False, False, False, False, False, False, False, False, False, False, False, False, False, False, False, False, False, False, False, False, False, False, False, False, False, False, False, False, False, False, False, False, False, False, False, False, False, False, False, False, False, False, False, False, False]\n"
     ]
    },
    {
     "data": {
      "text/plain": [
       "3"
      ]
     },
     "execution_count": 175,
     "metadata": {},
     "output_type": "execute_result"
    }
   ],
   "source": [
    "getTotalX(a , b)"
   ]
  },
  {
   "cell_type": "code",
   "execution_count": 182,
   "id": "076e08f6",
   "metadata": {},
   "outputs": [],
   "source": [
    "def breakingRecords(scores):\n",
    "    maxi = scores[0]\n",
    "    mini = scores[0]\n",
    "    \n",
    "    count_best = 0\n",
    "    count_worst = 0\n",
    "    \n",
    "    for i in range(1,len(scores)):\n",
    "        if scores[i] > maxi:\n",
    "            maxi = scores[i]\n",
    "            count_best+=1\n",
    "        elif scores[i]<mini:\n",
    "            mini = scores[i]\n",
    "            count_worst+=1\n",
    "        \n",
    "    return(count_best, count_worst)\n"
   ]
  },
  {
   "cell_type": "code",
   "execution_count": 183,
   "id": "ddb010b4",
   "metadata": {},
   "outputs": [],
   "source": [
    "scores = \"503 503 503 503 503 503 503 503 503 503 503 503 503 503 503 503 503 503 503 503 503 503 503 503 503 503 503 503 503 503 503 503 503 503 503 503 503 503 503 503 503 503 503 503 503 503 503 503 503 503 503 503 503 503 503 503 503 503 503 503 503 503 503 503 503 503 503 503 503 503 503 503 503 503 503 503 503 503 503 503 503 503 503 503 503 503 503 503 503 503 503 503 503 503 503 503 503 503 503 503\".split()"
   ]
  },
  {
   "cell_type": "code",
   "execution_count": 184,
   "id": "dd2372f9",
   "metadata": {},
   "outputs": [
    {
     "data": {
      "text/plain": [
       "(0, 0)"
      ]
     },
     "execution_count": 184,
     "metadata": {},
     "output_type": "execute_result"
    }
   ],
   "source": [
    "breakingRecords(scores)"
   ]
  },
  {
   "cell_type": "code",
   "execution_count": 185,
   "id": "d6d29fcd",
   "metadata": {},
   "outputs": [],
   "source": [
    "def return_substrings(input_string):\n",
    "    length = len(input_string)\n",
    "    return [input_string[i:j + 1] for i in range(length) for j in range(i, length)]\n"
   ]
  },
  {
   "cell_type": "code",
   "execution_count": 186,
   "id": "eba1e05e",
   "metadata": {},
   "outputs": [
    {
     "name": "stdout",
     "output_type": "stream",
     "text": [
      "['a', 'ab', 'abc', 'b', 'bc', 'c']\n"
     ]
    }
   ],
   "source": [
    "print(return_substrings('abc'))"
   ]
  },
  {
   "cell_type": "code",
   "execution_count": null,
   "id": "7da73b29",
   "metadata": {},
   "outputs": [],
   "source": []
  }
 ],
 "metadata": {
  "kernelspec": {
   "display_name": "Python 3 (ipykernel)",
   "language": "python",
   "name": "python3"
  },
  "language_info": {
   "codemirror_mode": {
    "name": "ipython",
    "version": 3
   },
   "file_extension": ".py",
   "mimetype": "text/x-python",
   "name": "python",
   "nbconvert_exporter": "python",
   "pygments_lexer": "ipython3",
   "version": "3.9.6"
  }
 },
 "nbformat": 4,
 "nbformat_minor": 5
}
