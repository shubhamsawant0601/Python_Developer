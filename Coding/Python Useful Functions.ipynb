{
 "cells": [
  {
   "cell_type": "markdown",
   "id": "12e078f9",
   "metadata": {},
   "source": [
    "## List Methods"
   ]
  },
  {
   "cell_type": "code",
   "execution_count": 1,
   "id": "d7969674",
   "metadata": {},
   "outputs": [],
   "source": [
    "li = [1,2,3]"
   ]
  },
  {
   "cell_type": "code",
   "execution_count": 2,
   "id": "57594003",
   "metadata": {},
   "outputs": [
    {
     "data": {
      "text/plain": [
       "[1, 2, 3, 4]"
      ]
     },
     "execution_count": 2,
     "metadata": {},
     "output_type": "execute_result"
    }
   ],
   "source": [
    "li.append(4)\n",
    "li"
   ]
  },
  {
   "cell_type": "code",
   "execution_count": 3,
   "id": "ec4a8416",
   "metadata": {},
   "outputs": [
    {
     "data": {
      "text/plain": [
       "[1, 2, 3, 4]"
      ]
     },
     "execution_count": 3,
     "metadata": {},
     "output_type": "execute_result"
    }
   ],
   "source": [
    "li_copied = li.copy()\n",
    "li_copied"
   ]
  },
  {
   "cell_type": "code",
   "execution_count": 4,
   "id": "4b48df29",
   "metadata": {},
   "outputs": [
    {
     "data": {
      "text/plain": [
       "1"
      ]
     },
     "execution_count": 4,
     "metadata": {},
     "output_type": "execute_result"
    }
   ],
   "source": [
    "count = li.count(1)\n",
    "count"
   ]
  },
  {
   "cell_type": "code",
   "execution_count": 5,
   "id": "5f462494",
   "metadata": {},
   "outputs": [
    {
     "data": {
      "text/plain": [
       "[1, 10, 2, 3, 4]"
      ]
     },
     "execution_count": 5,
     "metadata": {},
     "output_type": "execute_result"
    }
   ],
   "source": [
    "li.insert(1, 10)\n",
    "li"
   ]
  },
  {
   "cell_type": "code",
   "execution_count": 6,
   "id": "11ec20fd",
   "metadata": {},
   "outputs": [
    {
     "data": {
      "text/plain": [
       "[4, 3, 2, 10, 1]"
      ]
     },
     "execution_count": 6,
     "metadata": {},
     "output_type": "execute_result"
    }
   ],
   "source": [
    "li.reverse()\n",
    "li"
   ]
  },
  {
   "cell_type": "code",
   "execution_count": 7,
   "id": "7fbe451f",
   "metadata": {},
   "outputs": [
    {
     "data": {
      "text/plain": [
       "[4, 3, 2, 1]"
      ]
     },
     "execution_count": 7,
     "metadata": {},
     "output_type": "execute_result"
    }
   ],
   "source": [
    "# remove first occurance\n",
    "li.remove(10)\n",
    "li"
   ]
  },
  {
   "cell_type": "code",
   "execution_count": 8,
   "id": "e24ade61",
   "metadata": {},
   "outputs": [
    {
     "data": {
      "text/plain": [
       "[1, 2, 3, 4]"
      ]
     },
     "execution_count": 8,
     "metadata": {},
     "output_type": "execute_result"
    }
   ],
   "source": [
    "li.sort()\n",
    "li"
   ]
  },
  {
   "cell_type": "code",
   "execution_count": 9,
   "id": "bf094914",
   "metadata": {},
   "outputs": [
    {
     "data": {
      "text/plain": [
       "[1, 2, 3]"
      ]
     },
     "execution_count": 9,
     "metadata": {},
     "output_type": "execute_result"
    }
   ],
   "source": [
    "li.pop()\n",
    "li"
   ]
  },
  {
   "cell_type": "code",
   "execution_count": 10,
   "id": "4bdc0b6d",
   "metadata": {},
   "outputs": [
    {
     "data": {
      "text/plain": [
       "[1, 2, 3, 10, 20, 30]"
      ]
     },
     "execution_count": 10,
     "metadata": {},
     "output_type": "execute_result"
    }
   ],
   "source": [
    "li_extend = [10,20,30]\n",
    "li.extend(li_extend)\n",
    "li"
   ]
  },
  {
   "cell_type": "code",
   "execution_count": 11,
   "id": "2aa7ffc6",
   "metadata": {},
   "outputs": [
    {
     "data": {
      "text/plain": [
       "3"
      ]
     },
     "execution_count": 11,
     "metadata": {},
     "output_type": "execute_result"
    }
   ],
   "source": [
    "li.index(10)"
   ]
  },
  {
   "cell_type": "code",
   "execution_count": 12,
   "id": "ec302726",
   "metadata": {},
   "outputs": [
    {
     "data": {
      "text/plain": [
       "[]"
      ]
     },
     "execution_count": 12,
     "metadata": {},
     "output_type": "execute_result"
    }
   ],
   "source": [
    "li.clear()\n",
    "li"
   ]
  },
  {
   "cell_type": "markdown",
   "id": "0f1c3e5e",
   "metadata": {},
   "source": [
    "## Set Methods\n",
    "\n",
    "1. Set items are unordered, unchangeable, and do not allow duplicate values\n",
    "2. we cannot change the items after the set has been created."
   ]
  },
  {
   "cell_type": "code",
   "execution_count": 1,
   "id": "81793e64",
   "metadata": {},
   "outputs": [
    {
     "data": {
      "text/plain": [
       "{1, 2, 3, 4, 5, 'apple'}"
      ]
     },
     "execution_count": 1,
     "metadata": {},
     "output_type": "execute_result"
    }
   ],
   "source": [
    "set1 = {\"apple\",1,2,3,4,5}\n",
    "set1"
   ]
  },
  {
   "cell_type": "code",
   "execution_count": 2,
   "id": "e1d76133",
   "metadata": {},
   "outputs": [
    {
     "data": {
      "text/plain": [
       "{10, 3, 4, 5, 6, 7, 8, 9, 'Mango'}"
      ]
     },
     "execution_count": 2,
     "metadata": {},
     "output_type": "execute_result"
    }
   ],
   "source": [
    "set2 = {\"Mango\",3,4,5,6,7,8,9,10}\n",
    "set2"
   ]
  },
  {
   "cell_type": "code",
   "execution_count": 3,
   "id": "7ac03e40",
   "metadata": {},
   "outputs": [
    {
     "data": {
      "text/plain": [
       "1"
      ]
     },
     "execution_count": 3,
     "metadata": {},
     "output_type": "execute_result"
    }
   ],
   "source": [
    "# pop out first item\n",
    "poped = set1.pop()\n",
    "poped"
   ]
  },
  {
   "cell_type": "code",
   "execution_count": 4,
   "id": "c6b53128",
   "metadata": {},
   "outputs": [
    {
     "data": {
      "text/plain": [
       "{2, 3, 4, 5}"
      ]
     },
     "execution_count": 4,
     "metadata": {},
     "output_type": "execute_result"
    }
   ],
   "source": [
    "set1.discard(\"apple\")\n",
    "set1"
   ]
  },
  {
   "cell_type": "code",
   "execution_count": 17,
   "id": "f9ffe0ae",
   "metadata": {},
   "outputs": [
    {
     "data": {
      "text/plain": [
       "{1, 2, 3, 4, 5, 'apple'}"
      ]
     },
     "execution_count": 17,
     "metadata": {},
     "output_type": "execute_result"
    }
   ],
   "source": [
    "set1.add(\"apple\")\n",
    "set1.add(1)\n",
    "set1"
   ]
  },
  {
   "cell_type": "code",
   "execution_count": 18,
   "id": "fe684018",
   "metadata": {},
   "outputs": [
    {
     "data": {
      "text/plain": [
       "{1, 10, 2, 3, 4, 5, 6, 7, 8, 9, 'Mango', 'apple'}"
      ]
     },
     "execution_count": 18,
     "metadata": {},
     "output_type": "execute_result"
    }
   ],
   "source": [
    "union = set1.union(set2)\n",
    "union"
   ]
  },
  {
   "cell_type": "code",
   "execution_count": 19,
   "id": "caa70ffd",
   "metadata": {},
   "outputs": [
    {
     "data": {
      "text/plain": [
       "{3, 4, 5}"
      ]
     },
     "execution_count": 19,
     "metadata": {},
     "output_type": "execute_result"
    }
   ],
   "source": [
    "intersection = set1.intersection(set2)\n",
    "intersection"
   ]
  },
  {
   "cell_type": "code",
   "execution_count": 20,
   "id": "df42dff5",
   "metadata": {},
   "outputs": [
    {
     "data": {
      "text/plain": [
       "{1, 2, 'apple'}"
      ]
     },
     "execution_count": 20,
     "metadata": {},
     "output_type": "execute_result"
    }
   ],
   "source": [
    "difference1 = set1.difference(set2)\n",
    "difference1"
   ]
  },
  {
   "cell_type": "code",
   "execution_count": 21,
   "id": "b4993751",
   "metadata": {},
   "outputs": [
    {
     "data": {
      "text/plain": [
       "{10, 6, 7, 8, 9, 'Mango'}"
      ]
     },
     "execution_count": 21,
     "metadata": {},
     "output_type": "execute_result"
    }
   ],
   "source": [
    "difference2 = set2.difference(set1)\n",
    "difference2"
   ]
  },
  {
   "cell_type": "code",
   "execution_count": 22,
   "id": "ce378a56",
   "metadata": {},
   "outputs": [
    {
     "data": {
      "text/plain": [
       "False"
      ]
     },
     "execution_count": 22,
     "metadata": {},
     "output_type": "execute_result"
    }
   ],
   "source": [
    "# returns False if both sets have somthing common in them otherwise True \n",
    "isdisjoint = set1.isdisjoint(set2)\n",
    "isdisjoint"
   ]
  },
  {
   "cell_type": "code",
   "execution_count": 23,
   "id": "df09b439",
   "metadata": {},
   "outputs": [
    {
     "data": {
      "text/plain": [
       "True"
      ]
     },
     "execution_count": 23,
     "metadata": {},
     "output_type": "execute_result"
    }
   ],
   "source": [
    "a = {1,2,3,4,5}\n",
    "b = {4,5}\n",
    "\n",
    "a.issuperset(b)"
   ]
  },
  {
   "cell_type": "code",
   "execution_count": 24,
   "id": "86a1da6f",
   "metadata": {},
   "outputs": [
    {
     "data": {
      "text/plain": [
       "True"
      ]
     },
     "execution_count": 24,
     "metadata": {},
     "output_type": "execute_result"
    }
   ],
   "source": [
    "b.issubset(a)"
   ]
  },
  {
   "cell_type": "code",
   "execution_count": 25,
   "id": "77954512",
   "metadata": {},
   "outputs": [
    {
     "data": {
      "text/plain": [
       "False"
      ]
     },
     "execution_count": 25,
     "metadata": {},
     "output_type": "execute_result"
    }
   ],
   "source": [
    "b.issuperset(a)"
   ]
  },
  {
   "cell_type": "code",
   "execution_count": 26,
   "id": "152bade8",
   "metadata": {},
   "outputs": [
    {
     "data": {
      "text/plain": [
       "False"
      ]
     },
     "execution_count": 26,
     "metadata": {},
     "output_type": "execute_result"
    }
   ],
   "source": [
    "a.issubset(b)"
   ]
  },
  {
   "cell_type": "code",
   "execution_count": 27,
   "id": "10e6570c",
   "metadata": {},
   "outputs": [
    {
     "data": {
      "text/plain": [
       "set()"
      ]
     },
     "execution_count": 27,
     "metadata": {},
     "output_type": "execute_result"
    }
   ],
   "source": [
    "set1.clear()\n",
    "set1"
   ]
  },
  {
   "cell_type": "code",
   "execution_count": 5,
   "id": "02d110b4",
   "metadata": {},
   "outputs": [
    {
     "data": {
      "text/plain": [
       "[1, 2, 3, 4, 5, 52]"
      ]
     },
     "execution_count": 5,
     "metadata": {},
     "output_type": "execute_result"
    }
   ],
   "source": [
    "a = [1,2,3,4,4,2,4,5,1,3,5,2,4,5,52]\n",
    "s = set(a)\n",
    "\n",
    "s = list(s)\n",
    "s"
   ]
  },
  {
   "cell_type": "markdown",
   "id": "28c90187",
   "metadata": {},
   "source": [
    "## Dictionary "
   ]
  },
  {
   "cell_type": "code",
   "execution_count": 28,
   "id": "5b7b747a",
   "metadata": {},
   "outputs": [],
   "source": [
    "dic = {\"apple\":4, \"mango\":2, \"banana\":5}"
   ]
  },
  {
   "cell_type": "code",
   "execution_count": 29,
   "id": "d3df344e",
   "metadata": {},
   "outputs": [
    {
     "data": {
      "text/plain": [
       "dict_keys(['apple', 'mango', 'banana'])"
      ]
     },
     "execution_count": 29,
     "metadata": {},
     "output_type": "execute_result"
    }
   ],
   "source": [
    "dic.keys()"
   ]
  },
  {
   "cell_type": "code",
   "execution_count": 30,
   "id": "4a525ddb",
   "metadata": {},
   "outputs": [
    {
     "data": {
      "text/plain": [
       "dict_values([4, 2, 5])"
      ]
     },
     "execution_count": 30,
     "metadata": {},
     "output_type": "execute_result"
    }
   ],
   "source": [
    "dic.values()"
   ]
  },
  {
   "cell_type": "code",
   "execution_count": 31,
   "id": "27395f39",
   "metadata": {},
   "outputs": [
    {
     "data": {
      "text/plain": [
       "dict_items([('apple', 4), ('mango', 2), ('banana', 5)])"
      ]
     },
     "execution_count": 31,
     "metadata": {},
     "output_type": "execute_result"
    }
   ],
   "source": [
    "dic.items()"
   ]
  },
  {
   "cell_type": "code",
   "execution_count": 5,
   "id": "1be7fa95",
   "metadata": {},
   "outputs": [
    {
     "data": {
      "text/plain": [
       "{'apple': [0, 1, 1], 'mango': [0, 1, 1], 'chikoo': [0, 1, 1]}"
      ]
     },
     "execution_count": 5,
     "metadata": {},
     "output_type": "execute_result"
    }
   ],
   "source": [
    "x = [\"apple\",\"mango\", \"chikoo\"]\n",
    "y = [0,1,1]\n",
    "\n",
    "dic2 = dict.fromkeys(x,y)\n",
    "dic2"
   ]
  },
  {
   "cell_type": "code",
   "execution_count": 33,
   "id": "b693d8ae",
   "metadata": {},
   "outputs": [
    {
     "data": {
      "text/plain": [
       "4"
      ]
     },
     "execution_count": 33,
     "metadata": {},
     "output_type": "execute_result"
    }
   ],
   "source": [
    "# return value of specified key and pop item\n",
    "dic.pop(\"apple\")"
   ]
  },
  {
   "cell_type": "code",
   "execution_count": 34,
   "id": "dc54f334",
   "metadata": {},
   "outputs": [
    {
     "data": {
      "text/plain": [
       "{'mango': 2, 'banana': 5}"
      ]
     },
     "execution_count": 34,
     "metadata": {},
     "output_type": "execute_result"
    }
   ],
   "source": [
    "dic"
   ]
  },
  {
   "cell_type": "code",
   "execution_count": 35,
   "id": "f7d87997",
   "metadata": {},
   "outputs": [
    {
     "data": {
      "text/plain": [
       "('banana', 5)"
      ]
     },
     "execution_count": 35,
     "metadata": {},
     "output_type": "execute_result"
    }
   ],
   "source": [
    "# pop item from last\n",
    "dic.popitem()"
   ]
  },
  {
   "cell_type": "code",
   "execution_count": 36,
   "id": "ef9e9430",
   "metadata": {},
   "outputs": [
    {
     "data": {
      "text/plain": [
       "2"
      ]
     },
     "execution_count": 36,
     "metadata": {},
     "output_type": "execute_result"
    }
   ],
   "source": [
    "# get value by key\n",
    "item = dic.get(\"mango\")\n",
    "item"
   ]
  },
  {
   "cell_type": "code",
   "execution_count": 37,
   "id": "813a4af5",
   "metadata": {},
   "outputs": [
    {
     "data": {
      "text/plain": [
       "{'mango': 2}"
      ]
     },
     "execution_count": 37,
     "metadata": {},
     "output_type": "execute_result"
    }
   ],
   "source": [
    "newdic = dic.copy()\n",
    "newdic"
   ]
  },
  {
   "cell_type": "code",
   "execution_count": 38,
   "id": "811cdf9f",
   "metadata": {},
   "outputs": [
    {
     "data": {
      "text/plain": [
       "{}"
      ]
     },
     "execution_count": 38,
     "metadata": {},
     "output_type": "execute_result"
    }
   ],
   "source": [
    "dic.clear()\n",
    "dic"
   ]
  },
  {
   "cell_type": "markdown",
   "id": "f116aa0b",
   "metadata": {},
   "source": [
    "## Frequency of Dictionary Items"
   ]
  },
  {
   "cell_type": "code",
   "execution_count": 39,
   "id": "e9d4a2cd",
   "metadata": {},
   "outputs": [
    {
     "data": {
      "text/plain": [
       "{'a': 1, 'b': 2, 'c': 3, 'd': 4, 'e': 5}"
      ]
     },
     "execution_count": 39,
     "metadata": {},
     "output_type": "execute_result"
    }
   ],
   "source": [
    "li = ['a','b','c','d','e','b','c','d','e','c','d','e','d','e','e']\n",
    "dic = {}\n",
    "\n",
    "for i in li:\n",
    "    if i not in dic:\n",
    "        dic[i] = 1\n",
    "    else:\n",
    "        dic[i] = dic[i]+1\n",
    "        \n",
    "dic"
   ]
  },
  {
   "cell_type": "markdown",
   "id": "78a14bbb",
   "metadata": {},
   "source": [
    "## Sorting of Dictionary"
   ]
  },
  {
   "cell_type": "code",
   "execution_count": 8,
   "id": "83855ff1",
   "metadata": {},
   "outputs": [
    {
     "data": {
      "text/plain": [
       "{'banana': 8, 'cherry': 6, 'grapes': 5, 'mango': 4, 'apple': 3}"
      ]
     },
     "execution_count": 8,
     "metadata": {},
     "output_type": "execute_result"
    }
   ],
   "source": [
    "dic = {\"banana\":8, \"mango\":4, \"apple\":3, \"cherry\":6, \"grapes\":5}\n",
    "\n",
    "sorted_values = dict(sorted(dic.items(), key=lambda x:x[1], reverse = True))\n",
    "sorted_values"
   ]
  },
  {
   "cell_type": "code",
   "execution_count": 41,
   "id": "a2b475c2",
   "metadata": {},
   "outputs": [
    {
     "data": {
      "text/plain": [
       "{'apple': 3, 'banana': 8, 'cherry': 6, 'grapes': 5, 'mango': 4}"
      ]
     },
     "execution_count": 41,
     "metadata": {},
     "output_type": "execute_result"
    }
   ],
   "source": [
    "sorted_keys = dict(sorted(dic.items(), key=lambda x:x[0]))\n",
    "sorted_keys"
   ]
  },
  {
   "cell_type": "markdown",
   "id": "ce51cc7a",
   "metadata": {},
   "source": [
    "## Lambda Functions with Map() "
   ]
  },
  {
   "cell_type": "code",
   "execution_count": 42,
   "id": "f445b747",
   "metadata": {},
   "outputs": [
    {
     "data": {
      "text/plain": [
       "[False, True, False, True, False, True, False, True, False]"
      ]
     },
     "execution_count": 42,
     "metadata": {},
     "output_type": "execute_result"
    }
   ],
   "source": [
    "li = [1,2,3,4,5,6,7,8,9]\n",
    "\n",
    "a = (lambda x: x%2==0)\n",
    "\n",
    "list(map(a, li))"
   ]
  },
  {
   "cell_type": "code",
   "execution_count": 43,
   "id": "0968d607",
   "metadata": {},
   "outputs": [
    {
     "data": {
      "text/plain": [
       "[0, 0, 0, 0, 0, 36, 49, 64, 81]"
      ]
     },
     "execution_count": 43,
     "metadata": {},
     "output_type": "execute_result"
    }
   ],
   "source": [
    "a = (lambda x: x**2 if x>5 else 0)\n",
    "\n",
    "list(map(a, li))"
   ]
  },
  {
   "cell_type": "code",
   "execution_count": 44,
   "id": "459e286a",
   "metadata": {},
   "outputs": [
    {
     "data": {
      "text/plain": [
       "[1, 32, 243, 1024, 3125, 7776, 16807, 32768, 59049]"
      ]
     },
     "execution_count": 44,
     "metadata": {},
     "output_type": "execute_result"
    }
   ],
   "source": [
    "a = (lambda x: x**5 )\n",
    "\n",
    "list(map(a, li))"
   ]
  },
  {
   "cell_type": "code",
   "execution_count": null,
   "id": "689b16d7",
   "metadata": {},
   "outputs": [],
   "source": []
  },
  {
   "cell_type": "markdown",
   "id": "6a468e8f",
   "metadata": {},
   "source": [
    "## Lambda Functions with Filter()"
   ]
  },
  {
   "cell_type": "code",
   "execution_count": 45,
   "id": "91122dd6",
   "metadata": {},
   "outputs": [
    {
     "data": {
      "text/plain": [
       "[6, 7, 8, 9]"
      ]
     },
     "execution_count": 45,
     "metadata": {},
     "output_type": "execute_result"
    }
   ],
   "source": [
    "li = [1,2,3,4,5,6,7,8,9]\n",
    "\n",
    "a = (lambda x:x>5)\n",
    "\n",
    "list(filter(a, li))"
   ]
  },
  {
   "cell_type": "code",
   "execution_count": 46,
   "id": "520f7b3a",
   "metadata": {},
   "outputs": [
    {
     "data": {
      "text/plain": [
       "[2, 4, 6, 8]"
      ]
     },
     "execution_count": 46,
     "metadata": {},
     "output_type": "execute_result"
    }
   ],
   "source": [
    "a = (lambda x:x%2==0)\n",
    "\n",
    "list(filter(a, li))"
   ]
  },
  {
   "cell_type": "markdown",
   "id": "96ab2745",
   "metadata": {},
   "source": [
    "## Lambda Functions with OOP"
   ]
  },
  {
   "cell_type": "code",
   "execution_count": 47,
   "id": "16c507c6",
   "metadata": {},
   "outputs": [],
   "source": [
    "class Student:\n",
    "    def __init__(self, id, name, sirname):\n",
    "        self.id = id\n",
    "        self.name = name\n",
    "        self.sirname = sirname\n",
    "        \n",
    "a = Student(3, \"Shubham\", \"Sawant\")\n",
    "b = Student(2, \"Kiran\", \"Shinde\")\n",
    "c = Student(1, \"Rohan\", \"Gaikwad\")\n",
    "\n",
    "li = [a,b,c]"
   ]
  },
  {
   "cell_type": "code",
   "execution_count": 48,
   "id": "7a4fbac2",
   "metadata": {},
   "outputs": [
    {
     "name": "stdout",
     "output_type": "stream",
     "text": [
      "1 Rohan Gaikwad \n",
      "2 Kiran Shinde \n",
      "3 Shubham Sawant \n"
     ]
    }
   ],
   "source": [
    "li.sort(key = lambda x:x.id , reverse = False)\n",
    "\n",
    "for i in li:\n",
    "    print(i.id, i.name, i.sirname, end=\" \\n\")"
   ]
  },
  {
   "cell_type": "code",
   "execution_count": 49,
   "id": "85bb9a2b",
   "metadata": {},
   "outputs": [
    {
     "name": "stdout",
     "output_type": "stream",
     "text": [
      "2 Kiran Shinde \n",
      "1 Rohan Gaikwad \n",
      "3 Shubham Sawant \n"
     ]
    }
   ],
   "source": [
    "li.sort(key = lambda x:x.name , reverse = False)\n",
    "\n",
    "for i in li:\n",
    "    print(i.id, i.name, i.sirname, end=\" \\n\")"
   ]
  },
  {
   "cell_type": "code",
   "execution_count": 50,
   "id": "02eb5c64",
   "metadata": {},
   "outputs": [
    {
     "name": "stdout",
     "output_type": "stream",
     "text": [
      "1 Rohan Gaikwad \n",
      "3 Shubham Sawant \n",
      "2 Kiran Shinde \n"
     ]
    }
   ],
   "source": [
    "li.sort(key = lambda x:x.sirname, reverse = False)\n",
    "\n",
    "for i in li:\n",
    "    print(i.id, i.name, i.sirname, end=\" \\n\")"
   ]
  },
  {
   "cell_type": "markdown",
   "id": "4bf1fcad",
   "metadata": {},
   "source": [
    "## List Comprehension"
   ]
  },
  {
   "cell_type": "code",
   "execution_count": 51,
   "id": "0abce9ca",
   "metadata": {},
   "outputs": [
    {
     "data": {
      "text/plain": [
       "[8, 64, 216, 512, 1000, 1728, 2744]"
      ]
     },
     "execution_count": 51,
     "metadata": {},
     "output_type": "execute_result"
    }
   ],
   "source": [
    "# Transformation of items in list with loop\n",
    "\n",
    "li = [i**3 for i in range(1,15) if i%2==0]\n",
    "li"
   ]
  },
  {
   "cell_type": "code",
   "execution_count": 52,
   "id": "b0536dd4",
   "metadata": {},
   "outputs": [
    {
     "data": {
      "text/plain": [
       "[1, 2, 3, 4, 5, 6, 7]"
      ]
     },
     "execution_count": 52,
     "metadata": {},
     "output_type": "execute_result"
    }
   ],
   "source": [
    "# Takeout duplicate from list\n",
    "\n",
    "li = [3,4,5,6,4,1,1,1,3,5,6,7,2,3,4,5,6,2]\n",
    "\n",
    "li = list(set(li))\n",
    "li"
   ]
  },
  {
   "cell_type": "code",
   "execution_count": 53,
   "id": "fdc08b0c",
   "metadata": {},
   "outputs": [
    {
     "name": "stdout",
     "output_type": "stream",
     "text": [
      "Enter three input10 20 30\n",
      "10 20 30 \n"
     ]
    }
   ],
   "source": [
    "a,b,c = input(\"Enter three input\").split()\n",
    "\n",
    "print(a,b,c, end=\" \\n\")"
   ]
  },
  {
   "cell_type": "code",
   "execution_count": 54,
   "id": "622c539e",
   "metadata": {},
   "outputs": [
    {
     "name": "stdout",
     "output_type": "stream",
     "text": [
      "Some of the conditions satisfied\n"
     ]
    }
   ],
   "source": [
    "score = 80\n",
    "wickets = 5\n",
    "catch = 2\n",
    "\n",
    "list_conditions = [score>50, wickets<4, catch==2]\n",
    "\n",
    "if all(list_conditions):\n",
    "    print(\"All the conditions satisfied\")\n",
    "elif any(list_conditions):\n",
    "    print(\"Some of the conditions satisfied\")\n",
    "else:\n",
    "    print(\"No conditions satisfied\")\n",
    "\n",
    "    "
   ]
  },
  {
   "cell_type": "code",
   "execution_count": 55,
   "id": "1c9cf39d",
   "metadata": {},
   "outputs": [
    {
     "name": "stdout",
     "output_type": "stream",
     "text": [
      "56\n",
      "Even Number\n"
     ]
    }
   ],
   "source": [
    "print(\"Odd Number \" if int(input())%2!=0 else \"Even Number\")"
   ]
  },
  {
   "cell_type": "markdown",
   "id": "5e1e66b7",
   "metadata": {},
   "source": [
    "### Fibonacci Series"
   ]
  },
  {
   "cell_type": "code",
   "execution_count": 56,
   "id": "107728b9",
   "metadata": {},
   "outputs": [
    {
     "name": "stdout",
     "output_type": "stream",
     "text": [
      "13\n"
     ]
    }
   ],
   "source": [
    "fib = lambda n: n if n<=1 else fib(n-1) + fib(n-2)\n",
    "\n",
    "print(fib(7))"
   ]
  },
  {
   "cell_type": "code",
   "execution_count": 57,
   "id": "5dfa1818",
   "metadata": {},
   "outputs": [
    {
     "data": {
      "text/plain": [
       "[1,\n",
       " 1,\n",
       " 2,\n",
       " 3,\n",
       " 5,\n",
       " 8,\n",
       " 13,\n",
       " 21,\n",
       " 34,\n",
       " 55,\n",
       " 89,\n",
       " 144,\n",
       " 233,\n",
       " 377,\n",
       " 610,\n",
       " 987,\n",
       " 1597,\n",
       " 2584,\n",
       " 4181]"
      ]
     },
     "execution_count": 57,
     "metadata": {},
     "output_type": "execute_result"
    }
   ],
   "source": [
    "[fib(i) for i in range(1,20)]"
   ]
  },
  {
   "cell_type": "markdown",
   "id": "1713b098",
   "metadata": {},
   "source": [
    "### Palindromes"
   ]
  },
  {
   "cell_type": "code",
   "execution_count": 58,
   "id": "758ab82a",
   "metadata": {},
   "outputs": [
    {
     "data": {
      "text/plain": [
       "'2468'"
      ]
     },
     "execution_count": 58,
     "metadata": {},
     "output_type": "execute_result"
    }
   ],
   "source": [
    "num = \"123456789\"\n",
    "num = num[1::2]\n",
    "num"
   ]
  },
  {
   "cell_type": "code",
   "execution_count": 59,
   "id": "99834f97",
   "metadata": {},
   "outputs": [
    {
     "data": {
      "text/plain": [
       "True"
      ]
     },
     "execution_count": 59,
     "metadata": {},
     "output_type": "execute_result"
    }
   ],
   "source": [
    "string = \"aba\"\n",
    "string == string[::-1]"
   ]
  },
  {
   "cell_type": "code",
   "execution_count": 60,
   "id": "fb6108e6",
   "metadata": {},
   "outputs": [
    {
     "data": {
      "text/plain": [
       "True"
      ]
     },
     "execution_count": 60,
     "metadata": {},
     "output_type": "execute_result"
    }
   ],
   "source": [
    "number = 12344321\n",
    "number = str(number)\n",
    "number == number[::-1]"
   ]
  },
  {
   "cell_type": "code",
   "execution_count": 61,
   "id": "66459ddb",
   "metadata": {},
   "outputs": [
    {
     "data": {
      "text/plain": [
       "False"
      ]
     },
     "execution_count": 61,
     "metadata": {},
     "output_type": "execute_result"
    }
   ],
   "source": [
    "string = \"abac\"\n",
    "string == string[::-1]"
   ]
  },
  {
   "cell_type": "code",
   "execution_count": 62,
   "id": "38ef42f0",
   "metadata": {},
   "outputs": [
    {
     "data": {
      "text/plain": [
       "False"
      ]
     },
     "execution_count": 62,
     "metadata": {},
     "output_type": "execute_result"
    }
   ],
   "source": [
    "number = 12234344321\n",
    "number = str(number)\n",
    "number == number[::-1]"
   ]
  },
  {
   "cell_type": "code",
   "execution_count": null,
   "id": "45c6c174",
   "metadata": {},
   "outputs": [],
   "source": []
  },
  {
   "cell_type": "markdown",
   "id": "64f853fc",
   "metadata": {},
   "source": [
    "### Factorial Number"
   ]
  },
  {
   "cell_type": "code",
   "execution_count": 63,
   "id": "e0d2414c",
   "metadata": {},
   "outputs": [
    {
     "data": {
      "text/plain": [
       "24"
      ]
     },
     "execution_count": 63,
     "metadata": {},
     "output_type": "execute_result"
    }
   ],
   "source": [
    "fact = lambda n: [1,0] [n>1] or fact(n-1)*n\n",
    "\n",
    "fact(4)"
   ]
  },
  {
   "cell_type": "code",
   "execution_count": null,
   "id": "3cdfa5c1",
   "metadata": {},
   "outputs": [],
   "source": []
  },
  {
   "cell_type": "code",
   "execution_count": null,
   "id": "b2bed87b",
   "metadata": {},
   "outputs": [],
   "source": []
  },
  {
   "cell_type": "code",
   "execution_count": null,
   "id": "f0e3c0ca",
   "metadata": {},
   "outputs": [],
   "source": []
  },
  {
   "cell_type": "code",
   "execution_count": null,
   "id": "19a6c959",
   "metadata": {},
   "outputs": [],
   "source": []
  },
  {
   "cell_type": "code",
   "execution_count": 64,
   "id": "d80cf88a",
   "metadata": {},
   "outputs": [
    {
     "name": "stdout",
     "output_type": "stream",
     "text": [
      "4\n"
     ]
    }
   ],
   "source": [
    "test = [1, 2, 3, 4, 2, 2, 3, 1, 4, 4, 4,4,4]\n",
    "print(max(set(test)))"
   ]
  },
  {
   "cell_type": "code",
   "execution_count": 68,
   "id": "5402fdb1",
   "metadata": {},
   "outputs": [
    {
     "name": "stdout",
     "output_type": "stream",
     "text": [
      "1\n",
      "2\n",
      "3\n",
      "4\n"
     ]
    }
   ],
   "source": [
    "dic={\"a\":(1,2), \"b\":(3,4)}\n",
    "\n",
    "for i in dic.keys():\n",
    "    print(dic[i][0])"
   ]
  },
  {
   "cell_type": "code",
   "execution_count": 1,
   "id": "0ada95b2",
   "metadata": {},
   "outputs": [
    {
     "ename": "SyntaxError",
     "evalue": "invalid syntax (Temp/ipykernel_17844/1903290628.py, line 1)",
     "output_type": "error",
     "traceback": [
      "\u001b[1;36m  File \u001b[1;32m\"C:\\Users\\Shubham\\AppData\\Local\\Temp/ipykernel_17844/1903290628.py\"\u001b[1;36m, line \u001b[1;32m1\u001b[0m\n\u001b[1;33m    *(hi*/)\u001b[0m\n\u001b[1;37m         ^\u001b[0m\n\u001b[1;31mSyntaxError\u001b[0m\u001b[1;31m:\u001b[0m invalid syntax\n"
     ]
    }
   ],
   "source": [
    "/* hi*/"
   ]
  },
  {
   "cell_type": "code",
   "execution_count": 2,
   "id": "a22b5075",
   "metadata": {},
   "outputs": [
    {
     "ename": "IndexError",
     "evalue": "Replacement index 2 out of range for positional args tuple",
     "output_type": "error",
     "traceback": [
      "\u001b[1;31m---------------------------------------------------------------------------\u001b[0m",
      "\u001b[1;31mIndexError\u001b[0m                                Traceback (most recent call last)",
      "\u001b[1;32m~\\AppData\\Local\\Temp/ipykernel_17844/2378162175.py\u001b[0m in \u001b[0;36m<module>\u001b[1;34m\u001b[0m\n\u001b[1;32m----> 1\u001b[1;33m \u001b[0mprint\u001b[0m\u001b[1;33m(\u001b[0m\u001b[1;34m'{1}{2}'\u001b[0m\u001b[1;33m.\u001b[0m\u001b[0mformat\u001b[0m\u001b[1;33m(\u001b[0m\u001b[1;36m1\u001b[0m\u001b[1;33m,\u001b[0m\u001b[1;36m2\u001b[0m\u001b[1;33m)\u001b[0m\u001b[1;33m)\u001b[0m\u001b[1;33m\u001b[0m\u001b[1;33m\u001b[0m\u001b[0m\n\u001b[0m",
      "\u001b[1;31mIndexError\u001b[0m: Replacement index 2 out of range for positional args tuple"
     ]
    }
   ],
   "source": [
    "print('{1}{2}'.format(1,2))"
   ]
  },
  {
   "cell_type": "code",
   "execution_count": null,
   "id": "4506301e",
   "metadata": {},
   "outputs": [],
   "source": []
  }
 ],
 "metadata": {
  "kernelspec": {
   "display_name": "Python 3 (ipykernel)",
   "language": "python",
   "name": "python3"
  },
  "language_info": {
   "codemirror_mode": {
    "name": "ipython",
    "version": 3
   },
   "file_extension": ".py",
   "mimetype": "text/x-python",
   "name": "python",
   "nbconvert_exporter": "python",
   "pygments_lexer": "ipython3",
   "version": "3.10.0"
  }
 },
 "nbformat": 4,
 "nbformat_minor": 5
}
