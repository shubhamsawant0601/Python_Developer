{
 "cells": [
  {
   "cell_type": "markdown",
   "id": "37f2894b",
   "metadata": {},
   "source": [
    "## Implement Atoi \n",
    "\n",
    "Your task  is to implement the function atoi. The function takes a string(str) as argument and converts it to an integer and returns it.\n",
    "\n",
    "Note: You are not allowed to use inbuilt function.\n",
    "\n",
    "Example 1:\n",
    "\n",
    "Input:\n",
    "str = 123\n",
    "Output: 123\n",
    "Example 2:\n",
    "\n",
    "Input:\n",
    "str = 21a\n",
    "Output: -1\n",
    "Explanation: Output is -1 as all\n",
    "characters are not digit only."
   ]
  },
  {
   "cell_type": "code",
   "execution_count": 3,
   "id": "9f743b84",
   "metadata": {},
   "outputs": [
    {
     "name": "stdout",
     "output_type": "stream",
     "text": [
      "154632\n"
     ]
    }
   ],
   "source": [
    "def atoi(string):\n",
    "    num = 0\n",
    "    flag = False\n",
    "        \n",
    "    for i in string:\n",
    "        if i == '-':\n",
    "            flag = True\n",
    "            continue\n",
    "            \n",
    "        if ord(i) not in range(48,58,1):\n",
    "            return -1\n",
    "                \n",
    "        num = num*10 + ord(i)-ord('0')\n",
    "            \n",
    "            \n",
    "    return num if flag==False else -num\n",
    "\n",
    "\n",
    "\n",
    "string = \"154632\"\n",
    "print(atoi(string))"
   ]
  },
  {
   "cell_type": "code",
   "execution_count": 14,
   "id": "2515c23c",
   "metadata": {},
   "outputs": [],
   "source": [
    "\n",
    "def minimumNumber(n, password):\n",
    "    # Return the minimum number of characters to make the password strong\n",
    "    num = [i for i in \"0123456789\"]\n",
    "    low = [i for i in \"abcdefghijklmnopqrstuvwxyz\"]\n",
    "    upp = [i for i in \"ABCDEFGHIJKLMNOPQRSTUVWXYZ\"]\n",
    "    spe = [i for i in \"!@#$%^&*()-+\"]\n",
    "    print(num)\n",
    "    \n",
    "    num_count = 0\n",
    "    low_count = 0\n",
    "    upp_count = 0\n",
    "    spe_count = 0\n",
    "    \n",
    "    for i in password:\n",
    "        if i in num:\n",
    "            num_count+=1\n",
    "        elif i in low:\n",
    "            low_count+=1\n",
    "        elif i in upp:\n",
    "            upp_count+=1\n",
    "        elif i in spe:\n",
    "            spe_count+=1\n",
    "    \n",
    "    print(num_count, low_count, upp_count, spe_count)\n",
    "    \n",
    "    req_count = 0\n",
    "    if num_count==0:\n",
    "        req_count+=1\n",
    "    if low_count==0:\n",
    "        req_count+=1\n",
    "    if upp_count==0:\n",
    "        req_count+=1\n",
    "    if spe_count==0:\n",
    "        req_count+=1\n",
    "    \n",
    "    minimum_char = max(req_count, (6-len(password)))\n",
    "    \n",
    "    return minimum_char\n",
    "    "
   ]
  },
  {
   "cell_type": "code",
   "execution_count": 15,
   "id": "32bde5fb",
   "metadata": {},
   "outputs": [
    {
     "name": "stdout",
     "output_type": "stream",
     "text": [
      "['0', '1', '2', '3', '4', '5', '6', '7', '8', '9']\n",
      "1 2 1 1\n"
     ]
    },
    {
     "data": {
      "text/plain": [
       "1"
      ]
     },
     "execution_count": 15,
     "metadata": {},
     "output_type": "execute_result"
    }
   ],
   "source": [
    "minimumNumber(5,\"A2#sd\")"
   ]
  },
  {
   "cell_type": "code",
   "execution_count": 28,
   "id": "ec53a3f6",
   "metadata": {},
   "outputs": [],
   "source": [
    "from collections import Counter\n",
    "def alternate(s):\n",
    "    # Write your code here\n",
    "    dic = dict(Counter(s))\n",
    "    sorted_dic = dict(sorted(dic.items(), key=lambda x:x[1], reverse=True))\n",
    "    count = 0\n",
    "    flag = 0\n",
    "    for k,v in dic.items():\n",
    "        count += v\n",
    "        flag += 1\n",
    "        if (flag>=2):\n",
    "            break\n",
    "    print(flag)\n",
    "    print(sorted_dic)\n",
    "    print(len(s))\n",
    "    print(count)\n",
    "    return len(s)-count\n",
    "    \n",
    "    "
   ]
  },
  {
   "cell_type": "code",
   "execution_count": 29,
   "id": "ab38653a",
   "metadata": {},
   "outputs": [
    {
     "name": "stdout",
     "output_type": "stream",
     "text": [
      "2\n",
      "{'a': 2, 'b': 2, 'c': 2, 'd': 1}\n",
      "7\n",
      "4\n"
     ]
    },
    {
     "data": {
      "text/plain": [
       "3"
      ]
     },
     "execution_count": 29,
     "metadata": {},
     "output_type": "execute_result"
    }
   ],
   "source": [
    "alternate(\"aabbccd\")"
   ]
  },
  {
   "cell_type": "code",
   "execution_count": null,
   "id": "cbd0b597",
   "metadata": {},
   "outputs": [],
   "source": []
  }
 ],
 "metadata": {
  "kernelspec": {
   "display_name": "Python 3 (ipykernel)",
   "language": "python",
   "name": "python3"
  },
  "language_info": {
   "codemirror_mode": {
    "name": "ipython",
    "version": 3
   },
   "file_extension": ".py",
   "mimetype": "text/x-python",
   "name": "python",
   "nbconvert_exporter": "python",
   "pygments_lexer": "ipython3",
   "version": "3.9.6"
  }
 },
 "nbformat": 4,
 "nbformat_minor": 5
}
