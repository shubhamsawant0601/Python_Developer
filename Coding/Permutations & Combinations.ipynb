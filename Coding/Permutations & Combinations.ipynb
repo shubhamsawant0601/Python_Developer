{
 "cells": [
  {
   "cell_type": "markdown",
   "id": "ef11f53d",
   "metadata": {},
   "source": [
    "## 1. Permutations"
   ]
  },
  {
   "cell_type": "code",
   "execution_count": 22,
   "id": "17e56252",
   "metadata": {},
   "outputs": [],
   "source": [
    "def permute(arr):\n",
    "    if len(arr)==0:\n",
    "        return []\n",
    "    if len(arr)==1:\n",
    "        return [arr]\n",
    "    \n",
    "    li = []\n",
    "    \n",
    "    for i in range(len(arr)):\n",
    "        m = arr[i]\n",
    "        res = arr[:i] + arr[i+1:]\n",
    "        \n",
    "        for p in permute(res):\n",
    "            li.append([m]+p)\n",
    "            \n",
    "    return li"
   ]
  },
  {
   "cell_type": "code",
   "execution_count": null,
   "id": "df388c58",
   "metadata": {},
   "outputs": [],
   "source": [
    "permute(\"1234 2345 3456\".split())"
   ]
  },
  {
   "cell_type": "code",
   "execution_count": null,
   "id": "0d9eaaed",
   "metadata": {},
   "outputs": [],
   "source": [
    "permute(list(\"1234\"))"
   ]
  },
  {
   "cell_type": "markdown",
   "id": "3529f0fe",
   "metadata": {},
   "source": [
    "### Permutations by Backtracking"
   ]
  },
  {
   "cell_type": "code",
   "execution_count": 35,
   "id": "d8a8f98d",
   "metadata": {},
   "outputs": [],
   "source": [
    "def permutation(nums):\n",
    "        L = []\n",
    "        def p(i):\n",
    "            if i == len(nums):\n",
    "                L.append(nums[:])\n",
    "\n",
    "            for j in range(i, len(nums)):\n",
    "                nums[i], nums[j] = nums[j], nums[i]\n",
    "                p(i + 1)\n",
    "                nums[i], nums[j] = nums[j], nums[i]\n",
    "        \n",
    "        p(0)\n",
    "                \n",
    "        return L"
   ]
  },
  {
   "cell_type": "code",
   "execution_count": 37,
   "id": "0fc856f1",
   "metadata": {},
   "outputs": [
    {
     "data": {
      "text/plain": [
       "[[1, 2, 3], [1, 3, 2], [2, 1, 3], [2, 3, 1], [3, 1, 2], [3, 2, 1]]"
      ]
     },
     "execution_count": 37,
     "metadata": {},
     "output_type": "execute_result"
    }
   ],
   "source": [
    "nums = [1,2,3,]\n",
    "permutation(nums)"
   ]
  },
  {
   "cell_type": "markdown",
   "id": "65c73c78",
   "metadata": {},
   "source": [
    "### Permutations Unique Elements by Backtracking"
   ]
  },
  {
   "cell_type": "code",
   "execution_count": 57,
   "id": "8c23c28d",
   "metadata": {},
   "outputs": [],
   "source": [
    "def permuteUnique(nums):\n",
    "        L = set()\n",
    "        def p(i):\n",
    "            if i == len(nums):\n",
    "                L.add(tuple(nums))\n",
    "\n",
    "            for j in range(i, len(nums)):\n",
    "                nums[i], nums[j] = nums[j], nums[i]\n",
    "                p(i + 1)\n",
    "                nums[i], nums[j] = nums[j], nums[i]\n",
    "        \n",
    "        p(0)\n",
    "        \n",
    "        \n",
    "        L = list(L)\n",
    "        for i in range(len(L)):\n",
    "            L[i] = list(L[i])\n",
    "                \n",
    "        return L"
   ]
  },
  {
   "cell_type": "code",
   "execution_count": 58,
   "id": "4a47c0ec",
   "metadata": {},
   "outputs": [
    {
     "data": {
      "text/plain": [
       "[[2, 1, 1, 2, 1, 2],\n",
       " [2, 1, 1, 2, 2, 1],\n",
       " [2, 1, 2, 2, 1, 1],\n",
       " [2, 1, 1, 1, 2, 2],\n",
       " [1, 1, 2, 2, 2, 1],\n",
       " [1, 1, 2, 2, 1, 2],\n",
       " [1, 2, 1, 1, 2, 2],\n",
       " [1, 1, 2, 1, 2, 2],\n",
       " [1, 2, 2, 1, 2, 1],\n",
       " [2, 2, 1, 1, 2, 1],\n",
       " [2, 2, 1, 2, 1, 1],\n",
       " [1, 1, 1, 2, 2, 2],\n",
       " [2, 2, 2, 1, 1, 1],\n",
       " [1, 2, 2, 1, 1, 2],\n",
       " [1, 2, 1, 2, 2, 1],\n",
       " [2, 2, 1, 1, 1, 2],\n",
       " [2, 1, 2, 1, 2, 1],\n",
       " [1, 2, 2, 2, 1, 1],\n",
       " [1, 2, 1, 2, 1, 2],\n",
       " [2, 1, 2, 1, 1, 2]]"
      ]
     },
     "execution_count": 58,
     "metadata": {},
     "output_type": "execute_result"
    }
   ],
   "source": [
    "a = [1,1,1,2,2,2]\n",
    "permuteUnique(a)"
   ]
  },
  {
   "cell_type": "markdown",
   "id": "6d03cbbf",
   "metadata": {},
   "source": [
    "## 2. Combinations"
   ]
  },
  {
   "cell_type": "code",
   "execution_count": 30,
   "id": "ca6eaeae",
   "metadata": {},
   "outputs": [],
   "source": [
    "def combs(a):\n",
    "    if len(a) == 0:\n",
    "        return [[]]\n",
    "    cs = []\n",
    "    for c in combs(a[1:]):\n",
    "        cs += [c, c+[a[0]]]\n",
    "    return cs"
   ]
  },
  {
   "cell_type": "code",
   "execution_count": 34,
   "id": "5242d23e",
   "metadata": {},
   "outputs": [
    {
     "data": {
      "text/plain": [
       "[[],\n",
       " ['a'],\n",
       " ['b'],\n",
       " ['b', 'a'],\n",
       " ['c'],\n",
       " ['c', 'a'],\n",
       " ['c', 'b'],\n",
       " ['c', 'b', 'a'],\n",
       " ['d'],\n",
       " ['d', 'a'],\n",
       " ['d', 'b'],\n",
       " ['d', 'b', 'a'],\n",
       " ['d', 'c'],\n",
       " ['d', 'c', 'a'],\n",
       " ['d', 'c', 'b'],\n",
       " ['d', 'c', 'b', 'a']]"
      ]
     },
     "execution_count": 34,
     "metadata": {},
     "output_type": "execute_result"
    }
   ],
   "source": [
    "a = [i for i in combs(['a', 'b', 'c', 'd'])]\n",
    "a"
   ]
  },
  {
   "cell_type": "code",
   "execution_count": null,
   "id": "f9591839",
   "metadata": {},
   "outputs": [],
   "source": []
  }
 ],
 "metadata": {
  "kernelspec": {
   "display_name": "Python 3 (ipykernel)",
   "language": "python",
   "name": "python3"
  },
  "language_info": {
   "codemirror_mode": {
    "name": "ipython",
    "version": 3
   },
   "file_extension": ".py",
   "mimetype": "text/x-python",
   "name": "python",
   "nbconvert_exporter": "python",
   "pygments_lexer": "ipython3",
   "version": "3.9.6"
  }
 },
 "nbformat": 4,
 "nbformat_minor": 5
}
