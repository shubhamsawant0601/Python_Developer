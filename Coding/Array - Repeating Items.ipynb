{
 "cells": [
  {
   "cell_type": "markdown",
   "id": "63945a8d",
   "metadata": {},
   "source": [
    "## First Repeating Element\n",
    "Given an array arr[] of size n, find the first repeating element. The element should occurs more than once and the index of its first occurrence should be the smallest.\n",
    "\n",
    "Example 1:\n",
    "\n",
    "Input:\n",
    "n = 7\n",
    "arr[] = {1, 5, 3, 4, 3, 5, 6}\n",
    "Output: 2\n",
    "Explanation: \n",
    "5 is appearing twice and \n",
    "its first appearence is at index 2 \n",
    "which is less than 3 whose first \n",
    "occuring index is 3.\n",
    "\n",
    "Example 2:\n",
    "\n",
    "Input:\n",
    "n = 4\n",
    "arr[] = {1, 2, 3, 4}\n",
    "Output: -1\n",
    "Explanation: \n",
    "All elements appear only once so \n",
    "answer is -1."
   ]
  },
  {
   "cell_type": "code",
   "execution_count": 1,
   "id": "961af688",
   "metadata": {},
   "outputs": [
    {
     "name": "stdout",
     "output_type": "stream",
     "text": [
      "0\n"
     ]
    }
   ],
   "source": [
    "def firstRepeated(arr):\n",
    "    for i in range(len(arr)):\n",
    "        if arr.count(arr[i])>1:\n",
    "            return i\n",
    "\n",
    "arr = [2,3,5,7,3,4,3,6,8,9,64,2]\n",
    "print(firstRepeated(arr))"
   ]
  },
  {
   "cell_type": "markdown",
   "id": "f93f1413",
   "metadata": {},
   "source": [
    "## Non-Repeating Element \n",
    "\n",
    "Find the first non-repeating element in a given array arr of N integers.\n",
    "Note: Array consists of only positive and negative integers and not zero.\n",
    "\n",
    "Example 1:\n",
    "\n",
    "Input : arr[] = {-1, 2, -1, 3, 2}\n",
    "Output : 3\n",
    "Explanation:\n",
    "-1 and 2 are repeating whereas 3 is \n",
    "the only number occuring once.\n",
    "Hence, the output is 3. \n",
    " \n",
    "\n",
    "Example 2:\n",
    "\n",
    "Input : arr[] = {1, 1, 1}\n",
    "Output : 0"
   ]
  },
  {
   "cell_type": "code",
   "execution_count": 2,
   "id": "ff84157d",
   "metadata": {},
   "outputs": [
    {
     "name": "stdout",
     "output_type": "stream",
     "text": [
      "5\n"
     ]
    }
   ],
   "source": [
    "arr = [2,3,5,7,3,4,3,6,8,9,64,2]\n",
    "for i in arr:\n",
    "    if arr.count(i)==1:\n",
    "        print(i)\n",
    "        break"
   ]
  },
  {
   "cell_type": "code",
   "execution_count": 3,
   "id": "54ad1e8b",
   "metadata": {},
   "outputs": [
    {
     "data": {
      "text/plain": [
       "[66,\n",
       " 66,\n",
       " 66,\n",
       " 66,\n",
       " 66,\n",
       " 66,\n",
       " 66,\n",
       " 66,\n",
       " 66,\n",
       " 66,\n",
       " 66,\n",
       " 66,\n",
       " 66,\n",
       " 66,\n",
       " 66,\n",
       " 66,\n",
       " 66,\n",
       " 66,\n",
       " 66,\n",
       " 66,\n",
       " 66,\n",
       " 66,\n",
       " 66,\n",
       " 66,\n",
       " 66,\n",
       " 66,\n",
       " 66,\n",
       " 66,\n",
       " 66,\n",
       " 66,\n",
       " 66,\n",
       " 66,\n",
       " 66,\n",
       " 66,\n",
       " 66,\n",
       " 66,\n",
       " 66,\n",
       " 66,\n",
       " 66,\n",
       " 66,\n",
       " 66,\n",
       " 66,\n",
       " 66,\n",
       " 66,\n",
       " 66,\n",
       " 66,\n",
       " 66,\n",
       " 66,\n",
       " 66,\n",
       " 66,\n",
       " 66,\n",
       " 66,\n",
       " 66,\n",
       " 66,\n",
       " 66,\n",
       " 66,\n",
       " 66,\n",
       " 66,\n",
       " 66,\n",
       " 66,\n",
       " 66,\n",
       " 66,\n",
       " 66,\n",
       " 66,\n",
       " 66,\n",
       " 66,\n",
       " 66,\n",
       " 66,\n",
       " 66,\n",
       " 66,\n",
       " 66,\n",
       " 66,\n",
       " 66,\n",
       " 66,\n",
       " 66,\n",
       " 66,\n",
       " 66,\n",
       " 66,\n",
       " 66,\n",
       " 66,\n",
       " 66,\n",
       " 66,\n",
       " 66,\n",
       " 66,\n",
       " 66,\n",
       " 66,\n",
       " 66,\n",
       " 66,\n",
       " 66,\n",
       " 66,\n",
       " 66,\n",
       " 66,\n",
       " 66,\n",
       " 66,\n",
       " 66,\n",
       " 66,\n",
       " 66,\n",
       " 66,\n",
       " 66,\n",
       " 66]"
      ]
     },
     "execution_count": 3,
     "metadata": {},
     "output_type": "execute_result"
    }
   ],
   "source": [
    "a = \"66 66 66 66 66 66 66 66 66 66 66 66 66 66 66 66 66 66 66 66 66 66 66 66 66 66 66 66 66 66 66 66 66 66 66 66 66 66 66 66 66 66 66 66 66 66 66 66 66 66 66 66 66 66 66 66 66 66 66 66 66 66 66 66 66 66 66 66 66 66 66 66 66 66 66 66 66 66 66 66 66 66 66 66 66 66 66 66 66 66 66 66 66 66 66 66 66 66 66 66\".split()\n",
    "a = [int(i) for i in a]\n",
    "a"
   ]
  },
  {
   "cell_type": "code",
   "execution_count": 4,
   "id": "dd0302d6",
   "metadata": {},
   "outputs": [],
   "source": [
    "from collections import Counter\n",
    "def pickingNumbers(a):\n",
    "    li = []\n",
    "    max = 0\n",
    "    dic = dict(Counter(a))\n",
    "    dic = dict(sorted(dic.items(), key=lambda x:x[0]))\n",
    "    keys = list(dic.keys())\n",
    "    for i in range(len(keys)-1):\n",
    "        if keys[i+1]-keys[i]==1:\n",
    "            count = dic[keys[i+1]]+dic[keys[i]]\n",
    "            if count>max:\n",
    "                max = count\n",
    "    print(dic)\n",
    "    return max\n",
    "                "
   ]
  },
  {
   "cell_type": "code",
   "execution_count": 5,
   "id": "dde745c0",
   "metadata": {},
   "outputs": [
    {
     "name": "stdout",
     "output_type": "stream",
     "text": [
      "{66: 100}\n"
     ]
    },
    {
     "data": {
      "text/plain": [
       "0"
      ]
     },
     "execution_count": 5,
     "metadata": {},
     "output_type": "execute_result"
    }
   ],
   "source": [
    "pickingNumbers(a)"
   ]
  },
  {
   "cell_type": "code",
   "execution_count": 6,
   "id": "bd1c9fe1",
   "metadata": {},
   "outputs": [
    {
     "data": {
      "text/plain": [
       "[4,\n",
       " 97,\n",
       " 5,\n",
       " 97,\n",
       " 97,\n",
       " 4,\n",
       " 97,\n",
       " 4,\n",
       " 97,\n",
       " 97,\n",
       " 97,\n",
       " 97,\n",
       " 4,\n",
       " 4,\n",
       " 5,\n",
       " 5,\n",
       " 97,\n",
       " 5,\n",
       " 97,\n",
       " 99,\n",
       " 4,\n",
       " 97,\n",
       " 5,\n",
       " 97,\n",
       " 97,\n",
       " 97,\n",
       " 5,\n",
       " 5,\n",
       " 97,\n",
       " 4,\n",
       " 5,\n",
       " 97,\n",
       " 97,\n",
       " 5,\n",
       " 97,\n",
       " 4,\n",
       " 97,\n",
       " 5,\n",
       " 4,\n",
       " 4,\n",
       " 97,\n",
       " 5,\n",
       " 5,\n",
       " 5,\n",
       " 4,\n",
       " 97,\n",
       " 97,\n",
       " 4,\n",
       " 97,\n",
       " 5,\n",
       " 4,\n",
       " 4,\n",
       " 97,\n",
       " 97,\n",
       " 97,\n",
       " 5,\n",
       " 5,\n",
       " 97,\n",
       " 4,\n",
       " 97,\n",
       " 97,\n",
       " 5,\n",
       " 4,\n",
       " 97,\n",
       " 97,\n",
       " 4,\n",
       " 97,\n",
       " 97,\n",
       " 97,\n",
       " 5,\n",
       " 4,\n",
       " 4,\n",
       " 97,\n",
       " 4,\n",
       " 4,\n",
       " 97,\n",
       " 5,\n",
       " 97,\n",
       " 97,\n",
       " 97,\n",
       " 97,\n",
       " 4,\n",
       " 97,\n",
       " 5,\n",
       " 97,\n",
       " 5,\n",
       " 4,\n",
       " 97,\n",
       " 4,\n",
       " 5,\n",
       " 97,\n",
       " 97,\n",
       " 5,\n",
       " 97,\n",
       " 5,\n",
       " 97,\n",
       " 5,\n",
       " 97,\n",
       " 97,\n",
       " 97]"
      ]
     },
     "execution_count": 6,
     "metadata": {},
     "output_type": "execute_result"
    }
   ],
   "source": [
    "a = \"4 97 5 97 97 4 97 4 97 97 97 97 4 4 5 5 97 5 97 99 4 97 5 97 97 97 5 5 97 4 5 97 97 5 97 4 97 5 4 4 97 5 5 5 4 97 97 4 97 5 4 4 97 97 97 5 5 97 4 97 97 5 4 97 97 4 97 97 97 5 4 4 97 4 4 97 5 97 97 97 97 4 97 5 97 5 4 97 4 5 97 97 5 97 5 97 5 97 97 97\".split()\n",
    "a = [int(i) for i in a]\n",
    "a"
   ]
  },
  {
   "cell_type": "code",
   "execution_count": 7,
   "id": "74c3e907",
   "metadata": {},
   "outputs": [
    {
     "data": {
      "text/plain": [
       "True"
      ]
     },
     "execution_count": 7,
     "metadata": {},
     "output_type": "execute_result"
    }
   ],
   "source": [
    "a = [1,2]\n",
    "b = [1,2]\n",
    "\n",
    "a==b"
   ]
  },
  {
   "cell_type": "code",
   "execution_count": 8,
   "id": "4bf56f4e",
   "metadata": {},
   "outputs": [
    {
     "ename": "IndentationError",
     "evalue": "expected an indented block (Temp/ipykernel_12152/1194841383.py, line 2)",
     "output_type": "error",
     "traceback": [
      "\u001b[1;36m  File \u001b[1;32m\"C:\\Users\\Shubham\\AppData\\Local\\Temp/ipykernel_12152/1194841383.py\"\u001b[1;36m, line \u001b[1;32m2\u001b[0m\n\u001b[1;33m    sortedarr = sorted(arr)\u001b[0m\n\u001b[1;37m    ^\u001b[0m\n\u001b[1;31mIndentationError\u001b[0m\u001b[1;31m:\u001b[0m expected an indented block\n"
     ]
    }
   ],
   "source": [
    "def almostSorted(arr):\n",
    "sortedarr = sorted(arr)\n",
    "a = []\n",
    "subarr = []\n",
    "ctr = 0\n",
    "for i in range(n):\n",
    "if arr[i] != sortedarr[i] :\n",
    "ctr += 1\n",
    "a.append(i+1)\n",
    "if ctr == 2:\n",
    "print(\"yes\")\n",
    "print(\"swap\", a[0],a[1],sep = \" \")\n",
    "else:       \n",
    "for i in range(n):\n",
    "if arr[i] == sortedarr[i] :\n",
    "None\n",
    "else:\n",
    "subarr.append(arr[i])\n",
    "if subarr == sorted(subarr,reverse = True):\n",
    "print(\"yes\")\n",
    "print(\"reverse\", arr.index(subarr[0])+1,arr.index(subarr[-1])+1,sep=\" \")\n",
    "else:\n",
    "print(\"no\")"
   ]
  },
  {
   "cell_type": "code",
   "execution_count": null,
   "id": "67e7a8a2",
   "metadata": {},
   "outputs": [],
   "source": [
    "DecimalToBinary(num):\n",
    "        if num >= 1:\n",
    "            DecimalToBinary(num // 2)\n",
    "            \n",
    "            print num % 2"
   ]
  },
  {
   "cell_type": "code",
   "execution_count": null,
   "id": "fefe355e",
   "metadata": {},
   "outputs": [],
   "source": []
  },
  {
   "cell_type": "code",
   "execution_count": null,
   "id": "b13cf534",
   "metadata": {},
   "outputs": [],
   "source": []
  },
  {
   "cell_type": "code",
   "execution_count": null,
   "id": "eb37874b",
   "metadata": {},
   "outputs": [],
   "source": [
    "a"
   ]
  },
  {
   "cell_type": "code",
   "execution_count": null,
   "id": "a275501d",
   "metadata": {},
   "outputs": [],
   "source": []
  },
  {
   "cell_type": "code",
   "execution_count": null,
   "id": "447b1688",
   "metadata": {},
   "outputs": [],
   "source": []
  },
  {
   "cell_type": "code",
   "execution_count": 17,
   "id": "1766bdb0",
   "metadata": {},
   "outputs": [],
   "source": [
    "def bitwise(cls, input1):\n",
    "    a = bin(input1).replace(\"0b\", \"\")\n",
    "\n",
    "    arr = [int(i) for i in a]\n",
    "    arr\n",
    "\n",
    "    s = sum(arr)\n",
    "\n",
    "    s1 = 0\n",
    "    for i in range(len(arr)):\n",
    "        if arr[i]==1:\n",
    "            s1 = len(arr)-1-i\n",
    "        \n",
    "    s2 = 0\n",
    "    arr = arr[::-1]\n",
    "    for i in range(len(arr)):\n",
    "        if arr[i]==1:\n",
    "                s2 = i\n",
    "\n",
    "    return (\"{}#{}#{}\".format(s,s1,s2))\n"
   ]
  },
  {
   "cell_type": "code",
   "execution_count": 21,
   "id": "3b920b2a",
   "metadata": {},
   "outputs": [
    {
     "data": {
      "text/plain": [
       "'2#1#3'"
      ]
     },
     "execution_count": 21,
     "metadata": {},
     "output_type": "execute_result"
    }
   ],
   "source": [
    "bitwise(\"\",10)"
   ]
  },
  {
   "cell_type": "code",
   "execution_count": 19,
   "id": "303b20c2",
   "metadata": {},
   "outputs": [
    {
     "data": {
      "text/plain": [
       "'1#0#0'"
      ]
     },
     "execution_count": 19,
     "metadata": {},
     "output_type": "execute_result"
    }
   ],
   "source": [
    "bitwise(\"\",1)"
   ]
  },
  {
   "cell_type": "code",
   "execution_count": 20,
   "id": "0a0d7970",
   "metadata": {},
   "outputs": [
    {
     "data": {
      "text/plain": [
       "'1010'"
      ]
     },
     "execution_count": 20,
     "metadata": {},
     "output_type": "execute_result"
    }
   ],
   "source": [
    "bin(10).replace(\"0b\", \"\")"
   ]
  },
  {
   "cell_type": "code",
   "execution_count": 15,
   "id": "7133a17b",
   "metadata": {},
   "outputs": [
    {
     "data": {
      "text/plain": [
       "'1'"
      ]
     },
     "execution_count": 15,
     "metadata": {},
     "output_type": "execute_result"
    }
   ],
   "source": [
    "bin(1).replace(\"0b\", \"\")"
   ]
  },
  {
   "cell_type": "code",
   "execution_count": 34,
   "id": "db0c1a7e",
   "metadata": {},
   "outputs": [],
   "source": [
    "def extraLongFactorials(n):\n",
    "    factorial = 1\n",
    "    for i in range(n,1,-1):\n",
    "        factorial = factorial*i\n",
    "        \n",
    "    return factorial"
   ]
  },
  {
   "cell_type": "code",
   "execution_count": 36,
   "id": "7dd54fc2",
   "metadata": {},
   "outputs": [
    {
     "data": {
      "text/plain": [
       "15511210043330985984000000"
      ]
     },
     "execution_count": 36,
     "metadata": {},
     "output_type": "execute_result"
    }
   ],
   "source": [
    "extraLongFactorials(25)"
   ]
  },
  {
   "cell_type": "code",
   "execution_count": 43,
   "id": "24303b59",
   "metadata": {},
   "outputs": [],
   "source": [
    "def appendAndDelete(s, t, k):\n",
    "    s = [i for i in s]\n",
    "    t = [i for i in t]\n",
    "    mini = len(t) if len(s)>len(t) else len(s)\n",
    "    index = 0\n",
    "    \n",
    "\n",
    "    for i in range(mini):\n",
    "        if s[i]!=t[i]:\n",
    "            index = i\n",
    "            \n",
    "            break\n",
    "            \n",
    "    s1 = s[i+1:]\n",
    "    s2 = t[i+1:]\n",
    "    \n",
    "    print(s1, s2)\n",
    "    \n",
    "    if (len(s1)+len(s2))<=k  :\n",
    "        return \"Yes\"\n",
    "    else:\n",
    "        return \"No\"\n",
    "        "
   ]
  },
  {
   "cell_type": "code",
   "execution_count": 44,
   "id": "ea3fff48",
   "metadata": {},
   "outputs": [
    {
     "name": "stdout",
     "output_type": "stream",
     "text": [
      "[] ['e', 'r', 't']\n"
     ]
    },
    {
     "data": {
      "text/plain": [
       "'Yes'"
      ]
     },
     "execution_count": 44,
     "metadata": {},
     "output_type": "execute_result"
    }
   ],
   "source": [
    "s=\"abcd\"\n",
    "t=\"abcdert\"\n",
    "k=10\n",
    "\n",
    "appendAndDelete(s, t, k)"
   ]
  },
  {
   "cell_type": "code",
   "execution_count": null,
   "id": "2226bacd",
   "metadata": {},
   "outputs": [],
   "source": []
  }
 ],
 "metadata": {
  "kernelspec": {
   "display_name": "Python 3 (ipykernel)",
   "language": "python",
   "name": "python3"
  },
  "language_info": {
   "codemirror_mode": {
    "name": "ipython",
    "version": 3
   },
   "file_extension": ".py",
   "mimetype": "text/x-python",
   "name": "python",
   "nbconvert_exporter": "python",
   "pygments_lexer": "ipython3",
   "version": "3.9.6"
  }
 },
 "nbformat": 4,
 "nbformat_minor": 5
}
