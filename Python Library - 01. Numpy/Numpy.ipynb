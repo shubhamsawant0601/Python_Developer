{
 "cells": [
  {
   "cell_type": "markdown",
   "id": "8a202d5e",
   "metadata": {},
   "source": [
    "## Statistics"
   ]
  },
  {
   "cell_type": "code",
   "execution_count": 17,
   "id": "515a22cb",
   "metadata": {},
   "outputs": [],
   "source": [
    "%matplotlib inline\n",
    "import scipy as sp\n",
    "import numpy as np\n",
    "import matplotlib.pyplot as plt\n",
    "from scipy.stats import norm\n"
   ]
  },
  {
   "cell_type": "markdown",
   "id": "a73df20a",
   "metadata": {},
   "source": [
    "### Sample data"
   ]
  },
  {
   "cell_type": "code",
   "execution_count": 18,
   "id": "24fefd25",
   "metadata": {},
   "outputs": [
    {
     "name": "stderr",
     "output_type": "stream",
     "text": [
      "C:\\Users\\Shubham\\AppData\\Local\\Temp/ipykernel_20536/690767635.py:2: DeprecationWarning: scipy.randn is deprecated and will be removed in SciPy 2.0.0, use numpy.random.randn instead\n",
      "  random_data = sp.randn(num_point)\n"
     ]
    },
    {
     "data": {
      "text/plain": [
       "numpy.ndarray"
      ]
     },
     "execution_count": 18,
     "metadata": {},
     "output_type": "execute_result"
    }
   ],
   "source": [
    "num_point = 10000\n",
    "random_data = sp.randn(num_point)\n",
    "type(random_data)"
   ]
  },
  {
   "cell_type": "code",
   "execution_count": 19,
   "id": "dc8af2f0",
   "metadata": {},
   "outputs": [
    {
     "data": {
      "text/plain": [
       "0.0023868931867168756"
      ]
     },
     "execution_count": 19,
     "metadata": {},
     "output_type": "execute_result"
    }
   ],
   "source": [
    "random_data.mean()"
   ]
  },
  {
   "cell_type": "code",
   "execution_count": 20,
   "id": "9a80c2aa",
   "metadata": {},
   "outputs": [
    {
     "name": "stderr",
     "output_type": "stream",
     "text": [
      "C:\\Users\\Shubham\\AppData\\Local\\Temp/ipykernel_20536/3466388688.py:1: DeprecationWarning: scipy.median is deprecated and will be removed in SciPy 2.0.0, use numpy.median instead\n",
      "  sp.median(random_data)\n"
     ]
    },
    {
     "data": {
      "text/plain": [
       "0.018952877023887205"
      ]
     },
     "execution_count": 20,
     "metadata": {},
     "output_type": "execute_result"
    }
   ],
   "source": [
    "sp.median(random_data)"
   ]
  },
  {
   "cell_type": "code",
   "execution_count": 21,
   "id": "9d50fc30",
   "metadata": {},
   "outputs": [
    {
     "data": {
      "text/plain": [
       "array([-3.64927456,  4.74045864])"
      ]
     },
     "execution_count": 21,
     "metadata": {},
     "output_type": "execute_result"
    }
   ],
   "source": [
    "min_max = np.array([random_data.min(), random_data.max()])\n",
    "min_max"
   ]
  },
  {
   "cell_type": "code",
   "execution_count": 22,
   "id": "d76b47ae",
   "metadata": {},
   "outputs": [
    {
     "name": "stderr",
     "output_type": "stream",
     "text": [
      "C:\\Users\\Shubham\\AppData\\Local\\Temp/ipykernel_20536/2576976130.py:1: DeprecationWarning: scipy.std is deprecated and will be removed in SciPy 2.0.0, use numpy.std instead\n",
      "  spread_measures = np.array([sp.std(random_data), sp.var(random_data)])\n",
      "C:\\Users\\Shubham\\AppData\\Local\\Temp/ipykernel_20536/2576976130.py:1: DeprecationWarning: scipy.var is deprecated and will be removed in SciPy 2.0.0, use numpy.var instead\n",
      "  spread_measures = np.array([sp.std(random_data), sp.var(random_data)])\n"
     ]
    },
    {
     "data": {
      "text/plain": [
       "array([0.99396042, 0.98795733])"
      ]
     },
     "execution_count": 22,
     "metadata": {},
     "output_type": "execute_result"
    }
   ],
   "source": [
    "spread_measures = np.array([sp.std(random_data), sp.var(random_data)])\n",
    "spread_measures"
   ]
  },
  {
   "cell_type": "code",
   "execution_count": 23,
   "id": "a87f3530",
   "metadata": {},
   "outputs": [
    {
     "data": {
      "text/plain": [
       "DescribeResult(nobs=10000, minmax=(-3.649274562872775, 4.7404586355930975), mean=0.0023868931867168756, variance=0.9880561307998253, skewness=-0.0015049589547170813, kurtosis=0.045688129319427784)"
      ]
     },
     "execution_count": 23,
     "metadata": {},
     "output_type": "execute_result"
    }
   ],
   "source": [
    "sp.stats.describe(random_data)"
   ]
  },
  {
   "cell_type": "markdown",
   "id": "212ffe81",
   "metadata": {},
   "source": [
    "## Probability"
   ]
  },
  {
   "cell_type": "code",
   "execution_count": null,
   "id": "e5c2ffea",
   "metadata": {},
   "outputs": [],
   "source": [
    "iq_mean = 100\n",
    "iq_std_dev = 15\n"
   ]
  },
  {
   "cell_type": "code",
   "execution_count": null,
   "id": "ce53a61f",
   "metadata": {},
   "outputs": [],
   "source": []
  },
  {
   "cell_type": "code",
   "execution_count": null,
   "id": "6b4abc07",
   "metadata": {},
   "outputs": [],
   "source": []
  },
  {
   "cell_type": "code",
   "execution_count": null,
   "id": "bbcafdb7",
   "metadata": {},
   "outputs": [],
   "source": []
  },
  {
   "cell_type": "code",
   "execution_count": null,
   "id": "0471c142",
   "metadata": {},
   "outputs": [],
   "source": []
  },
  {
   "cell_type": "code",
   "execution_count": null,
   "id": "d90cd6b6",
   "metadata": {},
   "outputs": [],
   "source": []
  },
  {
   "cell_type": "markdown",
   "id": "127d888f",
   "metadata": {},
   "source": [
    "## Basic Operations with Scalars"
   ]
  },
  {
   "cell_type": "code",
   "execution_count": 2,
   "id": "26536f5c",
   "metadata": {},
   "outputs": [
    {
     "name": "stdout",
     "output_type": "stream",
     "text": [
      "[[10 11 12]\n",
      " [13 14 15]]\n",
      "\n",
      "[[ 0  3  6]\n",
      " [ 9 12 15]]\n",
      "\n",
      "[[0 1 0]\n",
      " [1 0 1]]\n"
     ]
    }
   ],
   "source": [
    "import numpy as np\n",
    "x = np.arange(6).reshape(2,3)\n",
    "print(x + 10, end='\\n\\n')\n",
    "print(x * 3, end='\\n\\n')\n",
    "print(x % 2)"
   ]
  },
  {
   "cell_type": "markdown",
   "id": "6153f6c4",
   "metadata": {},
   "source": [
    "## Basic Operations between Arrays"
   ]
  },
  {
   "cell_type": "code",
   "execution_count": 3,
   "id": "3059001e",
   "metadata": {},
   "outputs": [
    {
     "name": "stdout",
     "output_type": "stream",
     "text": [
      "[[ 3 -3]\n",
      " [ 3 -3]]\n",
      "\n",
      "[[ -4  -4]\n",
      " [-10 -10]]\n"
     ]
    }
   ],
   "source": [
    "x = np.array([[-1, 1], [-2, 2]])\n",
    "y = np.array([[4, -4], [5, -5]])\n",
    "print(x + y, end='\\n\\n')\n",
    "print(x * y)"
   ]
  },
  {
   "cell_type": "code",
   "execution_count": 4,
   "id": "d1164ac9",
   "metadata": {},
   "outputs": [
    {
     "name": "stdout",
     "output_type": "stream",
     "text": [
      "[[10 10]\n",
      " [20 20]]\n"
     ]
    }
   ],
   "source": [
    "x = np.array([[-1, 1], [-2, 2]])\n",
    "y = np.array([-10, 10])\n",
    "print(x * y)"
   ]
  },
  {
   "cell_type": "markdown",
   "id": "939dad80",
   "metadata": {},
   "source": [
    "## Broadcasting in NumPy\n",
    "- Element wise operations between arrays are possible only when they have the same shape or compatible for Broadcasting.\n",
    "\n",
    "- Steps followed to verify the feasibility of Broadcasting between arrays are:\n",
    "\n",
    "Initially, compare the dimensions of all arrays.\n",
    "\n",
    "1. If dimensions do not match, prepend 1's to shape of a smaller array so that it matches dimensions of a larger array.\n",
    "\n",
    "2. Start comparing array shapes from the last dimension and move backward.\n",
    "\n",
    "4. If the shape of both arrays are equal or either of it has a shape of 1, continue the comparison.\n",
    "\n",
    "5. Else at any dimension, if step 4 fails, broadcasting between arrays is not feasible.\n",
    "\n",
    "- Finally, the resulted broadcasting array shape would be maximum of two compared shapes in each dimension."
   ]
  },
  {
   "cell_type": "code",
   "execution_count": 5,
   "id": "7546d007",
   "metadata": {},
   "outputs": [
    {
     "name": "stdout",
     "output_type": "stream",
     "text": [
      "[[0 1]\n",
      " [4 9]]\n",
      "\n",
      "[[0.         0.84147098]\n",
      " [0.90929743 0.14112001]]\n"
     ]
    }
   ],
   "source": [
    "x = np.array([[0,1], [2,3]])\n",
    "print(np.square(x), end='\\n\\n')\n",
    "print(np.sin(x))"
   ]
  },
  {
   "cell_type": "code",
   "execution_count": 6,
   "id": "a3575435",
   "metadata": {},
   "outputs": [
    {
     "name": "stdout",
     "output_type": "stream",
     "text": [
      "6\n",
      "\n",
      "[2 4]\n",
      "\n",
      "[1 5]\n"
     ]
    }
   ],
   "source": [
    "x = np.array([[0,1], [2, 3]])\n",
    "print(x.sum(), end='\\n\\n')\n",
    "print(x.sum(axis=0), end='\\n\\n')\n",
    "print(x.sum(axis=1))"
   ]
  },
  {
   "cell_type": "markdown",
   "id": "df544480",
   "metadata": {},
   "source": [
    "## NumPy Array Methods\n",
    "- Many of the universal functions are available as methods of ndarray class.\n",
    "\n",
    "- By default sum method adds all array elements.\n",
    "\n",
    "- It is also possible to apply sum method on elements of a specific dimension, using axis argument."
   ]
  },
  {
   "cell_type": "code",
   "execution_count": 7,
   "id": "9dead6dd",
   "metadata": {},
   "outputs": [
    {
     "name": "stdout",
     "output_type": "stream",
     "text": [
      "6\n",
      "\n",
      "[2 4]\n",
      "\n",
      "[1 5]\n"
     ]
    }
   ],
   "source": [
    "x = np.array([[0,1], [2, 3]])\n",
    "\n",
    "print(x.sum(), end='\\n\\n')\n",
    "print(x.sum(axis=0), end='\\n\\n')\n",
    "print(x.sum(axis=1))"
   ]
  },
  {
   "cell_type": "markdown",
   "id": "24b96991",
   "metadata": {},
   "source": [
    "## Linear Algebra"
   ]
  },
  {
   "cell_type": "code",
   "execution_count": 8,
   "id": "1cc99afe",
   "metadata": {},
   "outputs": [
    {
     "data": {
      "text/plain": [
       "matrix([[1, 2, 3],\n",
       "        [4, 5, 6],\n",
       "        [7, 8, 9]])"
      ]
     },
     "execution_count": 8,
     "metadata": {},
     "output_type": "execute_result"
    }
   ],
   "source": [
    "# matrix\n",
    "matrix = np.matrix([[1,2,3], [4,5,6], [7,8,9]])\n",
    "matrix"
   ]
  },
  {
   "cell_type": "code",
   "execution_count": 9,
   "id": "e8d64faf",
   "metadata": {},
   "outputs": [
    {
     "data": {
      "text/plain": [
       "matrix([[1, 4, 7],\n",
       "        [2, 5, 8],\n",
       "        [3, 6, 9]])"
      ]
     },
     "execution_count": 9,
     "metadata": {},
     "output_type": "execute_result"
    }
   ],
   "source": [
    "# transpose\n",
    "matrix.T"
   ]
  },
  {
   "cell_type": "code",
   "execution_count": 10,
   "id": "d0facfc8",
   "metadata": {},
   "outputs": [
    {
     "data": {
      "text/plain": [
       "matrix([[ 3.15251974e+15, -6.30503948e+15,  3.15251974e+15],\n",
       "        [-6.30503948e+15,  1.26100790e+16, -6.30503948e+15],\n",
       "        [ 3.15251974e+15, -6.30503948e+15,  3.15251974e+15]])"
      ]
     },
     "execution_count": 10,
     "metadata": {},
     "output_type": "execute_result"
    }
   ],
   "source": [
    "# inverse\n",
    "matrix.I"
   ]
  },
  {
   "cell_type": "code",
   "execution_count": 11,
   "id": "46eed897",
   "metadata": {},
   "outputs": [
    {
     "data": {
      "text/plain": [
       "matrix([[ 0. ,  1. , -0.5],\n",
       "        [ 0. ,  2. , -1. ],\n",
       "        [ 0. ,  3. ,  2.5]])"
      ]
     },
     "execution_count": 11,
     "metadata": {},
     "output_type": "execute_result"
    }
   ],
   "source": [
    "# multiplication of inverse\n",
    "matrix*matrix.I"
   ]
  },
  {
   "cell_type": "code",
   "execution_count": 12,
   "id": "4df215ed",
   "metadata": {},
   "outputs": [
    {
     "data": {
      "text/plain": [
       "array([[1., 0., 0., 0., 0.],\n",
       "       [0., 1., 0., 0., 0.],\n",
       "       [0., 0., 1., 0., 0.],\n",
       "       [0., 0., 0., 1., 0.],\n",
       "       [0., 0., 0., 0., 1.]])"
      ]
     },
     "execution_count": 12,
     "metadata": {},
     "output_type": "execute_result"
    }
   ],
   "source": [
    "# unit matrix\n",
    "np.eye(5)"
   ]
  },
  {
   "cell_type": "code",
   "execution_count": 13,
   "id": "3cb9f577",
   "metadata": {},
   "outputs": [
    {
     "data": {
      "text/plain": [
       "matrix([[ 48.],\n",
       "        [-32.],\n",
       "        [ 16.]])"
      ]
     },
     "execution_count": 13,
     "metadata": {},
     "output_type": "execute_result"
    }
   ],
   "source": [
    "## Solving simultanous linear equations\n",
    "right_hand_side = np.matrix([[11], \n",
    "                             [22], \n",
    "                             [33]]\n",
    "                           )\n",
    "\n",
    "inverse = matrix.I\n",
    "solution = inverse*right_hand_side\n",
    "solution"
   ]
  },
  {
   "cell_type": "code",
   "execution_count": 14,
   "id": "580a4680",
   "metadata": {},
   "outputs": [
    {
     "data": {
      "text/plain": [
       "matrix([[ 21.],\n",
       "        [106.],\n",
       "        [191.]])"
      ]
     },
     "execution_count": 14,
     "metadata": {},
     "output_type": "execute_result"
    }
   ],
   "source": [
    "matrix*solution - right_hand_side"
   ]
  },
  {
   "cell_type": "code",
   "execution_count": 15,
   "id": "2a0c47c7",
   "metadata": {},
   "outputs": [
    {
     "data": {
      "text/plain": [
       "matrix([[-3.26666667],\n",
       "        [ 6.53333333],\n",
       "        [ 0.4       ]])"
      ]
     },
     "execution_count": 15,
     "metadata": {},
     "output_type": "execute_result"
    }
   ],
   "source": [
    "#more effiecient for large matrices\n",
    "from numpy.linalg import solve\n",
    "solve(matrix, right_hand_side)"
   ]
  },
  {
   "cell_type": "code",
   "execution_count": 16,
   "id": "da634439",
   "metadata": {},
   "outputs": [
    {
     "data": {
      "text/plain": [
       "(array([ 1.61168440e+01, -1.11684397e+00, -3.38433605e-16]),\n",
       " matrix([[-0.23197069, -0.78583024,  0.40824829],\n",
       "         [-0.52532209, -0.08675134, -0.81649658],\n",
       "         [-0.8186735 ,  0.61232756,  0.40824829]]))"
      ]
     },
     "execution_count": 16,
     "metadata": {},
     "output_type": "execute_result"
    }
   ],
   "source": [
    "#compute the eigen value and right egienvectors\n",
    "from numpy.linalg import eig\n",
    "eig(matrix)"
   ]
  },
  {
   "cell_type": "code",
   "execution_count": null,
   "id": "91d96dad",
   "metadata": {},
   "outputs": [],
   "source": []
  }
 ],
 "metadata": {
  "kernelspec": {
   "display_name": "Python 3 (ipykernel)",
   "language": "python",
   "name": "python3"
  },
  "language_info": {
   "codemirror_mode": {
    "name": "ipython",
    "version": 3
   },
   "file_extension": ".py",
   "mimetype": "text/x-python",
   "name": "python",
   "nbconvert_exporter": "python",
   "pygments_lexer": "ipython3",
   "version": "3.9.7"
  }
 },
 "nbformat": 4,
 "nbformat_minor": 5
}
