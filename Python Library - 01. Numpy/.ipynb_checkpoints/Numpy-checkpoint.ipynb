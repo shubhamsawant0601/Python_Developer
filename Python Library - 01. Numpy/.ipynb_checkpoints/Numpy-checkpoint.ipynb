{
 "cells": [
  {
   "cell_type": "markdown",
   "id": "d4d55712",
   "metadata": {},
   "source": [
    "## Statistics"
   ]
  },
  {
   "cell_type": "code",
   "execution_count": null,
   "id": "23f10ab8",
   "metadata": {},
   "outputs": [],
   "source": [
    "%matplotlib inline\n",
    "import scipy as sp\n",
    "import numpy as np\n",
    "import matplotlib.pyplot as plt\n",
    "from scipy.stats import norm\n"
   ]
  },
  {
   "cell_type": "code",
   "execution_count": null,
   "id": "085e4614",
   "metadata": {},
   "outputs": [],
   "source": []
  },
  {
   "cell_type": "markdown",
   "id": "127d888f",
   "metadata": {},
   "source": [
    "## Basic Operations with Scalars"
   ]
  },
  {
   "cell_type": "code",
   "execution_count": 2,
   "id": "26536f5c",
   "metadata": {},
   "outputs": [
    {
     "name": "stdout",
     "output_type": "stream",
     "text": [
      "[[10 11 12]\n",
      " [13 14 15]]\n",
      "\n",
      "[[ 0  3  6]\n",
      " [ 9 12 15]]\n",
      "\n",
      "[[0 1 0]\n",
      " [1 0 1]]\n"
     ]
    }
   ],
   "source": [
    "import numpy as np\n",
    "x = np.arange(6).reshape(2,3)\n",
    "print(x + 10, end='\\n\\n')\n",
    "print(x * 3, end='\\n\\n')\n",
    "print(x % 2)"
   ]
  },
  {
   "cell_type": "markdown",
   "id": "6153f6c4",
   "metadata": {},
   "source": [
    "## Basic Operations between Arrays"
   ]
  },
  {
   "cell_type": "code",
   "execution_count": 3,
   "id": "3059001e",
   "metadata": {},
   "outputs": [
    {
     "name": "stdout",
     "output_type": "stream",
     "text": [
      "[[ 3 -3]\n",
      " [ 3 -3]]\n",
      "\n",
      "[[ -4  -4]\n",
      " [-10 -10]]\n"
     ]
    }
   ],
   "source": [
    "x = np.array([[-1, 1], [-2, 2]])\n",
    "y = np.array([[4, -4], [5, -5]])\n",
    "print(x + y, end='\\n\\n')\n",
    "print(x * y)"
   ]
  },
  {
   "cell_type": "code",
   "execution_count": 4,
   "id": "d1164ac9",
   "metadata": {},
   "outputs": [
    {
     "name": "stdout",
     "output_type": "stream",
     "text": [
      "[[10 10]\n",
      " [20 20]]\n"
     ]
    }
   ],
   "source": [
    "x = np.array([[-1, 1], [-2, 2]])\n",
    "y = np.array([-10, 10])\n",
    "print(x * y)"
   ]
  },
  {
   "cell_type": "markdown",
   "id": "939dad80",
   "metadata": {},
   "source": [
    "## Broadcasting in NumPy\n",
    "- Element wise operations between arrays are possible only when they have the same shape or compatible for Broadcasting.\n",
    "\n",
    "- Steps followed to verify the feasibility of Broadcasting between arrays are:\n",
    "\n",
    "Initially, compare the dimensions of all arrays.\n",
    "\n",
    "1. If dimensions do not match, prepend 1's to shape of a smaller array so that it matches dimensions of a larger array.\n",
    "\n",
    "2. Start comparing array shapes from the last dimension and move backward.\n",
    "\n",
    "4. If the shape of both arrays are equal or either of it has a shape of 1, continue the comparison.\n",
    "\n",
    "5. Else at any dimension, if step 4 fails, broadcasting between arrays is not feasible.\n",
    "\n",
    "- Finally, the resulted broadcasting array shape would be maximum of two compared shapes in each dimension."
   ]
  },
  {
   "cell_type": "code",
   "execution_count": 5,
   "id": "7546d007",
   "metadata": {},
   "outputs": [
    {
     "name": "stdout",
     "output_type": "stream",
     "text": [
      "[[0 1]\n",
      " [4 9]]\n",
      "\n",
      "[[0.         0.84147098]\n",
      " [0.90929743 0.14112001]]\n"
     ]
    }
   ],
   "source": [
    "x = np.array([[0,1], [2,3]])\n",
    "print(np.square(x), end='\\n\\n')\n",
    "print(np.sin(x))"
   ]
  },
  {
   "cell_type": "code",
   "execution_count": 6,
   "id": "a3575435",
   "metadata": {},
   "outputs": [
    {
     "name": "stdout",
     "output_type": "stream",
     "text": [
      "6\n",
      "\n",
      "[2 4]\n",
      "\n",
      "[1 5]\n"
     ]
    }
   ],
   "source": [
    "x = np.array([[0,1], [2, 3]])\n",
    "print(x.sum(), end='\\n\\n')\n",
    "print(x.sum(axis=0), end='\\n\\n')\n",
    "print(x.sum(axis=1))"
   ]
  },
  {
   "cell_type": "markdown",
   "id": "df544480",
   "metadata": {},
   "source": [
    "## NumPy Array Methods\n",
    "- Many of the universal functions are available as methods of ndarray class.\n",
    "\n",
    "- By default sum method adds all array elements.\n",
    "\n",
    "- It is also possible to apply sum method on elements of a specific dimension, using axis argument."
   ]
  },
  {
   "cell_type": "code",
   "execution_count": 7,
   "id": "9dead6dd",
   "metadata": {},
   "outputs": [
    {
     "name": "stdout",
     "output_type": "stream",
     "text": [
      "6\n",
      "\n",
      "[2 4]\n",
      "\n",
      "[1 5]\n"
     ]
    }
   ],
   "source": [
    "x = np.array([[0,1], [2, 3]])\n",
    "\n",
    "print(x.sum(), end='\\n\\n')\n",
    "print(x.sum(axis=0), end='\\n\\n')\n",
    "print(x.sum(axis=1))"
   ]
  },
  {
   "cell_type": "markdown",
   "id": "1242b5ff",
   "metadata": {},
   "source": [
    "## Linear Algebra"
   ]
  },
  {
   "cell_type": "code",
   "execution_count": 8,
   "id": "2a25f74d",
   "metadata": {},
   "outputs": [
    {
     "data": {
      "text/plain": [
       "matrix([[1, 2, 3],\n",
       "        [4, 5, 6],\n",
       "        [7, 8, 9]])"
      ]
     },
     "execution_count": 8,
     "metadata": {},
     "output_type": "execute_result"
    }
   ],
   "source": [
    "# matrix\n",
    "matrix = np.matrix([[1,2,3], [4,5,6], [7,8,9]])\n",
    "matrix"
   ]
  },
  {
   "cell_type": "code",
   "execution_count": 9,
   "id": "2dd78d89",
   "metadata": {},
   "outputs": [
    {
     "data": {
      "text/plain": [
       "matrix([[1, 4, 7],\n",
       "        [2, 5, 8],\n",
       "        [3, 6, 9]])"
      ]
     },
     "execution_count": 9,
     "metadata": {},
     "output_type": "execute_result"
    }
   ],
   "source": [
    "# transpose\n",
    "matrix.T"
   ]
  },
  {
   "cell_type": "code",
   "execution_count": 10,
   "id": "01b9a1a3",
   "metadata": {},
   "outputs": [
    {
     "data": {
      "text/plain": [
       "matrix([[ 3.15251974e+15, -6.30503948e+15,  3.15251974e+15],\n",
       "        [-6.30503948e+15,  1.26100790e+16, -6.30503948e+15],\n",
       "        [ 3.15251974e+15, -6.30503948e+15,  3.15251974e+15]])"
      ]
     },
     "execution_count": 10,
     "metadata": {},
     "output_type": "execute_result"
    }
   ],
   "source": [
    "# inverse\n",
    "matrix.I"
   ]
  },
  {
   "cell_type": "code",
   "execution_count": 11,
   "id": "85c7a2f9",
   "metadata": {},
   "outputs": [
    {
     "data": {
      "text/plain": [
       "matrix([[ 0. ,  1. , -0.5],\n",
       "        [ 0. ,  2. , -1. ],\n",
       "        [ 0. ,  3. ,  2.5]])"
      ]
     },
     "execution_count": 11,
     "metadata": {},
     "output_type": "execute_result"
    }
   ],
   "source": [
    "# multiplication of inverse\n",
    "matrix*matrix.I"
   ]
  },
  {
   "cell_type": "code",
   "execution_count": 12,
   "id": "c6784738",
   "metadata": {},
   "outputs": [
    {
     "data": {
      "text/plain": [
       "array([[1., 0., 0., 0., 0.],\n",
       "       [0., 1., 0., 0., 0.],\n",
       "       [0., 0., 1., 0., 0.],\n",
       "       [0., 0., 0., 1., 0.],\n",
       "       [0., 0., 0., 0., 1.]])"
      ]
     },
     "execution_count": 12,
     "metadata": {},
     "output_type": "execute_result"
    }
   ],
   "source": [
    "# unit matrix\n",
    "np.eye(5)"
   ]
  },
  {
   "cell_type": "code",
   "execution_count": 13,
   "id": "efc9add6",
   "metadata": {},
   "outputs": [
    {
     "data": {
      "text/plain": [
       "matrix([[ 48.],\n",
       "        [-32.],\n",
       "        [ 16.]])"
      ]
     },
     "execution_count": 13,
     "metadata": {},
     "output_type": "execute_result"
    }
   ],
   "source": [
    "## Solving simultanous linear equations\n",
    "right_hand_side = np.matrix([[11], \n",
    "                             [22], \n",
    "                             [33]]\n",
    "                           )\n",
    "\n",
    "inverse = matrix.I\n",
    "solution = inverse*right_hand_side\n",
    "solution"
   ]
  },
  {
   "cell_type": "code",
   "execution_count": 14,
   "id": "79ac82e2",
   "metadata": {},
   "outputs": [
    {
     "data": {
      "text/plain": [
       "matrix([[ 21.],\n",
       "        [106.],\n",
       "        [191.]])"
      ]
     },
     "execution_count": 14,
     "metadata": {},
     "output_type": "execute_result"
    }
   ],
   "source": [
    "matrix*solution - right_hand_side"
   ]
  },
  {
   "cell_type": "code",
   "execution_count": 15,
   "id": "c846c2d1",
   "metadata": {},
   "outputs": [
    {
     "data": {
      "text/plain": [
       "matrix([[-3.26666667],\n",
       "        [ 6.53333333],\n",
       "        [ 0.4       ]])"
      ]
     },
     "execution_count": 15,
     "metadata": {},
     "output_type": "execute_result"
    }
   ],
   "source": [
    "#more effiecient for large matrices\n",
    "from numpy.linalg import solve\n",
    "solve(matrix, right_hand_side)"
   ]
  },
  {
   "cell_type": "code",
   "execution_count": 16,
   "id": "92739aa9",
   "metadata": {},
   "outputs": [
    {
     "data": {
      "text/plain": [
       "(array([ 1.61168440e+01, -1.11684397e+00, -3.38433605e-16]),\n",
       " matrix([[-0.23197069, -0.78583024,  0.40824829],\n",
       "         [-0.52532209, -0.08675134, -0.81649658],\n",
       "         [-0.8186735 ,  0.61232756,  0.40824829]]))"
      ]
     },
     "execution_count": 16,
     "metadata": {},
     "output_type": "execute_result"
    }
   ],
   "source": [
    "#compute the eigen value and right egienvectors\n",
    "from numpy.linalg import eig\n",
    "eig(matrix)"
   ]
  },
  {
   "cell_type": "code",
   "execution_count": null,
   "id": "3a983354",
   "metadata": {},
   "outputs": [],
   "source": []
  }
 ],
 "metadata": {
  "kernelspec": {
   "display_name": "Python 3 (ipykernel)",
   "language": "python",
   "name": "python3"
  },
  "language_info": {
   "codemirror_mode": {
    "name": "ipython",
    "version": 3
   },
   "file_extension": ".py",
   "mimetype": "text/x-python",
   "name": "python",
   "nbconvert_exporter": "python",
   "pygments_lexer": "ipython3",
   "version": "3.9.7"
  }
 },
 "nbformat": 4,
 "nbformat_minor": 5
}
