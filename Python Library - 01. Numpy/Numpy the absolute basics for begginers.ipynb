{
 "cells": [
  {
   "cell_type": "code",
   "execution_count": 1,
   "id": "63e6a121",
   "metadata": {},
   "outputs": [],
   "source": [
    "import numpy as np"
   ]
  },
  {
   "cell_type": "code",
   "execution_count": 2,
   "id": "4adefa7e",
   "metadata": {},
   "outputs": [
    {
     "name": "stdout",
     "output_type": "stream",
     "text": [
      "1.26.4\n"
     ]
    }
   ],
   "source": [
    "#version of numpy\n",
    "print(np.__version__)"
   ]
  },
  {
   "cell_type": "code",
   "execution_count": 3,
   "id": "e625add0",
   "metadata": {},
   "outputs": [],
   "source": [
    "np.set_printoptions()"
   ]
  },
  {
   "cell_type": "markdown",
   "id": "89c7b776",
   "metadata": {},
   "source": [
    "# Creating Array"
   ]
  },
  {
   "cell_type": "code",
   "execution_count": 4,
   "id": "4ed5ce93",
   "metadata": {},
   "outputs": [
    {
     "name": "stdout",
     "output_type": "stream",
     "text": [
      "[45 85 65 78 56  2 54]\n"
     ]
    }
   ],
   "source": [
    "a = np.array([45,85,65,78,56,2,54])\n",
    "print(a)"
   ]
  },
  {
   "cell_type": "code",
   "execution_count": 19,
   "id": "0056e26f",
   "metadata": {},
   "outputs": [
    {
     "name": "stdout",
     "output_type": "stream",
     "text": [
      "[ 1  4  7 10 13 16 19]\n",
      "7\n",
      "7\n",
      "[ 6  9 12 15 18 21 24]\n"
     ]
    }
   ],
   "source": [
    "# Intrinsic Numpy array creation using Numpy method\n",
    "# np.arange(x) => steps = 1 and excluding x from 0\n",
    "# np.arange(x, y) => step = 1 and from x to y\n",
    "# np.arange(x, y, z) => steps = z and from x to y\n",
    "# np.arange(x, steps=y) => steps = y \n",
    "\n",
    "a = np.arange(1, 20, 3)  \n",
    "\n",
    "print(a)\n",
    "print(a.size)\n",
    "print(len(a))\n",
    "print(a+10-5)"
   ]
  },
  {
   "cell_type": "code",
   "execution_count": 6,
   "id": "ac40c679",
   "metadata": {},
   "outputs": [
    {
     "name": "stdout",
     "output_type": "stream",
     "text": [
      "[ 1. 11. 21.]\n"
     ]
    }
   ],
   "source": [
    "# Create an array with evenly spaced values.\n",
    "a = np.linspace(1,21,3)\n",
    "print(a)"
   ]
  },
  {
   "cell_type": "code",
   "execution_count": 7,
   "id": "800aa33e",
   "metadata": {},
   "outputs": [
    {
     "name": "stdout",
     "output_type": "stream",
     "text": [
      "[[0. 0. 0. 0.]\n",
      " [0. 0. 0. 0.]]\n"
     ]
    }
   ],
   "source": [
    "# Create an array filled with zeros.\n",
    "x = np.zeros(shape=(2, 4))\n",
    "print(x)"
   ]
  },
  {
   "cell_type": "code",
   "execution_count": 18,
   "id": "5099b87c-d68f-4b16-8d51-032943aa8476",
   "metadata": {},
   "outputs": [
    {
     "name": "stdout",
     "output_type": "stream",
     "text": [
      "[[[1. 1. 1. 1. 1.]\n",
      "  [1. 1. 1. 1. 1.]\n",
      "  [1. 1. 1. 1. 1.]\n",
      "  [1. 1. 1. 1. 1.]]\n",
      "\n",
      " [[1. 1. 1. 1. 1.]\n",
      "  [1. 1. 1. 1. 1.]\n",
      "  [1. 1. 1. 1. 1.]\n",
      "  [1. 1. 1. 1. 1.]]]\n"
     ]
    }
   ],
   "source": [
    "# Create an array filled with ones\n",
    "x = np.ones(shape=(2, 4, 5))\n",
    "print(x)"
   ]
  },
  {
   "cell_type": "code",
   "execution_count": 25,
   "id": "9fe0fb70-0d47-455b-a8e7-3261334e5722",
   "metadata": {},
   "outputs": [
    {
     "name": "stdout",
     "output_type": "stream",
     "text": [
      "[[1. 0. 0. 0. 0.]\n",
      " [0. 1. 0. 0. 0.]\n",
      " [0. 0. 1. 0. 0.]\n",
      " [0. 0. 0. 1. 0.]]\n"
     ]
    }
   ],
   "source": [
    "# Create an identity matrix.\n",
    "a = np.eye(4, 5)\n",
    "print(a)"
   ]
  },
  {
   "cell_type": "code",
   "execution_count": 10,
   "id": "66edfa5a",
   "metadata": {},
   "outputs": [
    {
     "name": "stdout",
     "output_type": "stream",
     "text": [
      "[[10.5 10.5 10.5]\n",
      " [10.5 10.5 10.5]]\n"
     ]
    }
   ],
   "source": [
    "y = np.full(shape=(2,3), fill_value=10.5)\n",
    "print(y)"
   ]
  },
  {
   "cell_type": "markdown",
   "id": "f5838fff",
   "metadata": {},
   "source": [
    "## Random "
   ]
  },
  {
   "cell_type": "code",
   "execution_count": 11,
   "id": "2c1d8a21",
   "metadata": {},
   "outputs": [
    {
     "name": "stdout",
     "output_type": "stream",
     "text": [
      "[0.54340494 0.27836939 0.42451759 0.84477613 0.00471886]\n"
     ]
    }
   ],
   "source": [
    "# 5 random numbers between 0 and 1\n",
    "np.random.seed(100)\n",
    "a = np.random.rand(5)\n",
    "\n",
    "print(a)"
   ]
  },
  {
   "cell_type": "code",
   "execution_count": 19,
   "id": "8dac4c29",
   "metadata": {},
   "outputs": [
    {
     "name": "stdout",
     "output_type": "stream",
     "text": [
      "[18 34 13]\n"
     ]
    }
   ],
   "source": [
    "# 3 random integers between 10 and 50\n",
    "np.random.seed(100) \n",
    "a = np.random.randint(10, 50, 3) \n",
    "\n",
    "print(a)"
   ]
  },
  {
   "cell_type": "code",
   "execution_count": 39,
   "id": "502b1355-09f6-4b63-92d9-4d26882d4cbf",
   "metadata": {},
   "outputs": [
    {
     "name": "stdout",
     "output_type": "stream",
     "text": [
      "[[-56 -32 -16  87 -90   2   0   0  64   0]\n",
      " [  0   0   0   0   0   0   0   0   0   0]\n",
      " [  0   0   0   0   0   0   0   0   0   0]\n",
      " [  0   0   0   0   0   0  51   0   0   0]\n",
      " [ 50  55 100  55  55  98  53  53  55  50]\n",
      " [100  50  49  48 101  52  48 101  97  49]\n",
      " [ 48 101  52  57  51  54  53  52  51  55]\n",
      " [ 48  98  49 100  57 100  49  54  48  54]\n",
      " [ 52  52  50 102  99  50  54  50  50  48]\n",
      " [ 57 101  55  50  97 101  52  48  97  54]]\n"
     ]
    }
   ],
   "source": [
    "# create a new array of a given shape and type, without initializing the entries. \n",
    "# This means the values in the array are random and depend on the state of the memory.  \n",
    "a = np.empty((10, 10), dtype=np.int8, order='C')\n",
    "print(a)"
   ]
  },
  {
   "cell_type": "code",
   "execution_count": 40,
   "id": "77eedbc1",
   "metadata": {},
   "outputs": [
    {
     "name": "stdout",
     "output_type": "stream",
     "text": [
      "[-1.74976547  0.3426804   1.1530358 ]\n"
     ]
    }
   ],
   "source": [
    "# Standard Normal distribution\n",
    "np.random.seed(100)\n",
    "a = np.random.randn(3) \n",
    "\n",
    "print(a)"
   ]
  },
  {
   "cell_type": "code",
   "execution_count": 41,
   "id": "11bc846f-78a7-4161-be41-27ec4dbba595",
   "metadata": {},
   "outputs": [
    {
     "name": "stdout",
     "output_type": "stream",
     "text": [
      "[0 1 3 4 1 3 4 2 1 1 2 5 3 1 4 2 2 4 4 2 1 2 0 2 3 0 3 3 1 2 1 4 5 1 4 3 3\n",
      " 3 3 0 2 3 3 2 2 4 5 4 2 3 2 2 1 2 1 3 2 3 3 1 4 4 3 2 2 2 2 2 1 4 4 3 3 2\n",
      " 1 2 3 1 3 5 2 2 3 3 2 3 3 2 1 2 2 3 2 3 2 3 3 3 3 2]\n"
     ]
    }
   ],
   "source": [
    "# Standard Binomial distribution\n",
    "# Number of trials, probability of each trial\n",
    "n, p = 5, .5  \n",
    "\n",
    "# Result of flipping a coin 10 times, tested 1000 times.\n",
    "a = np.random.binomial(n, p, 100)\n",
    "\n",
    "print(a)"
   ]
  },
  {
   "cell_type": "code",
   "execution_count": 42,
   "id": "de25c39f",
   "metadata": {},
   "outputs": [
    {
     "name": "stdout",
     "output_type": "stream",
     "text": [
      "[ 6.50046905 10.68536081 12.30607161]\n"
     ]
    }
   ],
   "source": [
    "# normal distribution with mean 10 and sd 2\n",
    "np.random.seed(100)\n",
    "a = 10 + 2*np.random.randn(3) \n",
    "\n",
    "print(a)"
   ]
  },
  {
   "cell_type": "markdown",
   "id": "e4c886c0",
   "metadata": {},
   "source": [
    "## Reading Data From File"
   ]
  },
  {
   "cell_type": "code",
   "execution_count": 13,
   "id": "5a1fc879",
   "metadata": {},
   "outputs": [
    {
     "name": "stdout",
     "output_type": "stream",
     "text": [
      "[[88.25 93.45 72.6  90.9 ]\n",
      " [72.3  78.85 92.15 65.75]\n",
      " [90.5  92.45 89.25 94.5 ]]\n",
      "2 (3, 4)\n"
     ]
    }
   ],
   "source": [
    "from io import StringIO\n",
    "import numpy as np\n",
    "\n",
    "x = StringIO('''88.25 93.45 72.60 90.90\n",
    "72.3 78.85 92.15 65.75\n",
    "90.5 92.45 89.25 94.50\n",
    "''')\n",
    "\n",
    "d = np.loadtxt(x, delimiter=' ')\n",
    "\n",
    "print(d)\n",
    "\n",
    "print(d.ndim, d.shape)"
   ]
  },
  {
   "cell_type": "markdown",
   "id": "c6252419",
   "metadata": {},
   "source": [
    "## Numpy Data Types \n",
    "numpy.bool_\n",
    "\n",
    "numpy.ubyte\n",
    "\n",
    "numpy.short\n",
    "\n",
    "numpy.ushort = unsigned short\n",
    "\n",
    "numpy.int_ = long\n",
    "\n",
    "numpy.intc\n",
    "\n",
    "numpy.uintc\n",
    "\n",
    "numpy.longlong = long long\n",
    "\n",
    "numpy.ulonglong\n",
    "\n",
    "numpy.half / numpy.float16\n",
    "\n",
    "numpy.single\n",
    "\n",
    "numpy.double\n",
    "\n",
    "numpy.longdouble\n",
    "\n",
    "numpy.csingle = complex float\n",
    "\n",
    "numpy.cdouble\n",
    "\n",
    "numpy.clongdouble\n",
    "\n",
    "#### Can assign 8, 16, 32, 64 etc after data type as follows"
   ]
  },
  {
   "cell_type": "code",
   "execution_count": 14,
   "id": "5360c834",
   "metadata": {},
   "outputs": [
    {
     "name": "stdout",
     "output_type": "stream",
     "text": [
      "\n",
      " 1D array \n",
      " [0 0 0 0 0 0 0 0 0 0]\n",
      "\n",
      " 2D array \n",
      " [[0. 0. 0.]\n",
      " [0. 0. 0.]\n",
      " [0. 0. 0.]\n",
      " [0. 0. 0.]]\n",
      "\n",
      " 3D array \n",
      " [[[0. 0. 0.]\n",
      "  [0. 0. 0.]\n",
      "  [0. 0. 0.]]\n",
      "\n",
      " [[0. 0. 0.]\n",
      "  [0. 0. 0.]\n",
      "  [0. 0. 0.]]\n",
      "\n",
      " [[0. 0. 0.]\n",
      "  [0. 0. 0.]\n",
      "  [0. 0. 0.]]]\n"
     ]
    }
   ],
   "source": [
    "# 1D array\n",
    "d = np.zeros(10, dtype=np.int64)\n",
    "print(\"\\n 1D array \\n\", d)\n",
    "\n",
    "# 2D array\n",
    "d2 = np.zeros([4,3])\n",
    "print(\"\\n 2D array \\n\", d2)\n",
    "\n",
    "# 3D array\n",
    "d3 = np.zeros([3,3,3])\n",
    "print(\"\\n 3D array \\n\", d3)"
   ]
  },
  {
   "cell_type": "markdown",
   "id": "5b2f9169",
   "metadata": {},
   "source": [
    "# Operations"
   ]
  },
  {
   "cell_type": "code",
   "execution_count": 7,
   "id": "00ba473a",
   "metadata": {},
   "outputs": [
    {
     "name": "stdout",
     "output_type": "stream",
     "text": [
      "[11 12 13 14 15 16 17 18 19 20]\n",
      "[-9 -8 -7 -6 -5 -4 -3 -2 -1  0]\n",
      "[ 10  20  30  40  50  60  70  80  90 100]\n",
      "[0.1 0.2 0.3 0.4 0.5 0.6 0.7 0.8 0.9 1. ]\n",
      "[0 0 0 0 0 0 0 0 0 1]\n"
     ]
    }
   ],
   "source": [
    "arr = np.array([1,2,3,4,5,6,7,8,9,10])\n",
    "\n",
    "print(arr+10)\n",
    "print(arr-10)\n",
    "print(arr*10)\n",
    "print(arr/10)\n",
    "print(arr//10)"
   ]
  },
  {
   "cell_type": "markdown",
   "id": "b744ba2a",
   "metadata": {},
   "source": [
    "# Single Elements"
   ]
  },
  {
   "cell_type": "code",
   "execution_count": 27,
   "id": "df73e0b2",
   "metadata": {},
   "outputs": [
    {
     "name": "stdout",
     "output_type": "stream",
     "text": [
      "98\n",
      "1000\n",
      "43\n",
      "7\n"
     ]
    }
   ],
   "source": [
    "arr = np.array([15,23,64,98,25,78,43])\n",
    "\n",
    "# Accessing by index\n",
    "print(arr[3])\n",
    "\n",
    "# Assigning the element at index\n",
    "arr[3] = 1000\n",
    "print(arr[3])\n",
    "\n",
    "# Accessing by reverse indexing\n",
    "print(arr[-1])\n",
    "\n",
    "# Size of array\n",
    "print(arr.size)"
   ]
  },
  {
   "cell_type": "markdown",
   "id": "884dff63",
   "metadata": {},
   "source": [
    "# Shape and Size "
   ]
  },
  {
   "cell_type": "markdown",
   "id": "879e3924",
   "metadata": {},
   "source": [
    "#### ndarray.ndim(), ndarray.size(), ndarray.shape()"
   ]
  },
  {
   "cell_type": "code",
   "execution_count": 13,
   "id": "b08f3721",
   "metadata": {},
   "outputs": [
    {
     "data": {
      "text/plain": [
       "2"
      ]
     },
     "execution_count": 13,
     "metadata": {},
     "output_type": "execute_result"
    }
   ],
   "source": [
    "a = np.array([[1,2,3,4],[5,6,7,8],[9,10,11,12]])\n",
    "\n",
    "a.ndim"
   ]
  },
  {
   "cell_type": "code",
   "execution_count": 14,
   "id": "6d3afef6",
   "metadata": {},
   "outputs": [
    {
     "data": {
      "text/plain": [
       "(3, 4)"
      ]
     },
     "execution_count": 14,
     "metadata": {},
     "output_type": "execute_result"
    }
   ],
   "source": [
    "a.shape"
   ]
  },
  {
   "cell_type": "code",
   "execution_count": 15,
   "id": "7865a65b",
   "metadata": {},
   "outputs": [
    {
     "data": {
      "text/plain": [
       "12"
      ]
     },
     "execution_count": 15,
     "metadata": {},
     "output_type": "execute_result"
    }
   ],
   "source": [
    "a.size"
   ]
  },
  {
   "cell_type": "markdown",
   "id": "84ac5b10",
   "metadata": {},
   "source": [
    "# Reshape & Flatten"
   ]
  },
  {
   "cell_type": "code",
   "execution_count": 16,
   "id": "719b19ec",
   "metadata": {},
   "outputs": [
    {
     "data": {
      "text/plain": [
       "array([[ 1,  2,  3],\n",
       "       [ 4,  5,  6],\n",
       "       [ 7,  8,  9],\n",
       "       [10, 11, 12],\n",
       "       [13, 14, 15],\n",
       "       [16, 17, 18],\n",
       "       [19, 20, 21],\n",
       "       [22, 23, 24]])"
      ]
     },
     "execution_count": 16,
     "metadata": {},
     "output_type": "execute_result"
    }
   ],
   "source": [
    "a = np.arange(1,25)\n",
    "a.reshape(8,3)"
   ]
  },
  {
   "cell_type": "code",
   "execution_count": 17,
   "id": "84920be4",
   "metadata": {},
   "outputs": [
    {
     "data": {
      "text/plain": [
       "array([[ 1,  2,  3,  4,  5,  6,  7,  8,  9, 10, 11, 12],\n",
       "       [13, 14, 15, 16, 17, 18, 19, 20, 21, 22, 23, 24]])"
      ]
     },
     "execution_count": 17,
     "metadata": {},
     "output_type": "execute_result"
    }
   ],
   "source": [
    "a.reshape(2,12)"
   ]
  },
  {
   "cell_type": "code",
   "execution_count": 19,
   "id": "d7de8014",
   "metadata": {},
   "outputs": [
    {
     "data": {
      "text/plain": [
       "array([[[ 1,  2,  3,  4,  5,  6],\n",
       "        [ 7,  8,  9, 10, 11, 12]],\n",
       "\n",
       "       [[13, 14, 15, 16, 17, 18],\n",
       "        [19, 20, 21, 22, 23, 24]]])"
      ]
     },
     "execution_count": 19,
     "metadata": {},
     "output_type": "execute_result"
    }
   ],
   "source": [
    "a.reshape( 2, 2, 6)"
   ]
  },
  {
   "cell_type": "code",
   "execution_count": 54,
   "id": "c469b27e",
   "metadata": {},
   "outputs": [
    {
     "name": "stdout",
     "output_type": "stream",
     "text": [
      "[18 34 77 97 89 58 20 62]\n",
      "\n",
      "[[18 34 77 97]\n",
      " [89 58 20 62]]\n",
      "\n",
      "[[[18 34]\n",
      "  [77 97]]\n",
      "\n",
      " [[89 58]\n",
      "  [20 62]]] \n",
      "\n",
      "\n",
      "[18 34 77 97 89 58 20 62]\n"
     ]
    }
   ],
   "source": [
    "np.random.seed(100)\n",
    "x = np.random.randint(10, 100, 8)\n",
    "print(x, end='\\n\\n')\n",
    "\n",
    "# Reshape an array\n",
    "y = x.reshape(2,4)\n",
    "print(y, end='\\n\\n')\n",
    "\n",
    "z = x.reshape(2,2,2)\n",
    "print(z, '\\n\\n')\n",
    "\n",
    "# Flatten a multi-dimensional array into a one-dimensional array.\n",
    "a = z.flatten()\n",
    "print(a)"
   ]
  },
  {
   "cell_type": "markdown",
   "id": "26da4d94-4455-4a9b-a963-a9553c49c116",
   "metadata": {},
   "source": [
    "### Concatenate"
   ]
  },
  {
   "cell_type": "code",
   "execution_count": null,
   "id": "f9e7c6bc-5aa7-4611-880d-0b29ee5ab925",
   "metadata": {},
   "outputs": [],
   "source": [
    "# Concatenate arrays.\n",
    "arr1 = np.array([1, 2, 3])\n",
    "arr2 = np.array([4, 5, 6])\n",
    "concatenated_arr = np.concatenate((arr1, arr2))"
   ]
  },
  {
   "cell_type": "markdown",
   "id": "15be03a4",
   "metadata": {},
   "source": [
    "## Stacking Array with vstack and hstack Methods"
   ]
  },
  {
   "cell_type": "code",
   "execution_count": 28,
   "id": "c3c314c2",
   "metadata": {},
   "outputs": [
    {
     "data": {
      "text/plain": [
       "array([[-1,  1],\n",
       "       [-3,  3],\n",
       "       [-2,  2],\n",
       "       [-4,  4]])"
      ]
     },
     "execution_count": 28,
     "metadata": {},
     "output_type": "execute_result"
    }
   ],
   "source": [
    "x = np.array([[-1, 1], [-3, 3]])\n",
    "y = np.array([[-2, 2], [-4, 4]])\n",
    "np.vstack((x,y))"
   ]
  },
  {
   "cell_type": "code",
   "execution_count": 29,
   "id": "8fa950d3",
   "metadata": {},
   "outputs": [
    {
     "data": {
      "text/plain": [
       "array([[-1,  1, -2,  2, -5,  5],\n",
       "       [-3,  3, -4,  4, -6,  6]])"
      ]
     },
     "execution_count": 29,
     "metadata": {},
     "output_type": "execute_result"
    }
   ],
   "source": [
    "x = np.array([[-1, 1], [-3, 3]])\n",
    "y = np.array([[-2, 2], [-4, 4]])\n",
    "z = np.array([[-5, 5], [-6, 6]])\n",
    "np.hstack((x,y,z))"
   ]
  },
  {
   "cell_type": "markdown",
   "id": "22790f78",
   "metadata": {},
   "source": [
    "## Splitting Arrays vertically vsplit  method"
   ]
  },
  {
   "cell_type": "code",
   "execution_count": 30,
   "id": "9125f1fb",
   "metadata": {},
   "outputs": [
    {
     "name": "stdout",
     "output_type": "stream",
     "text": [
      "[[ 0  1  2  3  4]\n",
      " [ 5  6  7  8  9]\n",
      " [10 11 12 13 14]]\n",
      "\n",
      "[[15 16 17 18 19]\n",
      " [20 21 22 23 24]\n",
      " [25 26 27 28 29]]\n"
     ]
    }
   ],
   "source": [
    "# vsplit\n",
    "x = np.arange(30).reshape(6, 5)\n",
    "res = np.vsplit(x, 2)\n",
    "\n",
    "print(res[0], end='\\n\\n')\n",
    "print(res[1])"
   ]
  },
  {
   "cell_type": "markdown",
   "id": "db629154",
   "metadata": {},
   "source": [
    "## Splitting Arrays Horizontally hsplit method"
   ]
  },
  {
   "cell_type": "code",
   "execution_count": 53,
   "id": "0d0c60d1-ebc3-4490-b73b-b2ab507972ff",
   "metadata": {},
   "outputs": [
    {
     "name": "stdout",
     "output_type": "stream",
     "text": [
      "[0 1 2 3 4 5 6 7 8]\n",
      "[array([0, 1, 2]), array([3, 4, 5]), array([6, 7, 8])]\n",
      "\n",
      "[[0 1 2]\n",
      " [3 4 5]\n",
      " [6 7 8]]\n",
      "[array([[0, 1, 2]]), array([[3, 4, 5]]), array([[6, 7, 8]])]\n",
      "\n",
      "[[[ 0  1  2]\n",
      "  [ 3  4  5]\n",
      "  [ 6  7  8]]\n",
      "\n",
      " [[ 9 10 11]\n",
      "  [12 13 14]\n",
      "  [15 16 17]]\n",
      "\n",
      " [[18 19 20]\n",
      "  [21 22 23]\n",
      "  [24 25 26]]]\n",
      "[array([[[0, 1, 2],\n",
      "        [3, 4, 5],\n",
      "        [6, 7, 8]]]), array([[[ 9, 10, 11],\n",
      "        [12, 13, 14],\n",
      "        [15, 16, 17]]]), array([[[18, 19, 20],\n",
      "        [21, 22, 23],\n",
      "        [24, 25, 26]]])]\n",
      "\n"
     ]
    }
   ],
   "source": [
    "# 1D Array\n",
    "a = np.arange(9)\n",
    "split_a = np.split(a, 3)\n",
    "\n",
    "print(a)\n",
    "print(split_a, end=\"\\n\\n\")\n",
    "\n",
    "# 2D Array\n",
    "a = np.arange(9).reshape(3, 3)\n",
    "split_a = np.split(a, 3)\n",
    "\n",
    "print(a)\n",
    "print(split_a, end=\"\\n\\n\")\n",
    "\n",
    "# 3D Array\n",
    "a = np.arange(27).reshape(3, 3, 3)\n",
    "split_a = np.split(a, 3)\n",
    "\n",
    "print(a)\n",
    "print(split_a, end=\"\\n\\n\")"
   ]
  },
  {
   "cell_type": "code",
   "execution_count": 66,
   "id": "be630baa",
   "metadata": {},
   "outputs": [
    {
     "name": "stdout",
     "output_type": "stream",
     "text": [
      "[[0 1 2 3 4]\n",
      " [5 6 7 8 9]]\n",
      "\n",
      "[array([[0, 1],\n",
      "       [5, 6]]), array([[2, 3],\n",
      "       [7, 8]]), array([[4],\n",
      "       [9]])]\n",
      "\n",
      "[[0 1]\n",
      " [5 6]]\n",
      "\n",
      "[[2 3]\n",
      " [7 8]]\n",
      "\n",
      "[[4]\n",
      " [9]]\n"
     ]
    }
   ],
   "source": [
    "x = np.arange(10).reshape(2, 5)\n",
    "res = np.hsplit(x, (2,4))\n",
    "\n",
    "print(x, end='\\n\\n')\n",
    "print(res, end='\\n\\n')\n",
    "print(res[0], end='\\n\\n')\n",
    "print(res[1], end='\\n\\n')\n",
    "print(res[2])\n"
   ]
  },
  {
   "cell_type": "markdown",
   "id": "3931734a",
   "metadata": {},
   "source": [
    "# Creating Matrices"
   ]
  },
  {
   "cell_type": "markdown",
   "id": "6267eb0b",
   "metadata": {},
   "source": [
    "### 2D Array"
   ]
  },
  {
   "cell_type": "code",
   "execution_count": 29,
   "id": "77cb8c75",
   "metadata": {},
   "outputs": [
    {
     "data": {
      "text/plain": [
       "array([[0, 1, 2],\n",
       "       [3, 4, 5],\n",
       "       [6, 7, 8]])"
      ]
     },
     "execution_count": 29,
     "metadata": {},
     "output_type": "execute_result"
    }
   ],
   "source": [
    "matrix = np.arange(9)\n",
    "matrix.shape = (3,3)\n",
    "matrix"
   ]
  },
  {
   "cell_type": "code",
   "execution_count": 30,
   "id": "7a819d40",
   "metadata": {},
   "outputs": [
    {
     "data": {
      "text/plain": [
       "array([[[ 0,  1,  2],\n",
       "        [ 3,  4,  5]],\n",
       "\n",
       "       [[ 6,  7,  8],\n",
       "        [ 9, 10, 11]]])"
      ]
     },
     "execution_count": 30,
     "metadata": {},
     "output_type": "execute_result"
    }
   ],
   "source": [
    "matrix = np.arange(12)\n",
    "matrix.shape = (2,2,3)\n",
    "matrix"
   ]
  },
  {
   "cell_type": "markdown",
   "id": "d048fca4",
   "metadata": {},
   "source": [
    "### Slicing and Indexing"
   ]
  },
  {
   "cell_type": "code",
   "execution_count": 53,
   "id": "df3fbb5c",
   "metadata": {},
   "outputs": [],
   "source": [
    "a = np.array([[1,2,3,4],[5,6,7,8],[9,10,11,12],[13,14,15,16]])"
   ]
  },
  {
   "cell_type": "code",
   "execution_count": 54,
   "id": "1c392425",
   "metadata": {},
   "outputs": [
    {
     "data": {
      "text/plain": [
       "6"
      ]
     },
     "execution_count": 54,
     "metadata": {},
     "output_type": "execute_result"
    }
   ],
   "source": [
    "a[1,1]"
   ]
  },
  {
   "cell_type": "code",
   "execution_count": 59,
   "id": "8608e3fa",
   "metadata": {},
   "outputs": [
    {
     "data": {
      "text/plain": [
       "array([3, 7])"
      ]
     },
     "execution_count": 59,
     "metadata": {},
     "output_type": "execute_result"
    }
   ],
   "source": [
    "a[0:2,2]"
   ]
  },
  {
   "cell_type": "code",
   "execution_count": 58,
   "id": "a71eab62",
   "metadata": {},
   "outputs": [
    {
     "data": {
      "text/plain": [
       "array([2, 3])"
      ]
     },
     "execution_count": 58,
     "metadata": {},
     "output_type": "execute_result"
    }
   ],
   "source": [
    "a[0,1:3]"
   ]
  },
  {
   "cell_type": "code",
   "execution_count": 41,
   "id": "8b582666",
   "metadata": {},
   "outputs": [
    {
     "name": "stdout",
     "output_type": "stream",
     "text": [
      "[[4 5]]\n",
      "[3 4 5]\n",
      "[1 4]\n"
     ]
    }
   ],
   "source": [
    "y = np.array([[0, 1, 2],\n",
    "              [3, 4, 5]])\n",
    "print(y[1:2, 1:3]) \n",
    "print(y[1])   \n",
    "print(y[:, 1]) "
   ]
  },
  {
   "cell_type": "code",
   "execution_count": 42,
   "id": "b850c789",
   "metadata": {},
   "outputs": [
    {
     "name": "stdout",
     "output_type": "stream",
     "text": [
      "[4 5]\n",
      "[[-5  5]\n",
      " [-9  9]]\n",
      "[[-7  7]\n",
      " [-9  9]]\n"
     ]
    }
   ],
   "source": [
    "# For slicing an n dimensional ndarray, n slice objects are required.\n",
    "z = np.array([[[-1, 1], [-2, 2]],\n",
    "              [[-4, 4], [-5, 5]],\n",
    "              [[-7, 7], [-9, 9]]])\n",
    "print(z[1,:,1]) # index 1 element in row of index 1\n",
    "print(z[1:,1,:]) # From all outer rows except the first, select 1st index element (which itself is an array) completely.\n",
    "print(z[2]) # print 2nd index element"
   ]
  },
  {
   "cell_type": "markdown",
   "id": "92f032fa",
   "metadata": {},
   "source": [
    "### Aggregation"
   ]
  },
  {
   "cell_type": "code",
   "execution_count": 75,
   "id": "6d72d145",
   "metadata": {},
   "outputs": [],
   "source": [
    "a = np.array([[ 12,  25,  83,  14],\n",
    "              [ 45,  61,  17,  38],\n",
    "              [ 69,  10,  11,  12],\n",
    "              [ 13,  14,  15,  16]])"
   ]
  },
  {
   "cell_type": "code",
   "execution_count": 76,
   "id": "6d3b5238",
   "metadata": {},
   "outputs": [
    {
     "data": {
      "text/plain": [
       "10"
      ]
     },
     "execution_count": 76,
     "metadata": {},
     "output_type": "execute_result"
    }
   ],
   "source": [
    "a.min()"
   ]
  },
  {
   "cell_type": "code",
   "execution_count": 77,
   "id": "3c08acd7",
   "metadata": {},
   "outputs": [
    {
     "data": {
      "text/plain": [
       "83"
      ]
     },
     "execution_count": 77,
     "metadata": {},
     "output_type": "execute_result"
    }
   ],
   "source": [
    "a.max()"
   ]
  },
  {
   "cell_type": "code",
   "execution_count": 78,
   "id": "6fea4cc5",
   "metadata": {},
   "outputs": [
    {
     "data": {
      "text/plain": [
       "455"
      ]
     },
     "execution_count": 78,
     "metadata": {},
     "output_type": "execute_result"
    }
   ],
   "source": [
    "a.sum()"
   ]
  },
  {
   "cell_type": "code",
   "execution_count": 80,
   "id": "022923f8",
   "metadata": {},
   "outputs": [
    {
     "data": {
      "text/plain": [
       "array([12, 10, 11, 12])"
      ]
     },
     "execution_count": 80,
     "metadata": {},
     "output_type": "execute_result"
    }
   ],
   "source": [
    "a.min(axis=0)"
   ]
  },
  {
   "cell_type": "code",
   "execution_count": 83,
   "id": "03cba217",
   "metadata": {},
   "outputs": [
    {
     "data": {
      "text/plain": [
       "array([12, 17, 10, 13])"
      ]
     },
     "execution_count": 83,
     "metadata": {},
     "output_type": "execute_result"
    }
   ],
   "source": [
    "a.min(axis=1)"
   ]
  },
  {
   "cell_type": "code",
   "execution_count": 84,
   "id": "52355ddc",
   "metadata": {},
   "outputs": [
    {
     "data": {
      "text/plain": [
       "array([69, 61, 83, 38])"
      ]
     },
     "execution_count": 84,
     "metadata": {},
     "output_type": "execute_result"
    }
   ],
   "source": [
    "a.max(axis=0)"
   ]
  },
  {
   "cell_type": "code",
   "execution_count": 85,
   "id": "f9faedb7",
   "metadata": {},
   "outputs": [
    {
     "data": {
      "text/plain": [
       "array([83, 61, 69, 16])"
      ]
     },
     "execution_count": 85,
     "metadata": {},
     "output_type": "execute_result"
    }
   ],
   "source": [
    "a.max(axis=1)"
   ]
  },
  {
   "cell_type": "markdown",
   "id": "1f1980a9",
   "metadata": {},
   "source": [
    "# Views and Copies"
   ]
  },
  {
   "cell_type": "code",
   "execution_count": 33,
   "id": "f9be81f9",
   "metadata": {},
   "outputs": [
    {
     "name": "stdout",
     "output_type": "stream",
     "text": [
      "[123  13  14  15]\n",
      "[123  13  14  15]\n",
      "[[   123     13]\n",
      " [122334 122334]]\n",
      "[[   123     13]\n",
      " [122334 122334]]\n",
      "1929969235792\n",
      "1929969235792\n"
     ]
    }
   ],
   "source": [
    "cat = np.array([12,13,14,15])\n",
    "dog = cat\n",
    "\n",
    "#changing the element\n",
    "dog[0] = 123\n",
    "\n",
    "# printing the array\n",
    "print(cat)\n",
    "print(dog)\n",
    "\n",
    "#changing the element\n",
    "dog.shape = (2,2)\n",
    "dog[1]  = 122334\n",
    "\n",
    "# printing the array\n",
    "print(cat)\n",
    "print(dog)\n",
    "\n",
    "#printing ids\n",
    "print(id(dog))\n",
    "print(id(cat))"
   ]
  },
  {
   "cell_type": "markdown",
   "id": "adea1068",
   "metadata": {},
   "source": [
    "# Deep Copy"
   ]
  },
  {
   "cell_type": "code",
   "execution_count": 31,
   "id": "1c146741",
   "metadata": {},
   "outputs": [
    {
     "name": "stdout",
     "output_type": "stream",
     "text": [
      "[12 13 14 15]\n",
      "[123  13  14  15]\n",
      "[12 13 14 15]\n",
      "[[   123     13]\n",
      " [122334 122334]]\n",
      "1929969237424\n",
      "1929969236656\n"
     ]
    }
   ],
   "source": [
    "cat = np.array([12,13,14,15])\n",
    "dog = np.copy(cat)\n",
    "\n",
    "#changing the element\n",
    "dog[0] = 123\n",
    "\n",
    "# printing the array\n",
    "print(cat)\n",
    "print(dog)\n",
    "\n",
    "#changing the element\n",
    "dog.shape = (2,2)\n",
    "dog[1]  = 122334\n",
    "\n",
    "# printing the array\n",
    "print(cat)\n",
    "print(dog)\n",
    "\n",
    "#printing ids\n",
    "print(id(dog))\n",
    "print(id(cat))"
   ]
  },
  {
   "cell_type": "markdown",
   "id": "5e8b663a",
   "metadata": {},
   "source": [
    "# Shallow Copy"
   ]
  },
  {
   "cell_type": "code",
   "execution_count": 32,
   "id": "3a4da2e8",
   "metadata": {},
   "outputs": [
    {
     "name": "stdout",
     "output_type": "stream",
     "text": [
      "[123  13  14  15]\n",
      "[123  13  14  15]\n",
      "[   123     13 122334 122334]\n",
      "[[   123     13]\n",
      " [122334 122334]]\n",
      "1929969236656\n",
      "1929969235408\n"
     ]
    }
   ],
   "source": [
    "cat = np.array([12,13,14,15])\n",
    "dog = cat.view()\n",
    "dog[0] = 123\n",
    "\n",
    "#changing the element\n",
    "dog[0] = 123\n",
    "\n",
    "# printing the array\n",
    "print(cat)\n",
    "print(dog)\n",
    "\n",
    "#changing the element\n",
    "dog.shape = (2,2)\n",
    "dog[1]  = 122334\n",
    "\n",
    "# printing the array\n",
    "print(cat)\n",
    "print(dog)\n",
    "\n",
    "#printing ids\n",
    "print(id(dog))\n",
    "print(id(cat))"
   ]
  },
  {
   "cell_type": "markdown",
   "id": "f17063e7",
   "metadata": {},
   "source": [
    "# Array Attributes"
   ]
  },
  {
   "cell_type": "code",
   "execution_count": 5,
   "id": "15c2debb",
   "metadata": {},
   "outputs": [],
   "source": [
    "a = np.array([1,2,3,4,5,6,7,8,9])\n",
    "a.shape = (3,3)"
   ]
  },
  {
   "cell_type": "code",
   "execution_count": 6,
   "id": "bbda0086",
   "metadata": {},
   "outputs": [
    {
     "data": {
      "text/plain": [
       "(3, 3)"
      ]
     },
     "execution_count": 6,
     "metadata": {},
     "output_type": "execute_result"
    }
   ],
   "source": [
    "a.shape"
   ]
  },
  {
   "cell_type": "code",
   "execution_count": 7,
   "id": "0e516fb5",
   "metadata": {},
   "outputs": [
    {
     "data": {
      "text/plain": [
       "2"
      ]
     },
     "execution_count": 7,
     "metadata": {},
     "output_type": "execute_result"
    }
   ],
   "source": [
    "a.ndim"
   ]
  },
  {
   "cell_type": "code",
   "execution_count": 8,
   "id": "7e474197",
   "metadata": {},
   "outputs": [
    {
     "data": {
      "text/plain": [
       "9"
      ]
     },
     "execution_count": 8,
     "metadata": {},
     "output_type": "execute_result"
    }
   ],
   "source": [
    "a.size"
   ]
  },
  {
   "cell_type": "code",
   "execution_count": 9,
   "id": "ac796c23",
   "metadata": {},
   "outputs": [
    {
     "data": {
      "text/plain": [
       "dtype('int32')"
      ]
     },
     "execution_count": 9,
     "metadata": {},
     "output_type": "execute_result"
    }
   ],
   "source": [
    "a.dtype"
   ]
  },
  {
   "cell_type": "code",
   "execution_count": 10,
   "id": "c83c2b79",
   "metadata": {},
   "outputs": [
    {
     "data": {
      "text/plain": [
       "4"
      ]
     },
     "execution_count": 10,
     "metadata": {},
     "output_type": "execute_result"
    }
   ],
   "source": [
    "a.itemsize"
   ]
  },
  {
   "cell_type": "code",
   "execution_count": 11,
   "id": "f4143a71",
   "metadata": {},
   "outputs": [
    {
     "data": {
      "text/plain": [
       "numpy.ndarray"
      ]
     },
     "execution_count": 11,
     "metadata": {},
     "output_type": "execute_result"
    }
   ],
   "source": [
    "type(a)"
   ]
  },
  {
   "cell_type": "code",
   "execution_count": 12,
   "id": "8b0cf76b",
   "metadata": {},
   "outputs": [
    {
     "data": {
      "text/plain": [
       "36"
      ]
     },
     "execution_count": 12,
     "metadata": {},
     "output_type": "execute_result"
    }
   ],
   "source": [
    "a.nbytes"
   ]
  },
  {
   "cell_type": "markdown",
   "id": "5d8c979b",
   "metadata": {},
   "source": [
    "## Iterating through Numpy Array"
   ]
  },
  {
   "cell_type": "code",
   "execution_count": 43,
   "id": "551c9c4d",
   "metadata": {},
   "outputs": [
    {
     "name": "stdout",
     "output_type": "stream",
     "text": [
      "0\n",
      "1\n",
      "2\n",
      "3\n"
     ]
    }
   ],
   "source": [
    "x = np.array([[0,1], [2, 3]])\n",
    "for a in np.nditer(x):\n",
    "    print(a)"
   ]
  },
  {
   "cell_type": "code",
   "execution_count": 46,
   "id": "560cdeac",
   "metadata": {},
   "outputs": [
    {
     "name": "stdout",
     "output_type": "stream",
     "text": [
      "[14 15]\n"
     ]
    }
   ],
   "source": [
    "x = np.arange(30).reshape(3,5,2)\n",
    "print(x[1][::2][1])"
   ]
  },
  {
   "cell_type": "code",
   "execution_count": 47,
   "id": "7f1b1c4e",
   "metadata": {},
   "outputs": [
    {
     "name": "stdout",
     "output_type": "stream",
     "text": [
      "[0 1 2 3]\n"
     ]
    }
   ],
   "source": [
    "\n",
    "x = np.arange(4)\n",
    "print(x.flatten())"
   ]
  },
  {
   "cell_type": "code",
   "execution_count": 48,
   "id": "bb33f292",
   "metadata": {},
   "outputs": [
    {
     "name": "stdout",
     "output_type": "stream",
     "text": [
      "[11 15 19]\n"
     ]
    }
   ],
   "source": [
    "x = np.arange(30).reshape(3,5,2)\n",
    "print(x[1,::2,1])"
   ]
  },
  {
   "cell_type": "code",
   "execution_count": 49,
   "id": "48978ce5",
   "metadata": {},
   "outputs": [
    {
     "name": "stdout",
     "output_type": "stream",
     "text": [
      "[[0, 1], [2, 3]]\n"
     ]
    }
   ],
   "source": [
    "x = np.arange(4).reshape(2,2)\n",
    "print(x.tolist())"
   ]
  },
  {
   "cell_type": "code",
   "execution_count": 51,
   "id": "5e95bc63",
   "metadata": {},
   "outputs": [
    {
     "name": "stdout",
     "output_type": "stream",
     "text": [
      "(2, 2)\n"
     ]
    }
   ],
   "source": [
    "print(np.array(([1, 2], (3,4))).shape)"
   ]
  },
  {
   "cell_type": "code",
   "execution_count": 52,
   "id": "7d4230a6",
   "metadata": {},
   "outputs": [
    {
     "name": "stdout",
     "output_type": "stream",
     "text": [
      "[11 15 19]\n"
     ]
    }
   ],
   "source": [
    "x = np.arange(30).reshape(3,5,2)\n",
    "print(x[1,::2,1])"
   ]
  },
  {
   "cell_type": "code",
   "execution_count": 53,
   "id": "131bc0e5",
   "metadata": {},
   "outputs": [
    {
     "name": "stdout",
     "output_type": "stream",
     "text": [
      "[[-5  1]\n",
      " [-1  5]]\n"
     ]
    }
   ],
   "source": [
    "x = np.array([[-2], \n",
    "              [2]])\n",
    "y = np.array([[-3, 3]])\n",
    "print(x + y)"
   ]
  },
  {
   "cell_type": "code",
   "execution_count": 54,
   "id": "c2d0cbae",
   "metadata": {},
   "outputs": [
    {
     "name": "stdout",
     "output_type": "stream",
     "text": [
      "complex128\n"
     ]
    }
   ],
   "source": [
    "y = np.array([3+4j, 0.4+7.8j])\n",
    "print(y.dtype)"
   ]
  },
  {
   "cell_type": "code",
   "execution_count": 56,
   "id": "d9f212c7",
   "metadata": {},
   "outputs": [
    {
     "data": {
      "text/plain": [
       "array([[ 0,  1,  2,  3,  4],\n",
       "       [ 5,  6,  7,  8,  9],\n",
       "       [10, 11, 12, 13, 14],\n",
       "       [15, 16, 17, 18, 19]])"
      ]
     },
     "execution_count": 56,
     "metadata": {},
     "output_type": "execute_result"
    }
   ],
   "source": [
    "x = np.arange(20).reshape(4, 5)\n",
    "x"
   ]
  },
  {
   "cell_type": "code",
   "execution_count": 57,
   "id": "01fec413",
   "metadata": {},
   "outputs": [
    {
     "name": "stdout",
     "output_type": "stream",
     "text": [
      "[[0 1]\n",
      " [3 4]]\n"
     ]
    }
   ],
   "source": [
    "x = np.arange(6).reshape(2,3)\n",
    "\n",
    "y = np.hsplit(x,(2,))\n",
    "print(y[0])"
   ]
  },
  {
   "cell_type": "code",
   "execution_count": 58,
   "id": "95b92789",
   "metadata": {},
   "outputs": [
    {
     "name": "stdout",
     "output_type": "stream",
     "text": [
      "[1 5 9]\n"
     ]
    }
   ],
   "source": [
    "x = np.arange(12).reshape(3,4)\n",
    "print(x[:,1])"
   ]
  },
  {
   "cell_type": "code",
   "execution_count": 59,
   "id": "6e2585fe",
   "metadata": {},
   "outputs": [
    {
     "name": "stdout",
     "output_type": "stream",
     "text": [
      "(1, 4)\n"
     ]
    }
   ],
   "source": [
    "x = np.arange(12).reshape(3,4)\n",
    "print(x[-1:,].shape)"
   ]
  },
  {
   "cell_type": "code",
   "execution_count": 60,
   "id": "8b99c8f7",
   "metadata": {},
   "outputs": [
    {
     "name": "stdout",
     "output_type": "stream",
     "text": [
      "[3 3 3 3]\n"
     ]
    }
   ],
   "source": [
    "print(np.repeat(3, 4))"
   ]
  },
  {
   "cell_type": "code",
   "execution_count": 61,
   "id": "b1d13292",
   "metadata": {},
   "outputs": [
    {
     "name": "stdout",
     "output_type": "stream",
     "text": [
      "[ True  True  True  True]\n"
     ]
    }
   ],
   "source": [
    "x = np.arange(4)\n",
    "y = np.arange(4)\n",
    "\n",
    "print(x == y)"
   ]
  },
  {
   "cell_type": "code",
   "execution_count": 62,
   "id": "b51e8f4f",
   "metadata": {},
   "outputs": [
    {
     "name": "stdout",
     "output_type": "stream",
     "text": [
      "[14 15]\n"
     ]
    }
   ],
   "source": [
    "x = np.arange(30).reshape(3,5,2)\n",
    "print(x[1][::2][1])"
   ]
  },
  {
   "cell_type": "code",
   "execution_count": 63,
   "id": "fdb62260",
   "metadata": {},
   "outputs": [
    {
     "name": "stdout",
     "output_type": "stream",
     "text": [
      "[[ 6 -6]\n",
      " [-6  6]]\n"
     ]
    }
   ],
   "source": [
    "x = np.array([[-2], \n",
    "              [2]])\n",
    "\n",
    "y = np.array([[-3, 3]])\n",
    "\n",
    "print(x.dot(y))"
   ]
  },
  {
   "cell_type": "code",
   "execution_count": null,
   "id": "7a4362ea",
   "metadata": {},
   "outputs": [],
   "source": []
  },
  {
   "cell_type": "code",
   "execution_count": null,
   "id": "b66988de",
   "metadata": {},
   "outputs": [],
   "source": []
  }
 ],
 "metadata": {
  "kernelspec": {
   "display_name": "Python 3 (ipykernel)",
   "language": "python",
   "name": "python3"
  },
  "language_info": {
   "codemirror_mode": {
    "name": "ipython",
    "version": 3
   },
   "file_extension": ".py",
   "mimetype": "text/x-python",
   "name": "python",
   "nbconvert_exporter": "python",
   "pygments_lexer": "ipython3",
   "version": "3.11.7"
  }
 },
 "nbformat": 4,
 "nbformat_minor": 5
}
